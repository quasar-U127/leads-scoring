{
 "cells": [
  {
   "cell_type": "markdown",
   "id": "25674b09-6bf4-4b60-baa3-7301030ce4f1",
   "metadata": {},
   "source": [
    "### Importing necessary libraries"
   ]
  },
  {
   "cell_type": "code",
   "execution_count": 110,
   "id": "6916dbb9-ff7f-4d5e-ab46-2e36eac1abd4",
   "metadata": {},
   "outputs": [],
   "source": [
    "import numpy as np\n",
    "import pandas as pd\n",
    "import seaborn as sns\n",
    "import matplotlib.pyplot as plt\n",
    "import warnings\n",
    "warnings.filterwarnings(\"ignore\")\n",
    "pd.set_option(\"display.max_columns\",93)\n",
    "import re\n",
    "from sklearn.model_selection import train_test_split\n",
    "from sklearn.preprocessing import StandardScaler\n",
    "from sklearn.linear_model import LogisticRegression\n",
    "from sklearn.feature_selection import RFE\n",
    "import statsmodels.api as sm\n",
    "from statsmodels.stats.outliers_influence import variance_inflation_factor\n",
    "from sklearn import metrics\n",
    "from sklearn.metrics import precision_recall_curve"
   ]
  },
  {
   "cell_type": "markdown",
   "id": "9560467e-b992-4710-87e8-b188befe756c",
   "metadata": {},
   "source": [
    "### Data loading and overview"
   ]
  },
  {
   "cell_type": "code",
   "execution_count": 2,
   "id": "741829b8-100d-4439-b399-afbfdef4e451",
   "metadata": {},
   "outputs": [],
   "source": [
    "leads_df = pd.read_csv(\"Leads.csv\")"
   ]
  },
  {
   "cell_type": "code",
   "execution_count": 3,
   "id": "a41593b2-209d-4ed1-8e25-188567a4fd94",
   "metadata": {},
   "outputs": [
    {
     "data": {
      "text/html": [
       "<div>\n",
       "<style scoped>\n",
       "    .dataframe tbody tr th:only-of-type {\n",
       "        vertical-align: middle;\n",
       "    }\n",
       "\n",
       "    .dataframe tbody tr th {\n",
       "        vertical-align: top;\n",
       "    }\n",
       "\n",
       "    .dataframe thead th {\n",
       "        text-align: right;\n",
       "    }\n",
       "</style>\n",
       "<table border=\"1\" class=\"dataframe\">\n",
       "  <thead>\n",
       "    <tr style=\"text-align: right;\">\n",
       "      <th></th>\n",
       "      <th>Prospect ID</th>\n",
       "      <th>Lead Number</th>\n",
       "      <th>Lead Origin</th>\n",
       "      <th>Lead Source</th>\n",
       "      <th>Do Not Email</th>\n",
       "      <th>Do Not Call</th>\n",
       "      <th>Converted</th>\n",
       "      <th>TotalVisits</th>\n",
       "      <th>Total Time Spent on Website</th>\n",
       "      <th>Page Views Per Visit</th>\n",
       "      <th>Last Activity</th>\n",
       "      <th>Country</th>\n",
       "      <th>Specialization</th>\n",
       "      <th>How did you hear about X Education</th>\n",
       "      <th>What is your current occupation</th>\n",
       "      <th>What matters most to you in choosing a course</th>\n",
       "      <th>Search</th>\n",
       "      <th>Magazine</th>\n",
       "      <th>Newspaper Article</th>\n",
       "      <th>X Education Forums</th>\n",
       "      <th>Newspaper</th>\n",
       "      <th>Digital Advertisement</th>\n",
       "      <th>Through Recommendations</th>\n",
       "      <th>Receive More Updates About Our Courses</th>\n",
       "      <th>Tags</th>\n",
       "      <th>Lead Quality</th>\n",
       "      <th>Update me on Supply Chain Content</th>\n",
       "      <th>Get updates on DM Content</th>\n",
       "      <th>Lead Profile</th>\n",
       "      <th>City</th>\n",
       "      <th>Asymmetrique Activity Index</th>\n",
       "      <th>Asymmetrique Profile Index</th>\n",
       "      <th>Asymmetrique Activity Score</th>\n",
       "      <th>Asymmetrique Profile Score</th>\n",
       "      <th>I agree to pay the amount through cheque</th>\n",
       "      <th>A free copy of Mastering The Interview</th>\n",
       "      <th>Last Notable Activity</th>\n",
       "    </tr>\n",
       "  </thead>\n",
       "  <tbody>\n",
       "    <tr>\n",
       "      <th>0</th>\n",
       "      <td>7927b2df-8bba-4d29-b9a2-b6e0beafe620</td>\n",
       "      <td>660737</td>\n",
       "      <td>API</td>\n",
       "      <td>Olark Chat</td>\n",
       "      <td>No</td>\n",
       "      <td>No</td>\n",
       "      <td>0</td>\n",
       "      <td>0.0</td>\n",
       "      <td>0</td>\n",
       "      <td>0.00</td>\n",
       "      <td>Page Visited on Website</td>\n",
       "      <td>NaN</td>\n",
       "      <td>Select</td>\n",
       "      <td>Select</td>\n",
       "      <td>Unemployed</td>\n",
       "      <td>Better Career Prospects</td>\n",
       "      <td>No</td>\n",
       "      <td>No</td>\n",
       "      <td>No</td>\n",
       "      <td>No</td>\n",
       "      <td>No</td>\n",
       "      <td>No</td>\n",
       "      <td>No</td>\n",
       "      <td>No</td>\n",
       "      <td>Interested in other courses</td>\n",
       "      <td>Low in Relevance</td>\n",
       "      <td>No</td>\n",
       "      <td>No</td>\n",
       "      <td>Select</td>\n",
       "      <td>Select</td>\n",
       "      <td>02.Medium</td>\n",
       "      <td>02.Medium</td>\n",
       "      <td>15.0</td>\n",
       "      <td>15.0</td>\n",
       "      <td>No</td>\n",
       "      <td>No</td>\n",
       "      <td>Modified</td>\n",
       "    </tr>\n",
       "    <tr>\n",
       "      <th>1</th>\n",
       "      <td>2a272436-5132-4136-86fa-dcc88c88f482</td>\n",
       "      <td>660728</td>\n",
       "      <td>API</td>\n",
       "      <td>Organic Search</td>\n",
       "      <td>No</td>\n",
       "      <td>No</td>\n",
       "      <td>0</td>\n",
       "      <td>5.0</td>\n",
       "      <td>674</td>\n",
       "      <td>2.50</td>\n",
       "      <td>Email Opened</td>\n",
       "      <td>India</td>\n",
       "      <td>Select</td>\n",
       "      <td>Select</td>\n",
       "      <td>Unemployed</td>\n",
       "      <td>Better Career Prospects</td>\n",
       "      <td>No</td>\n",
       "      <td>No</td>\n",
       "      <td>No</td>\n",
       "      <td>No</td>\n",
       "      <td>No</td>\n",
       "      <td>No</td>\n",
       "      <td>No</td>\n",
       "      <td>No</td>\n",
       "      <td>Ringing</td>\n",
       "      <td>NaN</td>\n",
       "      <td>No</td>\n",
       "      <td>No</td>\n",
       "      <td>Select</td>\n",
       "      <td>Select</td>\n",
       "      <td>02.Medium</td>\n",
       "      <td>02.Medium</td>\n",
       "      <td>15.0</td>\n",
       "      <td>15.0</td>\n",
       "      <td>No</td>\n",
       "      <td>No</td>\n",
       "      <td>Email Opened</td>\n",
       "    </tr>\n",
       "    <tr>\n",
       "      <th>2</th>\n",
       "      <td>8cc8c611-a219-4f35-ad23-fdfd2656bd8a</td>\n",
       "      <td>660727</td>\n",
       "      <td>Landing Page Submission</td>\n",
       "      <td>Direct Traffic</td>\n",
       "      <td>No</td>\n",
       "      <td>No</td>\n",
       "      <td>1</td>\n",
       "      <td>2.0</td>\n",
       "      <td>1532</td>\n",
       "      <td>2.00</td>\n",
       "      <td>Email Opened</td>\n",
       "      <td>India</td>\n",
       "      <td>Business Administration</td>\n",
       "      <td>Select</td>\n",
       "      <td>Student</td>\n",
       "      <td>Better Career Prospects</td>\n",
       "      <td>No</td>\n",
       "      <td>No</td>\n",
       "      <td>No</td>\n",
       "      <td>No</td>\n",
       "      <td>No</td>\n",
       "      <td>No</td>\n",
       "      <td>No</td>\n",
       "      <td>No</td>\n",
       "      <td>Will revert after reading the email</td>\n",
       "      <td>Might be</td>\n",
       "      <td>No</td>\n",
       "      <td>No</td>\n",
       "      <td>Potential Lead</td>\n",
       "      <td>Mumbai</td>\n",
       "      <td>02.Medium</td>\n",
       "      <td>01.High</td>\n",
       "      <td>14.0</td>\n",
       "      <td>20.0</td>\n",
       "      <td>No</td>\n",
       "      <td>Yes</td>\n",
       "      <td>Email Opened</td>\n",
       "    </tr>\n",
       "    <tr>\n",
       "      <th>3</th>\n",
       "      <td>0cc2df48-7cf4-4e39-9de9-19797f9b38cc</td>\n",
       "      <td>660719</td>\n",
       "      <td>Landing Page Submission</td>\n",
       "      <td>Direct Traffic</td>\n",
       "      <td>No</td>\n",
       "      <td>No</td>\n",
       "      <td>0</td>\n",
       "      <td>1.0</td>\n",
       "      <td>305</td>\n",
       "      <td>1.00</td>\n",
       "      <td>Unreachable</td>\n",
       "      <td>India</td>\n",
       "      <td>Media and Advertising</td>\n",
       "      <td>Word Of Mouth</td>\n",
       "      <td>Unemployed</td>\n",
       "      <td>Better Career Prospects</td>\n",
       "      <td>No</td>\n",
       "      <td>No</td>\n",
       "      <td>No</td>\n",
       "      <td>No</td>\n",
       "      <td>No</td>\n",
       "      <td>No</td>\n",
       "      <td>No</td>\n",
       "      <td>No</td>\n",
       "      <td>Ringing</td>\n",
       "      <td>Not Sure</td>\n",
       "      <td>No</td>\n",
       "      <td>No</td>\n",
       "      <td>Select</td>\n",
       "      <td>Mumbai</td>\n",
       "      <td>02.Medium</td>\n",
       "      <td>01.High</td>\n",
       "      <td>13.0</td>\n",
       "      <td>17.0</td>\n",
       "      <td>No</td>\n",
       "      <td>No</td>\n",
       "      <td>Modified</td>\n",
       "    </tr>\n",
       "    <tr>\n",
       "      <th>4</th>\n",
       "      <td>3256f628-e534-4826-9d63-4a8b88782852</td>\n",
       "      <td>660681</td>\n",
       "      <td>Landing Page Submission</td>\n",
       "      <td>Google</td>\n",
       "      <td>No</td>\n",
       "      <td>No</td>\n",
       "      <td>1</td>\n",
       "      <td>2.0</td>\n",
       "      <td>1428</td>\n",
       "      <td>1.00</td>\n",
       "      <td>Converted to Lead</td>\n",
       "      <td>India</td>\n",
       "      <td>Select</td>\n",
       "      <td>Other</td>\n",
       "      <td>Unemployed</td>\n",
       "      <td>Better Career Prospects</td>\n",
       "      <td>No</td>\n",
       "      <td>No</td>\n",
       "      <td>No</td>\n",
       "      <td>No</td>\n",
       "      <td>No</td>\n",
       "      <td>No</td>\n",
       "      <td>No</td>\n",
       "      <td>No</td>\n",
       "      <td>Will revert after reading the email</td>\n",
       "      <td>Might be</td>\n",
       "      <td>No</td>\n",
       "      <td>No</td>\n",
       "      <td>Select</td>\n",
       "      <td>Mumbai</td>\n",
       "      <td>02.Medium</td>\n",
       "      <td>01.High</td>\n",
       "      <td>15.0</td>\n",
       "      <td>18.0</td>\n",
       "      <td>No</td>\n",
       "      <td>No</td>\n",
       "      <td>Modified</td>\n",
       "    </tr>\n",
       "    <tr>\n",
       "      <th>5</th>\n",
       "      <td>2058ef08-2858-443e-a01f-a9237db2f5ce</td>\n",
       "      <td>660680</td>\n",
       "      <td>API</td>\n",
       "      <td>Olark Chat</td>\n",
       "      <td>No</td>\n",
       "      <td>No</td>\n",
       "      <td>0</td>\n",
       "      <td>0.0</td>\n",
       "      <td>0</td>\n",
       "      <td>0.00</td>\n",
       "      <td>Olark Chat Conversation</td>\n",
       "      <td>NaN</td>\n",
       "      <td>NaN</td>\n",
       "      <td>NaN</td>\n",
       "      <td>NaN</td>\n",
       "      <td>NaN</td>\n",
       "      <td>No</td>\n",
       "      <td>No</td>\n",
       "      <td>No</td>\n",
       "      <td>No</td>\n",
       "      <td>No</td>\n",
       "      <td>No</td>\n",
       "      <td>No</td>\n",
       "      <td>No</td>\n",
       "      <td>NaN</td>\n",
       "      <td>NaN</td>\n",
       "      <td>No</td>\n",
       "      <td>No</td>\n",
       "      <td>NaN</td>\n",
       "      <td>NaN</td>\n",
       "      <td>01.High</td>\n",
       "      <td>02.Medium</td>\n",
       "      <td>17.0</td>\n",
       "      <td>15.0</td>\n",
       "      <td>No</td>\n",
       "      <td>No</td>\n",
       "      <td>Modified</td>\n",
       "    </tr>\n",
       "    <tr>\n",
       "      <th>6</th>\n",
       "      <td>9fae7df4-169d-489b-afe4-0f3d752542ed</td>\n",
       "      <td>660673</td>\n",
       "      <td>Landing Page Submission</td>\n",
       "      <td>Google</td>\n",
       "      <td>No</td>\n",
       "      <td>No</td>\n",
       "      <td>1</td>\n",
       "      <td>2.0</td>\n",
       "      <td>1640</td>\n",
       "      <td>2.00</td>\n",
       "      <td>Email Opened</td>\n",
       "      <td>India</td>\n",
       "      <td>Supply Chain Management</td>\n",
       "      <td>Online Search</td>\n",
       "      <td>Unemployed</td>\n",
       "      <td>Better Career Prospects</td>\n",
       "      <td>No</td>\n",
       "      <td>No</td>\n",
       "      <td>No</td>\n",
       "      <td>No</td>\n",
       "      <td>No</td>\n",
       "      <td>No</td>\n",
       "      <td>No</td>\n",
       "      <td>No</td>\n",
       "      <td>Will revert after reading the email</td>\n",
       "      <td>Low in Relevance</td>\n",
       "      <td>No</td>\n",
       "      <td>No</td>\n",
       "      <td>Potential Lead</td>\n",
       "      <td>Mumbai</td>\n",
       "      <td>02.Medium</td>\n",
       "      <td>01.High</td>\n",
       "      <td>14.0</td>\n",
       "      <td>20.0</td>\n",
       "      <td>No</td>\n",
       "      <td>No</td>\n",
       "      <td>Modified</td>\n",
       "    </tr>\n",
       "    <tr>\n",
       "      <th>7</th>\n",
       "      <td>20ef72a2-fb3b-45e0-924e-551c5fa59095</td>\n",
       "      <td>660664</td>\n",
       "      <td>API</td>\n",
       "      <td>Olark Chat</td>\n",
       "      <td>No</td>\n",
       "      <td>No</td>\n",
       "      <td>0</td>\n",
       "      <td>0.0</td>\n",
       "      <td>0</td>\n",
       "      <td>0.00</td>\n",
       "      <td>Olark Chat Conversation</td>\n",
       "      <td>NaN</td>\n",
       "      <td>NaN</td>\n",
       "      <td>NaN</td>\n",
       "      <td>NaN</td>\n",
       "      <td>NaN</td>\n",
       "      <td>No</td>\n",
       "      <td>No</td>\n",
       "      <td>No</td>\n",
       "      <td>No</td>\n",
       "      <td>No</td>\n",
       "      <td>No</td>\n",
       "      <td>No</td>\n",
       "      <td>No</td>\n",
       "      <td>NaN</td>\n",
       "      <td>NaN</td>\n",
       "      <td>No</td>\n",
       "      <td>No</td>\n",
       "      <td>NaN</td>\n",
       "      <td>NaN</td>\n",
       "      <td>02.Medium</td>\n",
       "      <td>02.Medium</td>\n",
       "      <td>15.0</td>\n",
       "      <td>15.0</td>\n",
       "      <td>No</td>\n",
       "      <td>No</td>\n",
       "      <td>Modified</td>\n",
       "    </tr>\n",
       "    <tr>\n",
       "      <th>8</th>\n",
       "      <td>cfa0128c-a0da-4656-9d47-0aa4e67bf690</td>\n",
       "      <td>660624</td>\n",
       "      <td>Landing Page Submission</td>\n",
       "      <td>Direct Traffic</td>\n",
       "      <td>No</td>\n",
       "      <td>No</td>\n",
       "      <td>0</td>\n",
       "      <td>2.0</td>\n",
       "      <td>71</td>\n",
       "      <td>2.00</td>\n",
       "      <td>Email Opened</td>\n",
       "      <td>India</td>\n",
       "      <td>IT Projects Management</td>\n",
       "      <td>NaN</td>\n",
       "      <td>NaN</td>\n",
       "      <td>NaN</td>\n",
       "      <td>No</td>\n",
       "      <td>No</td>\n",
       "      <td>No</td>\n",
       "      <td>No</td>\n",
       "      <td>No</td>\n",
       "      <td>No</td>\n",
       "      <td>No</td>\n",
       "      <td>No</td>\n",
       "      <td>NaN</td>\n",
       "      <td>NaN</td>\n",
       "      <td>No</td>\n",
       "      <td>No</td>\n",
       "      <td>NaN</td>\n",
       "      <td>Thane &amp; Outskirts</td>\n",
       "      <td>02.Medium</td>\n",
       "      <td>02.Medium</td>\n",
       "      <td>14.0</td>\n",
       "      <td>14.0</td>\n",
       "      <td>No</td>\n",
       "      <td>Yes</td>\n",
       "      <td>Email Opened</td>\n",
       "    </tr>\n",
       "    <tr>\n",
       "      <th>9</th>\n",
       "      <td>af465dfc-7204-4130-9e05-33231863c4b5</td>\n",
       "      <td>660616</td>\n",
       "      <td>API</td>\n",
       "      <td>Google</td>\n",
       "      <td>No</td>\n",
       "      <td>No</td>\n",
       "      <td>0</td>\n",
       "      <td>4.0</td>\n",
       "      <td>58</td>\n",
       "      <td>4.00</td>\n",
       "      <td>Email Opened</td>\n",
       "      <td>India</td>\n",
       "      <td>Finance Management</td>\n",
       "      <td>Word Of Mouth</td>\n",
       "      <td>NaN</td>\n",
       "      <td>NaN</td>\n",
       "      <td>No</td>\n",
       "      <td>No</td>\n",
       "      <td>No</td>\n",
       "      <td>No</td>\n",
       "      <td>No</td>\n",
       "      <td>No</td>\n",
       "      <td>No</td>\n",
       "      <td>No</td>\n",
       "      <td>NaN</td>\n",
       "      <td>NaN</td>\n",
       "      <td>No</td>\n",
       "      <td>No</td>\n",
       "      <td>NaN</td>\n",
       "      <td>Mumbai</td>\n",
       "      <td>02.Medium</td>\n",
       "      <td>02.Medium</td>\n",
       "      <td>13.0</td>\n",
       "      <td>16.0</td>\n",
       "      <td>No</td>\n",
       "      <td>No</td>\n",
       "      <td>Email Opened</td>\n",
       "    </tr>\n",
       "    <tr>\n",
       "      <th>10</th>\n",
       "      <td>2a369e35-ca95-4ca9-9e4f-9d27175aa320</td>\n",
       "      <td>660608</td>\n",
       "      <td>Landing Page Submission</td>\n",
       "      <td>Organic Search</td>\n",
       "      <td>No</td>\n",
       "      <td>No</td>\n",
       "      <td>1</td>\n",
       "      <td>8.0</td>\n",
       "      <td>1351</td>\n",
       "      <td>8.00</td>\n",
       "      <td>Email Opened</td>\n",
       "      <td>India</td>\n",
       "      <td>Travel and Tourism</td>\n",
       "      <td>Select</td>\n",
       "      <td>Unemployed</td>\n",
       "      <td>Better Career Prospects</td>\n",
       "      <td>No</td>\n",
       "      <td>No</td>\n",
       "      <td>No</td>\n",
       "      <td>No</td>\n",
       "      <td>No</td>\n",
       "      <td>No</td>\n",
       "      <td>No</td>\n",
       "      <td>No</td>\n",
       "      <td>Will revert after reading the email</td>\n",
       "      <td>Might be</td>\n",
       "      <td>No</td>\n",
       "      <td>No</td>\n",
       "      <td>Select</td>\n",
       "      <td>Other Metro Cities</td>\n",
       "      <td>02.Medium</td>\n",
       "      <td>02.Medium</td>\n",
       "      <td>15.0</td>\n",
       "      <td>14.0</td>\n",
       "      <td>No</td>\n",
       "      <td>Yes</td>\n",
       "      <td>Email Opened</td>\n",
       "    </tr>\n",
       "    <tr>\n",
       "      <th>11</th>\n",
       "      <td>9bc8ce93-6144-49e0-9f9d-080fc980f83c</td>\n",
       "      <td>660570</td>\n",
       "      <td>Landing Page Submission</td>\n",
       "      <td>Direct Traffic</td>\n",
       "      <td>No</td>\n",
       "      <td>No</td>\n",
       "      <td>1</td>\n",
       "      <td>8.0</td>\n",
       "      <td>1343</td>\n",
       "      <td>2.67</td>\n",
       "      <td>Page Visited on Website</td>\n",
       "      <td>India</td>\n",
       "      <td>Human Resource Management</td>\n",
       "      <td>Select</td>\n",
       "      <td>Unemployed</td>\n",
       "      <td>Better Career Prospects</td>\n",
       "      <td>No</td>\n",
       "      <td>No</td>\n",
       "      <td>No</td>\n",
       "      <td>No</td>\n",
       "      <td>No</td>\n",
       "      <td>No</td>\n",
       "      <td>No</td>\n",
       "      <td>No</td>\n",
       "      <td>Lost to EINS</td>\n",
       "      <td>NaN</td>\n",
       "      <td>No</td>\n",
       "      <td>No</td>\n",
       "      <td>Select</td>\n",
       "      <td>Thane &amp; Outskirts</td>\n",
       "      <td>02.Medium</td>\n",
       "      <td>01.High</td>\n",
       "      <td>14.0</td>\n",
       "      <td>17.0</td>\n",
       "      <td>No</td>\n",
       "      <td>Yes</td>\n",
       "      <td>Page Visited on Website</td>\n",
       "    </tr>\n",
       "    <tr>\n",
       "      <th>12</th>\n",
       "      <td>8bf76a52-2478-476b-8618-1688e07874ad</td>\n",
       "      <td>660562</td>\n",
       "      <td>API</td>\n",
       "      <td>Organic Search</td>\n",
       "      <td>No</td>\n",
       "      <td>No</td>\n",
       "      <td>1</td>\n",
       "      <td>11.0</td>\n",
       "      <td>1538</td>\n",
       "      <td>11.00</td>\n",
       "      <td>Email Opened</td>\n",
       "      <td>India</td>\n",
       "      <td>Marketing Management</td>\n",
       "      <td>Select</td>\n",
       "      <td>Unemployed</td>\n",
       "      <td>Better Career Prospects</td>\n",
       "      <td>No</td>\n",
       "      <td>No</td>\n",
       "      <td>No</td>\n",
       "      <td>No</td>\n",
       "      <td>No</td>\n",
       "      <td>No</td>\n",
       "      <td>No</td>\n",
       "      <td>No</td>\n",
       "      <td>Will revert after reading the email</td>\n",
       "      <td>Might be</td>\n",
       "      <td>No</td>\n",
       "      <td>No</td>\n",
       "      <td>Potential Lead</td>\n",
       "      <td>Select</td>\n",
       "      <td>01.High</td>\n",
       "      <td>02.Medium</td>\n",
       "      <td>16.0</td>\n",
       "      <td>16.0</td>\n",
       "      <td>No</td>\n",
       "      <td>No</td>\n",
       "      <td>Modified</td>\n",
       "    </tr>\n",
       "    <tr>\n",
       "      <th>13</th>\n",
       "      <td>88867067-3750-4753-8d33-1c7d1db53b5e</td>\n",
       "      <td>660558</td>\n",
       "      <td>Landing Page Submission</td>\n",
       "      <td>Organic Search</td>\n",
       "      <td>No</td>\n",
       "      <td>No</td>\n",
       "      <td>0</td>\n",
       "      <td>5.0</td>\n",
       "      <td>170</td>\n",
       "      <td>5.00</td>\n",
       "      <td>Email Opened</td>\n",
       "      <td>India</td>\n",
       "      <td>Business Administration</td>\n",
       "      <td>Select</td>\n",
       "      <td>Unemployed</td>\n",
       "      <td>Better Career Prospects</td>\n",
       "      <td>No</td>\n",
       "      <td>No</td>\n",
       "      <td>No</td>\n",
       "      <td>No</td>\n",
       "      <td>No</td>\n",
       "      <td>No</td>\n",
       "      <td>No</td>\n",
       "      <td>No</td>\n",
       "      <td>Ringing</td>\n",
       "      <td>NaN</td>\n",
       "      <td>No</td>\n",
       "      <td>No</td>\n",
       "      <td>Select</td>\n",
       "      <td>Thane &amp; Outskirts</td>\n",
       "      <td>02.Medium</td>\n",
       "      <td>01.High</td>\n",
       "      <td>14.0</td>\n",
       "      <td>17.0</td>\n",
       "      <td>No</td>\n",
       "      <td>Yes</td>\n",
       "      <td>Email Opened</td>\n",
       "    </tr>\n",
       "    <tr>\n",
       "      <th>14</th>\n",
       "      <td>a8531c22-fcf1-48f8-a711-fb5abf98ad87</td>\n",
       "      <td>660553</td>\n",
       "      <td>Landing Page Submission</td>\n",
       "      <td>Direct Traffic</td>\n",
       "      <td>Yes</td>\n",
       "      <td>No</td>\n",
       "      <td>0</td>\n",
       "      <td>1.0</td>\n",
       "      <td>481</td>\n",
       "      <td>1.00</td>\n",
       "      <td>Email Bounced</td>\n",
       "      <td>Russia</td>\n",
       "      <td>Business Administration</td>\n",
       "      <td>Select</td>\n",
       "      <td>Unemployed</td>\n",
       "      <td>Better Career Prospects</td>\n",
       "      <td>No</td>\n",
       "      <td>No</td>\n",
       "      <td>No</td>\n",
       "      <td>No</td>\n",
       "      <td>No</td>\n",
       "      <td>No</td>\n",
       "      <td>No</td>\n",
       "      <td>No</td>\n",
       "      <td>NaN</td>\n",
       "      <td>NaN</td>\n",
       "      <td>No</td>\n",
       "      <td>No</td>\n",
       "      <td>Select</td>\n",
       "      <td>Select</td>\n",
       "      <td>01.High</td>\n",
       "      <td>01.High</td>\n",
       "      <td>16.0</td>\n",
       "      <td>17.0</td>\n",
       "      <td>No</td>\n",
       "      <td>No</td>\n",
       "      <td>Email Bounced</td>\n",
       "    </tr>\n",
       "    <tr>\n",
       "      <th>15</th>\n",
       "      <td>25f4ac14-ff4b-4cd2-9c61-b44c85e19c8f</td>\n",
       "      <td>660547</td>\n",
       "      <td>API</td>\n",
       "      <td>Organic Search</td>\n",
       "      <td>No</td>\n",
       "      <td>No</td>\n",
       "      <td>1</td>\n",
       "      <td>6.0</td>\n",
       "      <td>1012</td>\n",
       "      <td>6.00</td>\n",
       "      <td>Email Opened</td>\n",
       "      <td>India</td>\n",
       "      <td>Select</td>\n",
       "      <td>Select</td>\n",
       "      <td>Unemployed</td>\n",
       "      <td>Better Career Prospects</td>\n",
       "      <td>No</td>\n",
       "      <td>No</td>\n",
       "      <td>No</td>\n",
       "      <td>No</td>\n",
       "      <td>No</td>\n",
       "      <td>No</td>\n",
       "      <td>No</td>\n",
       "      <td>No</td>\n",
       "      <td>Will revert after reading the email</td>\n",
       "      <td>Might be</td>\n",
       "      <td>No</td>\n",
       "      <td>No</td>\n",
       "      <td>Select</td>\n",
       "      <td>Select</td>\n",
       "      <td>02.Medium</td>\n",
       "      <td>02.Medium</td>\n",
       "      <td>14.0</td>\n",
       "      <td>15.0</td>\n",
       "      <td>No</td>\n",
       "      <td>No</td>\n",
       "      <td>Email Opened</td>\n",
       "    </tr>\n",
       "    <tr>\n",
       "      <th>16</th>\n",
       "      <td>3abb7c77-1634-4083-9a9f-861068220611</td>\n",
       "      <td>660540</td>\n",
       "      <td>API</td>\n",
       "      <td>Olark Chat</td>\n",
       "      <td>No</td>\n",
       "      <td>No</td>\n",
       "      <td>0</td>\n",
       "      <td>0.0</td>\n",
       "      <td>0</td>\n",
       "      <td>0.00</td>\n",
       "      <td>Olark Chat Conversation</td>\n",
       "      <td>NaN</td>\n",
       "      <td>NaN</td>\n",
       "      <td>NaN</td>\n",
       "      <td>NaN</td>\n",
       "      <td>NaN</td>\n",
       "      <td>No</td>\n",
       "      <td>No</td>\n",
       "      <td>No</td>\n",
       "      <td>No</td>\n",
       "      <td>No</td>\n",
       "      <td>No</td>\n",
       "      <td>No</td>\n",
       "      <td>No</td>\n",
       "      <td>NaN</td>\n",
       "      <td>NaN</td>\n",
       "      <td>No</td>\n",
       "      <td>No</td>\n",
       "      <td>NaN</td>\n",
       "      <td>NaN</td>\n",
       "      <td>01.High</td>\n",
       "      <td>02.Medium</td>\n",
       "      <td>17.0</td>\n",
       "      <td>15.0</td>\n",
       "      <td>No</td>\n",
       "      <td>No</td>\n",
       "      <td>Modified</td>\n",
       "    </tr>\n",
       "    <tr>\n",
       "      <th>17</th>\n",
       "      <td>e5c3beca-a0b6-4b3f-8c01-0919fb9ca3f2</td>\n",
       "      <td>660534</td>\n",
       "      <td>API</td>\n",
       "      <td>Referral Sites</td>\n",
       "      <td>No</td>\n",
       "      <td>No</td>\n",
       "      <td>0</td>\n",
       "      <td>6.0</td>\n",
       "      <td>973</td>\n",
       "      <td>6.00</td>\n",
       "      <td>Email Link Clicked</td>\n",
       "      <td>India</td>\n",
       "      <td>Select</td>\n",
       "      <td>Select</td>\n",
       "      <td>Unemployed</td>\n",
       "      <td>Better Career Prospects</td>\n",
       "      <td>No</td>\n",
       "      <td>No</td>\n",
       "      <td>No</td>\n",
       "      <td>No</td>\n",
       "      <td>No</td>\n",
       "      <td>No</td>\n",
       "      <td>No</td>\n",
       "      <td>No</td>\n",
       "      <td>Interested in other courses</td>\n",
       "      <td>Might be</td>\n",
       "      <td>No</td>\n",
       "      <td>No</td>\n",
       "      <td>Select</td>\n",
       "      <td>Select</td>\n",
       "      <td>02.Medium</td>\n",
       "      <td>02.Medium</td>\n",
       "      <td>13.0</td>\n",
       "      <td>13.0</td>\n",
       "      <td>No</td>\n",
       "      <td>No</td>\n",
       "      <td>Modified</td>\n",
       "    </tr>\n",
       "    <tr>\n",
       "      <th>18</th>\n",
       "      <td>82cb5fb0-2d97-4a39-a630-ab5fe2e7f18c</td>\n",
       "      <td>660522</td>\n",
       "      <td>Landing Page Submission</td>\n",
       "      <td>Google</td>\n",
       "      <td>No</td>\n",
       "      <td>No</td>\n",
       "      <td>1</td>\n",
       "      <td>6.0</td>\n",
       "      <td>1688</td>\n",
       "      <td>3.00</td>\n",
       "      <td>Page Visited on Website</td>\n",
       "      <td>India</td>\n",
       "      <td>Marketing Management</td>\n",
       "      <td>Multiple Sources</td>\n",
       "      <td>Unemployed</td>\n",
       "      <td>Better Career Prospects</td>\n",
       "      <td>No</td>\n",
       "      <td>No</td>\n",
       "      <td>No</td>\n",
       "      <td>No</td>\n",
       "      <td>No</td>\n",
       "      <td>No</td>\n",
       "      <td>No</td>\n",
       "      <td>No</td>\n",
       "      <td>NaN</td>\n",
       "      <td>NaN</td>\n",
       "      <td>No</td>\n",
       "      <td>No</td>\n",
       "      <td>Select</td>\n",
       "      <td>Mumbai</td>\n",
       "      <td>02.Medium</td>\n",
       "      <td>01.High</td>\n",
       "      <td>15.0</td>\n",
       "      <td>18.0</td>\n",
       "      <td>No</td>\n",
       "      <td>No</td>\n",
       "      <td>Page Visited on Website</td>\n",
       "    </tr>\n",
       "    <tr>\n",
       "      <th>19</th>\n",
       "      <td>4512c16a-e96a-4459-b9ec-c7d8fe8c4880</td>\n",
       "      <td>660509</td>\n",
       "      <td>API</td>\n",
       "      <td>Organic Search</td>\n",
       "      <td>No</td>\n",
       "      <td>No</td>\n",
       "      <td>0</td>\n",
       "      <td>3.0</td>\n",
       "      <td>98</td>\n",
       "      <td>3.00</td>\n",
       "      <td>Page Visited on Website</td>\n",
       "      <td>India</td>\n",
       "      <td>Select</td>\n",
       "      <td>Select</td>\n",
       "      <td>Unemployed</td>\n",
       "      <td>Better Career Prospects</td>\n",
       "      <td>No</td>\n",
       "      <td>No</td>\n",
       "      <td>No</td>\n",
       "      <td>No</td>\n",
       "      <td>No</td>\n",
       "      <td>No</td>\n",
       "      <td>No</td>\n",
       "      <td>No</td>\n",
       "      <td>Interested in other courses</td>\n",
       "      <td>Worst</td>\n",
       "      <td>No</td>\n",
       "      <td>No</td>\n",
       "      <td>Select</td>\n",
       "      <td>Select</td>\n",
       "      <td>02.Medium</td>\n",
       "      <td>02.Medium</td>\n",
       "      <td>14.0</td>\n",
       "      <td>15.0</td>\n",
       "      <td>No</td>\n",
       "      <td>No</td>\n",
       "      <td>Modified</td>\n",
       "    </tr>\n",
       "    <tr>\n",
       "      <th>20</th>\n",
       "      <td>c4419c99-b002-408b-a6fd-fa100716592c</td>\n",
       "      <td>660479</td>\n",
       "      <td>Landing Page Submission</td>\n",
       "      <td>Google</td>\n",
       "      <td>No</td>\n",
       "      <td>No</td>\n",
       "      <td>0</td>\n",
       "      <td>1.0</td>\n",
       "      <td>233</td>\n",
       "      <td>1.00</td>\n",
       "      <td>Unreachable</td>\n",
       "      <td>India</td>\n",
       "      <td>Media and Advertising</td>\n",
       "      <td>Online Search</td>\n",
       "      <td>Unemployed</td>\n",
       "      <td>Better Career Prospects</td>\n",
       "      <td>No</td>\n",
       "      <td>No</td>\n",
       "      <td>No</td>\n",
       "      <td>No</td>\n",
       "      <td>No</td>\n",
       "      <td>No</td>\n",
       "      <td>No</td>\n",
       "      <td>No</td>\n",
       "      <td>Interested in other courses</td>\n",
       "      <td>Not Sure</td>\n",
       "      <td>No</td>\n",
       "      <td>No</td>\n",
       "      <td>Select</td>\n",
       "      <td>Mumbai</td>\n",
       "      <td>02.Medium</td>\n",
       "      <td>01.High</td>\n",
       "      <td>13.0</td>\n",
       "      <td>17.0</td>\n",
       "      <td>No</td>\n",
       "      <td>No</td>\n",
       "      <td>Modified</td>\n",
       "    </tr>\n",
       "    <tr>\n",
       "      <th>21</th>\n",
       "      <td>fd71ab5b-53b8-4105-9960-efedc44962fa</td>\n",
       "      <td>660478</td>\n",
       "      <td>API</td>\n",
       "      <td>Google</td>\n",
       "      <td>No</td>\n",
       "      <td>No</td>\n",
       "      <td>0</td>\n",
       "      <td>4.0</td>\n",
       "      <td>377</td>\n",
       "      <td>1.33</td>\n",
       "      <td>Page Visited on Website</td>\n",
       "      <td>India</td>\n",
       "      <td>Select</td>\n",
       "      <td>Select</td>\n",
       "      <td>Unemployed</td>\n",
       "      <td>Better Career Prospects</td>\n",
       "      <td>No</td>\n",
       "      <td>No</td>\n",
       "      <td>No</td>\n",
       "      <td>No</td>\n",
       "      <td>No</td>\n",
       "      <td>No</td>\n",
       "      <td>No</td>\n",
       "      <td>No</td>\n",
       "      <td>In confusion whether part time or DLP</td>\n",
       "      <td>Worst</td>\n",
       "      <td>No</td>\n",
       "      <td>No</td>\n",
       "      <td>Potential Lead</td>\n",
       "      <td>Select</td>\n",
       "      <td>02.Medium</td>\n",
       "      <td>02.Medium</td>\n",
       "      <td>15.0</td>\n",
       "      <td>16.0</td>\n",
       "      <td>No</td>\n",
       "      <td>No</td>\n",
       "      <td>Modified</td>\n",
       "    </tr>\n",
       "    <tr>\n",
       "      <th>22</th>\n",
       "      <td>8fd38b83-5c32-4277-bcfb-499f34a01c56</td>\n",
       "      <td>660471</td>\n",
       "      <td>Landing Page Submission</td>\n",
       "      <td>Google</td>\n",
       "      <td>No</td>\n",
       "      <td>No</td>\n",
       "      <td>1</td>\n",
       "      <td>1.0</td>\n",
       "      <td>1013</td>\n",
       "      <td>1.00</td>\n",
       "      <td>Converted to Lead</td>\n",
       "      <td>India</td>\n",
       "      <td>Banking, Investment And Insurance</td>\n",
       "      <td>Advertisements</td>\n",
       "      <td>Unemployed</td>\n",
       "      <td>Better Career Prospects</td>\n",
       "      <td>No</td>\n",
       "      <td>No</td>\n",
       "      <td>No</td>\n",
       "      <td>No</td>\n",
       "      <td>No</td>\n",
       "      <td>No</td>\n",
       "      <td>No</td>\n",
       "      <td>No</td>\n",
       "      <td>Will revert after reading the email</td>\n",
       "      <td>Low in Relevance</td>\n",
       "      <td>No</td>\n",
       "      <td>No</td>\n",
       "      <td>Potential Lead</td>\n",
       "      <td>Mumbai</td>\n",
       "      <td>02.Medium</td>\n",
       "      <td>01.High</td>\n",
       "      <td>15.0</td>\n",
       "      <td>20.0</td>\n",
       "      <td>No</td>\n",
       "      <td>No</td>\n",
       "      <td>Modified</td>\n",
       "    </tr>\n",
       "  </tbody>\n",
       "</table>\n",
       "</div>"
      ],
      "text/plain": [
       "                             Prospect ID  Lead Number  \\\n",
       "0   7927b2df-8bba-4d29-b9a2-b6e0beafe620       660737   \n",
       "1   2a272436-5132-4136-86fa-dcc88c88f482       660728   \n",
       "2   8cc8c611-a219-4f35-ad23-fdfd2656bd8a       660727   \n",
       "3   0cc2df48-7cf4-4e39-9de9-19797f9b38cc       660719   \n",
       "4   3256f628-e534-4826-9d63-4a8b88782852       660681   \n",
       "5   2058ef08-2858-443e-a01f-a9237db2f5ce       660680   \n",
       "6   9fae7df4-169d-489b-afe4-0f3d752542ed       660673   \n",
       "7   20ef72a2-fb3b-45e0-924e-551c5fa59095       660664   \n",
       "8   cfa0128c-a0da-4656-9d47-0aa4e67bf690       660624   \n",
       "9   af465dfc-7204-4130-9e05-33231863c4b5       660616   \n",
       "10  2a369e35-ca95-4ca9-9e4f-9d27175aa320       660608   \n",
       "11  9bc8ce93-6144-49e0-9f9d-080fc980f83c       660570   \n",
       "12  8bf76a52-2478-476b-8618-1688e07874ad       660562   \n",
       "13  88867067-3750-4753-8d33-1c7d1db53b5e       660558   \n",
       "14  a8531c22-fcf1-48f8-a711-fb5abf98ad87       660553   \n",
       "15  25f4ac14-ff4b-4cd2-9c61-b44c85e19c8f       660547   \n",
       "16  3abb7c77-1634-4083-9a9f-861068220611       660540   \n",
       "17  e5c3beca-a0b6-4b3f-8c01-0919fb9ca3f2       660534   \n",
       "18  82cb5fb0-2d97-4a39-a630-ab5fe2e7f18c       660522   \n",
       "19  4512c16a-e96a-4459-b9ec-c7d8fe8c4880       660509   \n",
       "20  c4419c99-b002-408b-a6fd-fa100716592c       660479   \n",
       "21  fd71ab5b-53b8-4105-9960-efedc44962fa       660478   \n",
       "22  8fd38b83-5c32-4277-bcfb-499f34a01c56       660471   \n",
       "\n",
       "                Lead Origin     Lead Source Do Not Email Do Not Call  \\\n",
       "0                       API      Olark Chat           No          No   \n",
       "1                       API  Organic Search           No          No   \n",
       "2   Landing Page Submission  Direct Traffic           No          No   \n",
       "3   Landing Page Submission  Direct Traffic           No          No   \n",
       "4   Landing Page Submission          Google           No          No   \n",
       "5                       API      Olark Chat           No          No   \n",
       "6   Landing Page Submission          Google           No          No   \n",
       "7                       API      Olark Chat           No          No   \n",
       "8   Landing Page Submission  Direct Traffic           No          No   \n",
       "9                       API          Google           No          No   \n",
       "10  Landing Page Submission  Organic Search           No          No   \n",
       "11  Landing Page Submission  Direct Traffic           No          No   \n",
       "12                      API  Organic Search           No          No   \n",
       "13  Landing Page Submission  Organic Search           No          No   \n",
       "14  Landing Page Submission  Direct Traffic          Yes          No   \n",
       "15                      API  Organic Search           No          No   \n",
       "16                      API      Olark Chat           No          No   \n",
       "17                      API  Referral Sites           No          No   \n",
       "18  Landing Page Submission          Google           No          No   \n",
       "19                      API  Organic Search           No          No   \n",
       "20  Landing Page Submission          Google           No          No   \n",
       "21                      API          Google           No          No   \n",
       "22  Landing Page Submission          Google           No          No   \n",
       "\n",
       "    Converted  TotalVisits  Total Time Spent on Website  Page Views Per Visit  \\\n",
       "0           0          0.0                            0                  0.00   \n",
       "1           0          5.0                          674                  2.50   \n",
       "2           1          2.0                         1532                  2.00   \n",
       "3           0          1.0                          305                  1.00   \n",
       "4           1          2.0                         1428                  1.00   \n",
       "5           0          0.0                            0                  0.00   \n",
       "6           1          2.0                         1640                  2.00   \n",
       "7           0          0.0                            0                  0.00   \n",
       "8           0          2.0                           71                  2.00   \n",
       "9           0          4.0                           58                  4.00   \n",
       "10          1          8.0                         1351                  8.00   \n",
       "11          1          8.0                         1343                  2.67   \n",
       "12          1         11.0                         1538                 11.00   \n",
       "13          0          5.0                          170                  5.00   \n",
       "14          0          1.0                          481                  1.00   \n",
       "15          1          6.0                         1012                  6.00   \n",
       "16          0          0.0                            0                  0.00   \n",
       "17          0          6.0                          973                  6.00   \n",
       "18          1          6.0                         1688                  3.00   \n",
       "19          0          3.0                           98                  3.00   \n",
       "20          0          1.0                          233                  1.00   \n",
       "21          0          4.0                          377                  1.33   \n",
       "22          1          1.0                         1013                  1.00   \n",
       "\n",
       "              Last Activity Country                     Specialization  \\\n",
       "0   Page Visited on Website     NaN                             Select   \n",
       "1              Email Opened   India                             Select   \n",
       "2              Email Opened   India            Business Administration   \n",
       "3               Unreachable   India              Media and Advertising   \n",
       "4         Converted to Lead   India                             Select   \n",
       "5   Olark Chat Conversation     NaN                                NaN   \n",
       "6              Email Opened   India            Supply Chain Management   \n",
       "7   Olark Chat Conversation     NaN                                NaN   \n",
       "8              Email Opened   India             IT Projects Management   \n",
       "9              Email Opened   India                 Finance Management   \n",
       "10             Email Opened   India                 Travel and Tourism   \n",
       "11  Page Visited on Website   India          Human Resource Management   \n",
       "12             Email Opened   India               Marketing Management   \n",
       "13             Email Opened   India            Business Administration   \n",
       "14            Email Bounced  Russia            Business Administration   \n",
       "15             Email Opened   India                             Select   \n",
       "16  Olark Chat Conversation     NaN                                NaN   \n",
       "17       Email Link Clicked   India                             Select   \n",
       "18  Page Visited on Website   India               Marketing Management   \n",
       "19  Page Visited on Website   India                             Select   \n",
       "20              Unreachable   India              Media and Advertising   \n",
       "21  Page Visited on Website   India                             Select   \n",
       "22        Converted to Lead   India  Banking, Investment And Insurance   \n",
       "\n",
       "   How did you hear about X Education What is your current occupation  \\\n",
       "0                              Select                      Unemployed   \n",
       "1                              Select                      Unemployed   \n",
       "2                              Select                         Student   \n",
       "3                       Word Of Mouth                      Unemployed   \n",
       "4                               Other                      Unemployed   \n",
       "5                                 NaN                             NaN   \n",
       "6                       Online Search                      Unemployed   \n",
       "7                                 NaN                             NaN   \n",
       "8                                 NaN                             NaN   \n",
       "9                       Word Of Mouth                             NaN   \n",
       "10                             Select                      Unemployed   \n",
       "11                             Select                      Unemployed   \n",
       "12                             Select                      Unemployed   \n",
       "13                             Select                      Unemployed   \n",
       "14                             Select                      Unemployed   \n",
       "15                             Select                      Unemployed   \n",
       "16                                NaN                             NaN   \n",
       "17                             Select                      Unemployed   \n",
       "18                   Multiple Sources                      Unemployed   \n",
       "19                             Select                      Unemployed   \n",
       "20                      Online Search                      Unemployed   \n",
       "21                             Select                      Unemployed   \n",
       "22                     Advertisements                      Unemployed   \n",
       "\n",
       "   What matters most to you in choosing a course Search Magazine  \\\n",
       "0                        Better Career Prospects     No       No   \n",
       "1                        Better Career Prospects     No       No   \n",
       "2                        Better Career Prospects     No       No   \n",
       "3                        Better Career Prospects     No       No   \n",
       "4                        Better Career Prospects     No       No   \n",
       "5                                            NaN     No       No   \n",
       "6                        Better Career Prospects     No       No   \n",
       "7                                            NaN     No       No   \n",
       "8                                            NaN     No       No   \n",
       "9                                            NaN     No       No   \n",
       "10                       Better Career Prospects     No       No   \n",
       "11                       Better Career Prospects     No       No   \n",
       "12                       Better Career Prospects     No       No   \n",
       "13                       Better Career Prospects     No       No   \n",
       "14                       Better Career Prospects     No       No   \n",
       "15                       Better Career Prospects     No       No   \n",
       "16                                           NaN     No       No   \n",
       "17                       Better Career Prospects     No       No   \n",
       "18                       Better Career Prospects     No       No   \n",
       "19                       Better Career Prospects     No       No   \n",
       "20                       Better Career Prospects     No       No   \n",
       "21                       Better Career Prospects     No       No   \n",
       "22                       Better Career Prospects     No       No   \n",
       "\n",
       "   Newspaper Article X Education Forums Newspaper Digital Advertisement  \\\n",
       "0                 No                 No        No                    No   \n",
       "1                 No                 No        No                    No   \n",
       "2                 No                 No        No                    No   \n",
       "3                 No                 No        No                    No   \n",
       "4                 No                 No        No                    No   \n",
       "5                 No                 No        No                    No   \n",
       "6                 No                 No        No                    No   \n",
       "7                 No                 No        No                    No   \n",
       "8                 No                 No        No                    No   \n",
       "9                 No                 No        No                    No   \n",
       "10                No                 No        No                    No   \n",
       "11                No                 No        No                    No   \n",
       "12                No                 No        No                    No   \n",
       "13                No                 No        No                    No   \n",
       "14                No                 No        No                    No   \n",
       "15                No                 No        No                    No   \n",
       "16                No                 No        No                    No   \n",
       "17                No                 No        No                    No   \n",
       "18                No                 No        No                    No   \n",
       "19                No                 No        No                    No   \n",
       "20                No                 No        No                    No   \n",
       "21                No                 No        No                    No   \n",
       "22                No                 No        No                    No   \n",
       "\n",
       "   Through Recommendations Receive More Updates About Our Courses  \\\n",
       "0                       No                                     No   \n",
       "1                       No                                     No   \n",
       "2                       No                                     No   \n",
       "3                       No                                     No   \n",
       "4                       No                                     No   \n",
       "5                       No                                     No   \n",
       "6                       No                                     No   \n",
       "7                       No                                     No   \n",
       "8                       No                                     No   \n",
       "9                       No                                     No   \n",
       "10                      No                                     No   \n",
       "11                      No                                     No   \n",
       "12                      No                                     No   \n",
       "13                      No                                     No   \n",
       "14                      No                                     No   \n",
       "15                      No                                     No   \n",
       "16                      No                                     No   \n",
       "17                      No                                     No   \n",
       "18                      No                                     No   \n",
       "19                      No                                     No   \n",
       "20                      No                                     No   \n",
       "21                      No                                     No   \n",
       "22                      No                                     No   \n",
       "\n",
       "                                     Tags      Lead Quality  \\\n",
       "0             Interested in other courses  Low in Relevance   \n",
       "1                                 Ringing               NaN   \n",
       "2     Will revert after reading the email          Might be   \n",
       "3                                 Ringing          Not Sure   \n",
       "4     Will revert after reading the email          Might be   \n",
       "5                                     NaN               NaN   \n",
       "6     Will revert after reading the email  Low in Relevance   \n",
       "7                                     NaN               NaN   \n",
       "8                                     NaN               NaN   \n",
       "9                                     NaN               NaN   \n",
       "10    Will revert after reading the email          Might be   \n",
       "11                           Lost to EINS               NaN   \n",
       "12    Will revert after reading the email          Might be   \n",
       "13                                Ringing               NaN   \n",
       "14                                    NaN               NaN   \n",
       "15    Will revert after reading the email          Might be   \n",
       "16                                    NaN               NaN   \n",
       "17            Interested in other courses          Might be   \n",
       "18                                    NaN               NaN   \n",
       "19            Interested in other courses             Worst   \n",
       "20            Interested in other courses          Not Sure   \n",
       "21  In confusion whether part time or DLP             Worst   \n",
       "22    Will revert after reading the email  Low in Relevance   \n",
       "\n",
       "   Update me on Supply Chain Content Get updates on DM Content  \\\n",
       "0                                 No                        No   \n",
       "1                                 No                        No   \n",
       "2                                 No                        No   \n",
       "3                                 No                        No   \n",
       "4                                 No                        No   \n",
       "5                                 No                        No   \n",
       "6                                 No                        No   \n",
       "7                                 No                        No   \n",
       "8                                 No                        No   \n",
       "9                                 No                        No   \n",
       "10                                No                        No   \n",
       "11                                No                        No   \n",
       "12                                No                        No   \n",
       "13                                No                        No   \n",
       "14                                No                        No   \n",
       "15                                No                        No   \n",
       "16                                No                        No   \n",
       "17                                No                        No   \n",
       "18                                No                        No   \n",
       "19                                No                        No   \n",
       "20                                No                        No   \n",
       "21                                No                        No   \n",
       "22                                No                        No   \n",
       "\n",
       "      Lead Profile                City Asymmetrique Activity Index  \\\n",
       "0           Select              Select                   02.Medium   \n",
       "1           Select              Select                   02.Medium   \n",
       "2   Potential Lead              Mumbai                   02.Medium   \n",
       "3           Select              Mumbai                   02.Medium   \n",
       "4           Select              Mumbai                   02.Medium   \n",
       "5              NaN                 NaN                     01.High   \n",
       "6   Potential Lead              Mumbai                   02.Medium   \n",
       "7              NaN                 NaN                   02.Medium   \n",
       "8              NaN   Thane & Outskirts                   02.Medium   \n",
       "9              NaN              Mumbai                   02.Medium   \n",
       "10          Select  Other Metro Cities                   02.Medium   \n",
       "11          Select   Thane & Outskirts                   02.Medium   \n",
       "12  Potential Lead              Select                     01.High   \n",
       "13          Select   Thane & Outskirts                   02.Medium   \n",
       "14          Select              Select                     01.High   \n",
       "15          Select              Select                   02.Medium   \n",
       "16             NaN                 NaN                     01.High   \n",
       "17          Select              Select                   02.Medium   \n",
       "18          Select              Mumbai                   02.Medium   \n",
       "19          Select              Select                   02.Medium   \n",
       "20          Select              Mumbai                   02.Medium   \n",
       "21  Potential Lead              Select                   02.Medium   \n",
       "22  Potential Lead              Mumbai                   02.Medium   \n",
       "\n",
       "   Asymmetrique Profile Index  Asymmetrique Activity Score  \\\n",
       "0                   02.Medium                         15.0   \n",
       "1                   02.Medium                         15.0   \n",
       "2                     01.High                         14.0   \n",
       "3                     01.High                         13.0   \n",
       "4                     01.High                         15.0   \n",
       "5                   02.Medium                         17.0   \n",
       "6                     01.High                         14.0   \n",
       "7                   02.Medium                         15.0   \n",
       "8                   02.Medium                         14.0   \n",
       "9                   02.Medium                         13.0   \n",
       "10                  02.Medium                         15.0   \n",
       "11                    01.High                         14.0   \n",
       "12                  02.Medium                         16.0   \n",
       "13                    01.High                         14.0   \n",
       "14                    01.High                         16.0   \n",
       "15                  02.Medium                         14.0   \n",
       "16                  02.Medium                         17.0   \n",
       "17                  02.Medium                         13.0   \n",
       "18                    01.High                         15.0   \n",
       "19                  02.Medium                         14.0   \n",
       "20                    01.High                         13.0   \n",
       "21                  02.Medium                         15.0   \n",
       "22                    01.High                         15.0   \n",
       "\n",
       "    Asymmetrique Profile Score I agree to pay the amount through cheque  \\\n",
       "0                         15.0                                       No   \n",
       "1                         15.0                                       No   \n",
       "2                         20.0                                       No   \n",
       "3                         17.0                                       No   \n",
       "4                         18.0                                       No   \n",
       "5                         15.0                                       No   \n",
       "6                         20.0                                       No   \n",
       "7                         15.0                                       No   \n",
       "8                         14.0                                       No   \n",
       "9                         16.0                                       No   \n",
       "10                        14.0                                       No   \n",
       "11                        17.0                                       No   \n",
       "12                        16.0                                       No   \n",
       "13                        17.0                                       No   \n",
       "14                        17.0                                       No   \n",
       "15                        15.0                                       No   \n",
       "16                        15.0                                       No   \n",
       "17                        13.0                                       No   \n",
       "18                        18.0                                       No   \n",
       "19                        15.0                                       No   \n",
       "20                        17.0                                       No   \n",
       "21                        16.0                                       No   \n",
       "22                        20.0                                       No   \n",
       "\n",
       "   A free copy of Mastering The Interview    Last Notable Activity  \n",
       "0                                      No                 Modified  \n",
       "1                                      No             Email Opened  \n",
       "2                                     Yes             Email Opened  \n",
       "3                                      No                 Modified  \n",
       "4                                      No                 Modified  \n",
       "5                                      No                 Modified  \n",
       "6                                      No                 Modified  \n",
       "7                                      No                 Modified  \n",
       "8                                     Yes             Email Opened  \n",
       "9                                      No             Email Opened  \n",
       "10                                    Yes             Email Opened  \n",
       "11                                    Yes  Page Visited on Website  \n",
       "12                                     No                 Modified  \n",
       "13                                    Yes             Email Opened  \n",
       "14                                     No            Email Bounced  \n",
       "15                                     No             Email Opened  \n",
       "16                                     No                 Modified  \n",
       "17                                     No                 Modified  \n",
       "18                                     No  Page Visited on Website  \n",
       "19                                     No                 Modified  \n",
       "20                                     No                 Modified  \n",
       "21                                     No                 Modified  \n",
       "22                                     No                 Modified  "
      ]
     },
     "execution_count": 3,
     "metadata": {},
     "output_type": "execute_result"
    }
   ],
   "source": [
    "leads_df.head(23)"
   ]
  },
  {
   "cell_type": "code",
   "execution_count": 4,
   "id": "ef9d80c8-260e-4de4-8148-289266d8740d",
   "metadata": {},
   "outputs": [
    {
     "data": {
      "text/plain": [
       "(9240, 37)"
      ]
     },
     "execution_count": 4,
     "metadata": {},
     "output_type": "execute_result"
    }
   ],
   "source": [
    "leads_df.shape"
   ]
  },
  {
   "cell_type": "markdown",
   "id": "deb67991-382a-428a-8355-41878eb7df4f",
   "metadata": {},
   "source": [
    "No of rows : 9240\n",
    "\n",
    "No of columns : 37"
   ]
  },
  {
   "cell_type": "code",
   "execution_count": 5,
   "id": "02c37eff-8e49-4c0b-a903-a37e79db1738",
   "metadata": {},
   "outputs": [
    {
     "name": "stdout",
     "output_type": "stream",
     "text": [
      "<class 'pandas.core.frame.DataFrame'>\n",
      "RangeIndex: 9240 entries, 0 to 9239\n",
      "Data columns (total 37 columns):\n",
      " #   Column                                         Non-Null Count  Dtype  \n",
      "---  ------                                         --------------  -----  \n",
      " 0   Prospect ID                                    9240 non-null   object \n",
      " 1   Lead Number                                    9240 non-null   int64  \n",
      " 2   Lead Origin                                    9240 non-null   object \n",
      " 3   Lead Source                                    9204 non-null   object \n",
      " 4   Do Not Email                                   9240 non-null   object \n",
      " 5   Do Not Call                                    9240 non-null   object \n",
      " 6   Converted                                      9240 non-null   int64  \n",
      " 7   TotalVisits                                    9103 non-null   float64\n",
      " 8   Total Time Spent on Website                    9240 non-null   int64  \n",
      " 9   Page Views Per Visit                           9103 non-null   float64\n",
      " 10  Last Activity                                  9137 non-null   object \n",
      " 11  Country                                        6779 non-null   object \n",
      " 12  Specialization                                 7802 non-null   object \n",
      " 13  How did you hear about X Education             7033 non-null   object \n",
      " 14  What is your current occupation                6550 non-null   object \n",
      " 15  What matters most to you in choosing a course  6531 non-null   object \n",
      " 16  Search                                         9240 non-null   object \n",
      " 17  Magazine                                       9240 non-null   object \n",
      " 18  Newspaper Article                              9240 non-null   object \n",
      " 19  X Education Forums                             9240 non-null   object \n",
      " 20  Newspaper                                      9240 non-null   object \n",
      " 21  Digital Advertisement                          9240 non-null   object \n",
      " 22  Through Recommendations                        9240 non-null   object \n",
      " 23  Receive More Updates About Our Courses         9240 non-null   object \n",
      " 24  Tags                                           5887 non-null   object \n",
      " 25  Lead Quality                                   4473 non-null   object \n",
      " 26  Update me on Supply Chain Content              9240 non-null   object \n",
      " 27  Get updates on DM Content                      9240 non-null   object \n",
      " 28  Lead Profile                                   6531 non-null   object \n",
      " 29  City                                           7820 non-null   object \n",
      " 30  Asymmetrique Activity Index                    5022 non-null   object \n",
      " 31  Asymmetrique Profile Index                     5022 non-null   object \n",
      " 32  Asymmetrique Activity Score                    5022 non-null   float64\n",
      " 33  Asymmetrique Profile Score                     5022 non-null   float64\n",
      " 34  I agree to pay the amount through cheque       9240 non-null   object \n",
      " 35  A free copy of Mastering The Interview         9240 non-null   object \n",
      " 36  Last Notable Activity                          9240 non-null   object \n",
      "dtypes: float64(4), int64(3), object(30)\n",
      "memory usage: 2.6+ MB\n"
     ]
    }
   ],
   "source": [
    "leads_df.info()"
   ]
  },
  {
   "cell_type": "markdown",
   "id": "fdcec0af-4fbe-406c-aeab-19dc69719c6a",
   "metadata": {},
   "source": [
    "#### Checking the unique values in each column"
   ]
  },
  {
   "cell_type": "code",
   "execution_count": 6,
   "id": "12dba78f-cfd1-4306-9867-907401442504",
   "metadata": {},
   "outputs": [
    {
     "name": "stdout",
     "output_type": "stream",
     "text": [
      "Prospect ID :\n",
      "['7927b2df-8bba-4d29-b9a2-b6e0beafe620'\n",
      " '2a272436-5132-4136-86fa-dcc88c88f482'\n",
      " '8cc8c611-a219-4f35-ad23-fdfd2656bd8a' ...\n",
      " 'aac550fe-a586-452d-8d3c-f1b62c94e02c'\n",
      " '5330a7d1-2f2b-4df4-85d6-64ca2f6b95b9'\n",
      " '571b5c8e-a5b2-4d57-8574-f2ffb06fdeff']\n",
      "----------------------------\n",
      "Lead Number :\n",
      "[660737 660728 660727 ... 579545 579538 579533]\n",
      "----------------------------\n",
      "Lead Origin :\n",
      "['API' 'Landing Page Submission' 'Lead Add Form' 'Lead Import'\n",
      " 'Quick Add Form']\n",
      "----------------------------\n",
      "Lead Source :\n",
      "['Olark Chat' 'Organic Search' 'Direct Traffic' 'Google' 'Referral Sites'\n",
      " 'Welingak Website' 'Reference' 'google' 'Facebook' nan 'blog'\n",
      " 'Pay per Click Ads' 'bing' 'Social Media' 'WeLearn' 'Click2call'\n",
      " 'Live Chat' 'welearnblog_Home' 'youtubechannel' 'testone' 'Press_Release'\n",
      " 'NC_EDM']\n",
      "----------------------------\n",
      "Do Not Email :\n",
      "['No' 'Yes']\n",
      "----------------------------\n",
      "Do Not Call :\n",
      "['No' 'Yes']\n",
      "----------------------------\n",
      "Converted :\n",
      "[0 1]\n",
      "----------------------------\n",
      "TotalVisits :\n",
      "[  0.   5.   2.   1.   4.   8.  11.   6.   3.   7.  13.  17.  nan   9.\n",
      "  12.  10.  16.  14.  21.  15.  22.  19.  18.  20.  43.  30.  23.  55.\n",
      " 141.  25.  27.  29.  24.  28.  26.  74.  41.  54. 115. 251.  32.  42.]\n",
      "----------------------------\n",
      "Total Time Spent on Website :\n",
      "[   0  674 1532 ...  603  483  927]\n",
      "----------------------------\n",
      "Page Views Per Visit :\n",
      "[ 0.    2.5   2.    1.    4.    8.    2.67 11.    5.    6.    3.    1.33\n",
      "  1.5   3.5   7.    2.33 13.    8.5   5.5   1.67   nan  4.5   3.33 16.\n",
      " 12.    1.71  1.8   6.5   4.33 14.    3.4  10.    1.25  1.75  2.63 15.\n",
      "  2.25  3.67  1.43  9.    2.6   4.75  1.27  3.25  5.33  2.57  2.17  2.75\n",
      "  2.8   2.2   2.86  3.91  1.4   5.67  3.2   1.38  2.09  2.4  55.    5.25\n",
      "  6.71  3.57  2.22  1.83  3.6   1.2   1.57  1.56  5.4   4.25  1.31  1.6\n",
      "  2.9   1.23  1.78  3.83  7.5   1.14  2.71  1.45  2.38  1.86  2.29  1.21\n",
      " 12.33  3.43  2.56  6.33  1.64  8.21  4.4   3.17  8.33  1.48  1.22 24.\n",
      "  3.75  6.67  1.54  2.13  2.14  2.45  3.29  4.17  1.63  3.38  1.17 14.5\n",
      "  3.8   1.19  3.82  2.83  1.93 11.5   2.08]\n",
      "----------------------------\n",
      "Last Activity :\n",
      "['Page Visited on Website' 'Email Opened' 'Unreachable'\n",
      " 'Converted to Lead' 'Olark Chat Conversation' 'Email Bounced'\n",
      " 'Email Link Clicked' 'Form Submitted on Website' 'Unsubscribed'\n",
      " 'Had a Phone Conversation' 'View in browser link Clicked' nan\n",
      " 'Approached upfront' 'SMS Sent' 'Visited Booth in Tradeshow'\n",
      " 'Resubscribed to emails' 'Email Received' 'Email Marked Spam']\n",
      "----------------------------\n",
      "Country :\n",
      "[nan 'India' 'Russia' 'Kuwait' 'Oman' 'United Arab Emirates'\n",
      " 'United States' 'Australia' 'United Kingdom' 'Bahrain' 'Ghana'\n",
      " 'Singapore' 'Qatar' 'Saudi Arabia' 'Belgium' 'France' 'Sri Lanka' 'China'\n",
      " 'Canada' 'Netherlands' 'Sweden' 'Nigeria' 'Hong Kong' 'Germany'\n",
      " 'Asia/Pacific Region' 'Uganda' 'Kenya' 'Italy' 'South Africa' 'Tanzania'\n",
      " 'unknown' 'Malaysia' 'Liberia' 'Switzerland' 'Denmark' 'Philippines'\n",
      " 'Bangladesh' 'Vietnam' 'Indonesia']\n",
      "----------------------------\n",
      "Specialization :\n",
      "['Select' 'Business Administration' 'Media and Advertising' nan\n",
      " 'Supply Chain Management' 'IT Projects Management' 'Finance Management'\n",
      " 'Travel and Tourism' 'Human Resource Management' 'Marketing Management'\n",
      " 'Banking, Investment And Insurance' 'International Business' 'E-COMMERCE'\n",
      " 'Operations Management' 'Retail Management' 'Services Excellence'\n",
      " 'Hospitality Management' 'Rural and Agribusiness' 'Healthcare Management'\n",
      " 'E-Business']\n",
      "----------------------------\n",
      "How did you hear about X Education :\n",
      "['Select' 'Word Of Mouth' 'Other' nan 'Online Search' 'Multiple Sources'\n",
      " 'Advertisements' 'Student of SomeSchool' 'Email' 'Social Media' 'SMS']\n",
      "----------------------------\n",
      "What is your current occupation :\n",
      "['Unemployed' 'Student' nan 'Working Professional' 'Businessman' 'Other'\n",
      " 'Housewife']\n",
      "----------------------------\n",
      "What matters most to you in choosing a course :\n",
      "['Better Career Prospects' nan 'Flexibility & Convenience' 'Other']\n",
      "----------------------------\n",
      "Search :\n",
      "['No' 'Yes']\n",
      "----------------------------\n",
      "Magazine :\n",
      "['No']\n",
      "----------------------------\n",
      "Newspaper Article :\n",
      "['No' 'Yes']\n",
      "----------------------------\n",
      "X Education Forums :\n",
      "['No' 'Yes']\n",
      "----------------------------\n",
      "Newspaper :\n",
      "['No' 'Yes']\n",
      "----------------------------\n",
      "Digital Advertisement :\n",
      "['No' 'Yes']\n",
      "----------------------------\n",
      "Through Recommendations :\n",
      "['No' 'Yes']\n",
      "----------------------------\n",
      "Receive More Updates About Our Courses :\n",
      "['No']\n",
      "----------------------------\n",
      "Tags :\n",
      "['Interested in other courses' 'Ringing'\n",
      " 'Will revert after reading the email' nan 'Lost to EINS'\n",
      " 'In confusion whether part time or DLP' 'Busy' 'switched off'\n",
      " 'in touch with EINS' 'Already a student' 'Diploma holder (Not Eligible)'\n",
      " 'Graduation in progress' 'Closed by Horizzon' 'number not provided'\n",
      " 'opp hangup' 'Not doing further education' 'invalid number'\n",
      " 'wrong number given' 'Interested  in full time MBA' 'Still Thinking'\n",
      " 'Lost to Others' 'Shall take in the next coming month' 'Lateral student'\n",
      " 'Interested in Next batch' 'Recognition issue (DEC approval)'\n",
      " 'Want to take admission but has financial problems'\n",
      " 'University not recognized']\n",
      "----------------------------\n",
      "Lead Quality :\n",
      "['Low in Relevance' nan 'Might be' 'Not Sure' 'Worst' 'High in Relevance']\n",
      "----------------------------\n",
      "Update me on Supply Chain Content :\n",
      "['No']\n",
      "----------------------------\n",
      "Get updates on DM Content :\n",
      "['No']\n",
      "----------------------------\n",
      "Lead Profile :\n",
      "['Select' 'Potential Lead' nan 'Other Leads' 'Lateral Student'\n",
      " 'Dual Specialization Student' 'Student of SomeSchool']\n",
      "----------------------------\n",
      "City :\n",
      "['Select' 'Mumbai' nan 'Thane & Outskirts' 'Other Metro Cities'\n",
      " 'Other Cities' 'Other Cities of Maharashtra' 'Tier II Cities']\n",
      "----------------------------\n",
      "Asymmetrique Activity Index :\n",
      "['02.Medium' '01.High' '03.Low' nan]\n",
      "----------------------------\n",
      "Asymmetrique Profile Index :\n",
      "['02.Medium' '01.High' '03.Low' nan]\n",
      "----------------------------\n",
      "Asymmetrique Activity Score :\n",
      "[15. 14. 13. 17. 16. 11. 12. 10.  9.  8. 18. nan  7.]\n",
      "----------------------------\n",
      "Asymmetrique Profile Score :\n",
      "[15. 20. 17. 18. 14. 16. 13. 19. 12. nan 11.]\n",
      "----------------------------\n",
      "I agree to pay the amount through cheque :\n",
      "['No']\n",
      "----------------------------\n",
      "A free copy of Mastering The Interview :\n",
      "['No' 'Yes']\n",
      "----------------------------\n",
      "Last Notable Activity :\n",
      "['Modified' 'Email Opened' 'Page Visited on Website' 'Email Bounced'\n",
      " 'Email Link Clicked' 'Unreachable' 'Unsubscribed'\n",
      " 'Had a Phone Conversation' 'Olark Chat Conversation' 'SMS Sent'\n",
      " 'Approached upfront' 'Resubscribed to emails'\n",
      " 'View in browser link Clicked' 'Form Submitted on Website'\n",
      " 'Email Received' 'Email Marked Spam']\n",
      "----------------------------\n"
     ]
    }
   ],
   "source": [
    "for col in leads_df.columns:\n",
    "    print(col,':')\n",
    "    print(leads_df[col].unique())\n",
    "    print('----------------------------')"
   ]
  },
  {
   "cell_type": "markdown",
   "id": "270fe6e4-f0d7-43ce-aa17-812c5d34047d",
   "metadata": {},
   "source": [
    "Below columns are having only one unique value and this doesn't help for our analysis in predicting the target variable\n",
    "\n",
    "'Magazine',\n",
    "\n",
    "'Receive More Updates About Our Courses',\n",
    "\n",
    "'Update me on Supply Chain Content',\n",
    "\n",
    "'Get updates on DM Content',\n",
    "\n",
    "'I agree to pay the amount through cheque'"
   ]
  },
  {
   "cell_type": "markdown",
   "id": "07e74d90-c1c3-4942-af97-3e9281e45ffb",
   "metadata": {},
   "source": [
    "Replacing the Select value in multiple columns to nan as both of them interpret the same"
   ]
  },
  {
   "cell_type": "code",
   "execution_count": 7,
   "id": "5da423aa-280d-4449-b0fe-6fe05c621170",
   "metadata": {},
   "outputs": [],
   "source": [
    "leads_df.replace('Select',np.nan,inplace=True)"
   ]
  },
  {
   "cell_type": "markdown",
   "id": "27162416-ae36-4a71-91e3-e1fd53cc935a",
   "metadata": {},
   "source": [
    "Calculating the null value percentage of each column"
   ]
  },
  {
   "cell_type": "code",
   "execution_count": 8,
   "id": "be416766-cca6-4f8b-af48-11831c28e184",
   "metadata": {},
   "outputs": [
    {
     "data": {
      "text/html": [
       "<div>\n",
       "<style scoped>\n",
       "    .dataframe tbody tr th:only-of-type {\n",
       "        vertical-align: middle;\n",
       "    }\n",
       "\n",
       "    .dataframe tbody tr th {\n",
       "        vertical-align: top;\n",
       "    }\n",
       "\n",
       "    .dataframe thead th {\n",
       "        text-align: right;\n",
       "    }\n",
       "</style>\n",
       "<table border=\"1\" class=\"dataframe\">\n",
       "  <thead>\n",
       "    <tr style=\"text-align: right;\">\n",
       "      <th></th>\n",
       "      <th>Column Name</th>\n",
       "      <th>Null Value %</th>\n",
       "    </tr>\n",
       "  </thead>\n",
       "  <tbody>\n",
       "    <tr>\n",
       "      <th>0</th>\n",
       "      <td>How did you hear about X Education</td>\n",
       "      <td>78.463203</td>\n",
       "    </tr>\n",
       "    <tr>\n",
       "      <th>1</th>\n",
       "      <td>Lead Profile</td>\n",
       "      <td>74.188312</td>\n",
       "    </tr>\n",
       "    <tr>\n",
       "      <th>2</th>\n",
       "      <td>Lead Quality</td>\n",
       "      <td>51.590909</td>\n",
       "    </tr>\n",
       "    <tr>\n",
       "      <th>3</th>\n",
       "      <td>Asymmetrique Profile Score</td>\n",
       "      <td>45.649351</td>\n",
       "    </tr>\n",
       "    <tr>\n",
       "      <th>4</th>\n",
       "      <td>Asymmetrique Activity Score</td>\n",
       "      <td>45.649351</td>\n",
       "    </tr>\n",
       "    <tr>\n",
       "      <th>5</th>\n",
       "      <td>Asymmetrique Activity Index</td>\n",
       "      <td>45.649351</td>\n",
       "    </tr>\n",
       "    <tr>\n",
       "      <th>6</th>\n",
       "      <td>Asymmetrique Profile Index</td>\n",
       "      <td>45.649351</td>\n",
       "    </tr>\n",
       "    <tr>\n",
       "      <th>7</th>\n",
       "      <td>City</td>\n",
       "      <td>39.707792</td>\n",
       "    </tr>\n",
       "    <tr>\n",
       "      <th>8</th>\n",
       "      <td>Specialization</td>\n",
       "      <td>36.580087</td>\n",
       "    </tr>\n",
       "    <tr>\n",
       "      <th>9</th>\n",
       "      <td>Tags</td>\n",
       "      <td>36.287879</td>\n",
       "    </tr>\n",
       "    <tr>\n",
       "      <th>10</th>\n",
       "      <td>What matters most to you in choosing a course</td>\n",
       "      <td>29.318182</td>\n",
       "    </tr>\n",
       "    <tr>\n",
       "      <th>11</th>\n",
       "      <td>What is your current occupation</td>\n",
       "      <td>29.112554</td>\n",
       "    </tr>\n",
       "    <tr>\n",
       "      <th>12</th>\n",
       "      <td>Country</td>\n",
       "      <td>26.634199</td>\n",
       "    </tr>\n",
       "    <tr>\n",
       "      <th>13</th>\n",
       "      <td>Page Views Per Visit</td>\n",
       "      <td>1.482684</td>\n",
       "    </tr>\n",
       "    <tr>\n",
       "      <th>14</th>\n",
       "      <td>TotalVisits</td>\n",
       "      <td>1.482684</td>\n",
       "    </tr>\n",
       "    <tr>\n",
       "      <th>15</th>\n",
       "      <td>Last Activity</td>\n",
       "      <td>1.114719</td>\n",
       "    </tr>\n",
       "    <tr>\n",
       "      <th>16</th>\n",
       "      <td>Lead Source</td>\n",
       "      <td>0.389610</td>\n",
       "    </tr>\n",
       "    <tr>\n",
       "      <th>17</th>\n",
       "      <td>Receive More Updates About Our Courses</td>\n",
       "      <td>0.000000</td>\n",
       "    </tr>\n",
       "    <tr>\n",
       "      <th>18</th>\n",
       "      <td>I agree to pay the amount through cheque</td>\n",
       "      <td>0.000000</td>\n",
       "    </tr>\n",
       "    <tr>\n",
       "      <th>19</th>\n",
       "      <td>Get updates on DM Content</td>\n",
       "      <td>0.000000</td>\n",
       "    </tr>\n",
       "    <tr>\n",
       "      <th>20</th>\n",
       "      <td>Update me on Supply Chain Content</td>\n",
       "      <td>0.000000</td>\n",
       "    </tr>\n",
       "    <tr>\n",
       "      <th>21</th>\n",
       "      <td>A free copy of Mastering The Interview</td>\n",
       "      <td>0.000000</td>\n",
       "    </tr>\n",
       "    <tr>\n",
       "      <th>22</th>\n",
       "      <td>Prospect ID</td>\n",
       "      <td>0.000000</td>\n",
       "    </tr>\n",
       "    <tr>\n",
       "      <th>23</th>\n",
       "      <td>Newspaper Article</td>\n",
       "      <td>0.000000</td>\n",
       "    </tr>\n",
       "    <tr>\n",
       "      <th>24</th>\n",
       "      <td>Through Recommendations</td>\n",
       "      <td>0.000000</td>\n",
       "    </tr>\n",
       "    <tr>\n",
       "      <th>25</th>\n",
       "      <td>Digital Advertisement</td>\n",
       "      <td>0.000000</td>\n",
       "    </tr>\n",
       "    <tr>\n",
       "      <th>26</th>\n",
       "      <td>Newspaper</td>\n",
       "      <td>0.000000</td>\n",
       "    </tr>\n",
       "    <tr>\n",
       "      <th>27</th>\n",
       "      <td>X Education Forums</td>\n",
       "      <td>0.000000</td>\n",
       "    </tr>\n",
       "    <tr>\n",
       "      <th>28</th>\n",
       "      <td>Lead Number</td>\n",
       "      <td>0.000000</td>\n",
       "    </tr>\n",
       "    <tr>\n",
       "      <th>29</th>\n",
       "      <td>Magazine</td>\n",
       "      <td>0.000000</td>\n",
       "    </tr>\n",
       "    <tr>\n",
       "      <th>30</th>\n",
       "      <td>Search</td>\n",
       "      <td>0.000000</td>\n",
       "    </tr>\n",
       "    <tr>\n",
       "      <th>31</th>\n",
       "      <td>Total Time Spent on Website</td>\n",
       "      <td>0.000000</td>\n",
       "    </tr>\n",
       "    <tr>\n",
       "      <th>32</th>\n",
       "      <td>Converted</td>\n",
       "      <td>0.000000</td>\n",
       "    </tr>\n",
       "    <tr>\n",
       "      <th>33</th>\n",
       "      <td>Do Not Call</td>\n",
       "      <td>0.000000</td>\n",
       "    </tr>\n",
       "    <tr>\n",
       "      <th>34</th>\n",
       "      <td>Do Not Email</td>\n",
       "      <td>0.000000</td>\n",
       "    </tr>\n",
       "    <tr>\n",
       "      <th>35</th>\n",
       "      <td>Lead Origin</td>\n",
       "      <td>0.000000</td>\n",
       "    </tr>\n",
       "    <tr>\n",
       "      <th>36</th>\n",
       "      <td>Last Notable Activity</td>\n",
       "      <td>0.000000</td>\n",
       "    </tr>\n",
       "  </tbody>\n",
       "</table>\n",
       "</div>"
      ],
      "text/plain": [
       "                                      Column Name  Null Value %\n",
       "0              How did you hear about X Education     78.463203\n",
       "1                                    Lead Profile     74.188312\n",
       "2                                    Lead Quality     51.590909\n",
       "3                      Asymmetrique Profile Score     45.649351\n",
       "4                     Asymmetrique Activity Score     45.649351\n",
       "5                     Asymmetrique Activity Index     45.649351\n",
       "6                      Asymmetrique Profile Index     45.649351\n",
       "7                                            City     39.707792\n",
       "8                                  Specialization     36.580087\n",
       "9                                            Tags     36.287879\n",
       "10  What matters most to you in choosing a course     29.318182\n",
       "11                What is your current occupation     29.112554\n",
       "12                                        Country     26.634199\n",
       "13                           Page Views Per Visit      1.482684\n",
       "14                                    TotalVisits      1.482684\n",
       "15                                  Last Activity      1.114719\n",
       "16                                    Lead Source      0.389610\n",
       "17         Receive More Updates About Our Courses      0.000000\n",
       "18       I agree to pay the amount through cheque      0.000000\n",
       "19                      Get updates on DM Content      0.000000\n",
       "20              Update me on Supply Chain Content      0.000000\n",
       "21         A free copy of Mastering The Interview      0.000000\n",
       "22                                    Prospect ID      0.000000\n",
       "23                              Newspaper Article      0.000000\n",
       "24                        Through Recommendations      0.000000\n",
       "25                          Digital Advertisement      0.000000\n",
       "26                                      Newspaper      0.000000\n",
       "27                             X Education Forums      0.000000\n",
       "28                                    Lead Number      0.000000\n",
       "29                                       Magazine      0.000000\n",
       "30                                         Search      0.000000\n",
       "31                    Total Time Spent on Website      0.000000\n",
       "32                                      Converted      0.000000\n",
       "33                                    Do Not Call      0.000000\n",
       "34                                   Do Not Email      0.000000\n",
       "35                                    Lead Origin      0.000000\n",
       "36                          Last Notable Activity      0.000000"
      ]
     },
     "execution_count": 8,
     "metadata": {},
     "output_type": "execute_result"
    }
   ],
   "source": [
    "null_values = pd.DataFrame((leads_df.isnull().sum()/leads_df.shape[0])*100).sort_values(by=0,ascending=False)\n",
    "null_values.reset_index(inplace=True)\n",
    "null_values.rename(columns={'index' : 'Column Name',0:'Null Value %'},inplace=True)\n",
    "null_values"
   ]
  },
  {
   "cell_type": "markdown",
   "id": "e7fb0cd7-cb41-49d2-a989-4b0d9b5e68d9",
   "metadata": {},
   "source": [
    "Drop columns where null value % is > 40"
   ]
  },
  {
   "cell_type": "code",
   "execution_count": 9,
   "id": "d8257831-d30c-407a-9f0f-a265afbbf108",
   "metadata": {},
   "outputs": [],
   "source": [
    "for column_name in list(null_values[null_values['Null Value %']>40]['Column Name']):\n",
    "    leads_df.drop(column_name, axis=1, inplace=True)"
   ]
  },
  {
   "cell_type": "markdown",
   "id": "39d63a22-d3d4-4448-9264-fd607cd1a0f7",
   "metadata": {},
   "source": [
    "Drop Prospect ID an Lead Number as these are unique keys and doesn't help to predict our target variable"
   ]
  },
  {
   "cell_type": "code",
   "execution_count": 10,
   "id": "95d4ff05-b987-4c4d-b57c-be487fbaf519",
   "metadata": {},
   "outputs": [],
   "source": [
    "leads_df.drop(['Prospect ID','Lead Number'], axis=1, inplace=True)"
   ]
  },
  {
   "cell_type": "markdown",
   "id": "4b629ad1-89fa-48a9-a687-65f9ecd9e813",
   "metadata": {},
   "source": [
    "Drop the columns where the unique value is only one"
   ]
  },
  {
   "cell_type": "code",
   "execution_count": 11,
   "id": "327c9c25-7c6c-4bc3-9f0d-f39f8d283929",
   "metadata": {},
   "outputs": [],
   "source": [
    "for col in leads_df.columns:\n",
    "        if len(leads_df[col].unique())==1:\n",
    "            leads_df.drop(col, axis=1, inplace=True)"
   ]
  },
  {
   "cell_type": "code",
   "execution_count": 12,
   "id": "4f6d72c1-2cc3-4571-8323-3f8c5c04ac62",
   "metadata": {},
   "outputs": [
    {
     "name": "stdout",
     "output_type": "stream",
     "text": [
      "<class 'pandas.core.frame.DataFrame'>\n",
      "RangeIndex: 9240 entries, 0 to 9239\n",
      "Data columns (total 23 columns):\n",
      " #   Column                                         Non-Null Count  Dtype  \n",
      "---  ------                                         --------------  -----  \n",
      " 0   Lead Origin                                    9240 non-null   object \n",
      " 1   Lead Source                                    9204 non-null   object \n",
      " 2   Do Not Email                                   9240 non-null   object \n",
      " 3   Do Not Call                                    9240 non-null   object \n",
      " 4   Converted                                      9240 non-null   int64  \n",
      " 5   TotalVisits                                    9103 non-null   float64\n",
      " 6   Total Time Spent on Website                    9240 non-null   int64  \n",
      " 7   Page Views Per Visit                           9103 non-null   float64\n",
      " 8   Last Activity                                  9137 non-null   object \n",
      " 9   Country                                        6779 non-null   object \n",
      " 10  Specialization                                 5860 non-null   object \n",
      " 11  What is your current occupation                6550 non-null   object \n",
      " 12  What matters most to you in choosing a course  6531 non-null   object \n",
      " 13  Search                                         9240 non-null   object \n",
      " 14  Newspaper Article                              9240 non-null   object \n",
      " 15  X Education Forums                             9240 non-null   object \n",
      " 16  Newspaper                                      9240 non-null   object \n",
      " 17  Digital Advertisement                          9240 non-null   object \n",
      " 18  Through Recommendations                        9240 non-null   object \n",
      " 19  Tags                                           5887 non-null   object \n",
      " 20  City                                           5571 non-null   object \n",
      " 21  A free copy of Mastering The Interview         9240 non-null   object \n",
      " 22  Last Notable Activity                          9240 non-null   object \n",
      "dtypes: float64(2), int64(2), object(19)\n",
      "memory usage: 1.6+ MB\n"
     ]
    }
   ],
   "source": [
    "leads_df.info()"
   ]
  },
  {
   "cell_type": "markdown",
   "id": "6a63157c-0f9b-40ca-9c3a-09061c749eff",
   "metadata": {},
   "source": [
    "### Categorical Variable Analysis"
   ]
  },
  {
   "cell_type": "markdown",
   "id": "2fa9dabd-a18a-4c2f-913f-4e20ea32a311",
   "metadata": {},
   "source": [
    "Analyse 'Country' column"
   ]
  },
  {
   "cell_type": "code",
   "execution_count": 13,
   "id": "3df7c3a6-b499-4408-9cbb-239afc9b5826",
   "metadata": {},
   "outputs": [
    {
     "data": {
      "text/plain": [
       "India                   6492\n",
       "NaN                     2461\n",
       "United States             69\n",
       "United Arab Emirates      53\n",
       "Singapore                 24\n",
       "Saudi Arabia              21\n",
       "United Kingdom            15\n",
       "Australia                 13\n",
       "Qatar                     10\n",
       "Bahrain                    7\n",
       "Hong Kong                  7\n",
       "Oman                       6\n",
       "France                     6\n",
       "unknown                    5\n",
       "Kuwait                     4\n",
       "South Africa               4\n",
       "Canada                     4\n",
       "Nigeria                    4\n",
       "Germany                    4\n",
       "Sweden                     3\n",
       "Philippines                2\n",
       "Uganda                     2\n",
       "Italy                      2\n",
       "Bangladesh                 2\n",
       "Netherlands                2\n",
       "Asia/Pacific Region        2\n",
       "China                      2\n",
       "Belgium                    2\n",
       "Ghana                      2\n",
       "Kenya                      1\n",
       "Sri Lanka                  1\n",
       "Tanzania                   1\n",
       "Malaysia                   1\n",
       "Liberia                    1\n",
       "Switzerland                1\n",
       "Denmark                    1\n",
       "Russia                     1\n",
       "Vietnam                    1\n",
       "Indonesia                  1\n",
       "Name: Country, dtype: int64"
      ]
     },
     "execution_count": 13,
     "metadata": {},
     "output_type": "execute_result"
    }
   ],
   "source": [
    "leads_df['Country'].value_counts(dropna=False)"
   ]
  },
  {
   "cell_type": "markdown",
   "id": "b571d3c0-93ae-4feb-8792-ec27c7f29ca3",
   "metadata": {},
   "source": [
    "Replace NaN values with India as it's the most occuring value (Mode)"
   ]
  },
  {
   "cell_type": "code",
   "execution_count": 14,
   "id": "e9ef09d2-06d0-4db7-895a-24214464de04",
   "metadata": {},
   "outputs": [],
   "source": [
    "leads_df['Country'].replace(np.nan, 'India', inplace=True)"
   ]
  },
  {
   "cell_type": "code",
   "execution_count": 15,
   "id": "c7c9203e-407e-4a3d-9d12-e207b2e55e3a",
   "metadata": {},
   "outputs": [
    {
     "data": {
      "text/plain": [
       "India                   96.893939\n",
       "United States            0.746753\n",
       "United Arab Emirates     0.573593\n",
       "Singapore                0.259740\n",
       "Saudi Arabia             0.227273\n",
       "United Kingdom           0.162338\n",
       "Australia                0.140693\n",
       "Qatar                    0.108225\n",
       "Hong Kong                0.075758\n",
       "Bahrain                  0.075758\n",
       "Oman                     0.064935\n",
       "France                   0.064935\n",
       "unknown                  0.054113\n",
       "South Africa             0.043290\n",
       "Nigeria                  0.043290\n",
       "Germany                  0.043290\n",
       "Kuwait                   0.043290\n",
       "Canada                   0.043290\n",
       "Sweden                   0.032468\n",
       "China                    0.021645\n",
       "Asia/Pacific Region      0.021645\n",
       "Uganda                   0.021645\n",
       "Bangladesh               0.021645\n",
       "Italy                    0.021645\n",
       "Belgium                  0.021645\n",
       "Netherlands              0.021645\n",
       "Ghana                    0.021645\n",
       "Philippines              0.021645\n",
       "Russia                   0.010823\n",
       "Switzerland              0.010823\n",
       "Vietnam                  0.010823\n",
       "Denmark                  0.010823\n",
       "Tanzania                 0.010823\n",
       "Liberia                  0.010823\n",
       "Malaysia                 0.010823\n",
       "Kenya                    0.010823\n",
       "Sri Lanka                0.010823\n",
       "Indonesia                0.010823\n",
       "Name: Country, dtype: float64"
      ]
     },
     "execution_count": 15,
     "metadata": {},
     "output_type": "execute_result"
    }
   ],
   "source": [
    "(leads_df['Country'].value_counts()/leads_df.shape[0])*100"
   ]
  },
  {
   "cell_type": "markdown",
   "id": "f32cce3e-982f-40d7-823f-68980182035b",
   "metadata": {},
   "source": [
    "'India' contributed to almost 97% of the country column. Country can be dropped"
   ]
  },
  {
   "cell_type": "code",
   "execution_count": 16,
   "id": "33b69cbf-7e33-4355-8714-5e3fb4037815",
   "metadata": {},
   "outputs": [],
   "source": [
    "leads_df.drop('Country', axis=1, inplace=True)"
   ]
  },
  {
   "cell_type": "markdown",
   "id": "f838a64e-47ca-4476-9938-ad32ad3b7138",
   "metadata": {},
   "source": [
    "Analyse 'City' column"
   ]
  },
  {
   "cell_type": "code",
   "execution_count": 17,
   "id": "4705e234-9da4-4c02-9099-accaa66be0d6",
   "metadata": {},
   "outputs": [
    {
     "data": {
      "text/plain": [
       "NaN                            3669\n",
       "Mumbai                         3222\n",
       "Thane & Outskirts               752\n",
       "Other Cities                    686\n",
       "Other Cities of Maharashtra     457\n",
       "Other Metro Cities              380\n",
       "Tier II Cities                   74\n",
       "Name: City, dtype: int64"
      ]
     },
     "execution_count": 17,
     "metadata": {},
     "output_type": "execute_result"
    }
   ],
   "source": [
    "leads_df['City'].value_counts(dropna=False)"
   ]
  },
  {
   "cell_type": "code",
   "execution_count": 18,
   "id": "9e954509-9521-4be0-a22f-63ae352e2b96",
   "metadata": {},
   "outputs": [],
   "source": [
    "leads_df['City'].replace(np.nan, 'Mumbai', inplace=True)"
   ]
  },
  {
   "cell_type": "code",
   "execution_count": 19,
   "id": "53c9575d-dd31-48fe-a438-253c6a03e0b7",
   "metadata": {},
   "outputs": [
    {
     "data": {
      "text/plain": [
       "<AxesSubplot:xlabel='City', ylabel='count'>"
      ]
     },
     "execution_count": 19,
     "metadata": {},
     "output_type": "execute_result"
    },
    {
     "data": {
      "image/png": "[encoded data removed]",
      "text/plain": [
       "<Figure size 1000x300 with 1 Axes>"
      ]
     },
     "metadata": {},
     "output_type": "display_data"
    }
   ],
   "source": [
    "plt.figure(figsize=(10,3))\n",
    "sns.countplot(leads_df['City'], hue=leads_df['Converted'])"
   ]
  },
  {
   "cell_type": "markdown",
   "id": "5c47ad4a-5e65-4804-906b-bdbdd83bbe4a",
   "metadata": {},
   "source": [
    "Analyse 'Specialization' column"
   ]
  },
  {
   "cell_type": "code",
   "execution_count": 20,
   "id": "64b72c4e-822e-41d9-8f64-c23fe113436c",
   "metadata": {},
   "outputs": [
    {
     "data": {
      "text/plain": [
       "NaN                                  3380\n",
       "Finance Management                    976\n",
       "Human Resource Management             848\n",
       "Marketing Management                  838\n",
       "Operations Management                 503\n",
       "Business Administration               403\n",
       "IT Projects Management                366\n",
       "Supply Chain Management               349\n",
       "Banking, Investment And Insurance     338\n",
       "Travel and Tourism                    203\n",
       "Media and Advertising                 203\n",
       "International Business                178\n",
       "Healthcare Management                 159\n",
       "Hospitality Management                114\n",
       "E-COMMERCE                            112\n",
       "Retail Management                     100\n",
       "Rural and Agribusiness                 73\n",
       "E-Business                             57\n",
       "Services Excellence                    40\n",
       "Name: Specialization, dtype: int64"
      ]
     },
     "execution_count": 20,
     "metadata": {},
     "output_type": "execute_result"
    }
   ],
   "source": [
    "leads_df['Specialization'].value_counts(dropna=False)"
   ]
  },
  {
   "cell_type": "markdown",
   "id": "6b6638b8-71e9-4cb0-a648-33783c89ccc1",
   "metadata": {},
   "source": [
    "Null values can be categorised as 'Others' instead of imputing with the mode as the correct specialization is not present in the picklist"
   ]
  },
  {
   "cell_type": "code",
   "execution_count": 21,
   "id": "cebb9c7b-d767-4b04-bf33-fc374d279cf8",
   "metadata": {},
   "outputs": [],
   "source": [
    "leads_df['Specialization'].replace(np.nan, 'Others', inplace=True)"
   ]
  },
  {
   "cell_type": "markdown",
   "id": "4e34ff4b-9074-4a7f-87c5-4b47dc2b1867",
   "metadata": {},
   "source": [
    "Grouping all the Management Specializations into one"
   ]
  },
  {
   "cell_type": "code",
   "execution_count": 22,
   "id": "77ec2daa-c846-4c58-920d-67b1185381ed",
   "metadata": {},
   "outputs": [],
   "source": [
    "for specialization in list(leads_df['Specialization'].unique()):\n",
    "    if specialization.__contains__('Management'):\n",
    "        leads_df['Specialization'].replace(specialization, 'Management Specialization', inplace=True)"
   ]
  },
  {
   "cell_type": "code",
   "execution_count": 23,
   "id": "6fa0e079-da2d-4cd4-bb5f-1854de339757",
   "metadata": {},
   "outputs": [
    {
     "data": {
      "image/png": "[encoded data removed]",
      "text/plain": [
       "<Figure size 1000x300 with 1 Axes>"
      ]
     },
     "metadata": {},
     "output_type": "display_data"
    }
   ],
   "source": [
    "plt.figure(figsize=(10,3))\n",
    "fig1 = sns.countplot(leads_df['Specialization'], hue=leads_df['Converted'])\n",
    "fig1.set_xticklabels(fig1.get_xticklabels(), rotation=90)\n",
    "plt.show()"
   ]
  },
  {
   "cell_type": "markdown",
   "id": "5799bce6-68e8-4a5a-8f04-63fa79458339",
   "metadata": {},
   "source": [
    "Analyse 'What is your current occupation' column"
   ]
  },
  {
   "cell_type": "code",
   "execution_count": 24,
   "id": "68ff0f82-1d5f-4b8d-abe9-c8fd4998c193",
   "metadata": {},
   "outputs": [
    {
     "data": {
      "text/plain": [
       "Unemployed              5600\n",
       "NaN                     2690\n",
       "Working Professional     706\n",
       "Student                  210\n",
       "Other                     16\n",
       "Housewife                 10\n",
       "Businessman                8\n",
       "Name: What is your current occupation, dtype: int64"
      ]
     },
     "execution_count": 24,
     "metadata": {},
     "output_type": "execute_result"
    }
   ],
   "source": [
    "leads_df['What is your current occupation'].value_counts(dropna=False)"
   ]
  },
  {
   "cell_type": "code",
   "execution_count": 25,
   "id": "d7af1fb2-4428-454f-94fd-41dfa1b1af7e",
   "metadata": {},
   "outputs": [],
   "source": [
    "leads_df['What is your current occupation'].replace(np.nan, 'Unemployed', inplace=True)"
   ]
  },
  {
   "cell_type": "code",
   "execution_count": 26,
   "id": "be033c18-a7a0-422b-b149-722b21839e44",
   "metadata": {},
   "outputs": [
    {
     "data": {
      "text/plain": [
       "<AxesSubplot:xlabel='What is your current occupation', ylabel='count'>"
      ]
     },
     "execution_count": 26,
     "metadata": {},
     "output_type": "execute_result"
    },
    {
     "data": {
      "image/png": "[encoded data removed]",
      "text/plain": [
       "<Figure size 1000x300 with 1 Axes>"
      ]
     },
     "metadata": {},
     "output_type": "display_data"
    }
   ],
   "source": [
    "plt.figure(figsize=(10,3))\n",
    "sns.countplot(leads_df['What is your current occupation'],hue=leads_df['Converted'])\n"
   ]
  },
  {
   "cell_type": "markdown",
   "id": "cb194e0f-cf77-4239-b3ba-f7c56b71b6d4",
   "metadata": {},
   "source": [
    "It's clear that the leads who're working professionals have a very high chance of conversion\n",
    "\n",
    "More number of leads are from people who are unemployed"
   ]
  },
  {
   "cell_type": "markdown",
   "id": "06ba4c2f-e206-4050-aaef-39e1d4b906ac",
   "metadata": {},
   "source": [
    "Analyse column 'What matters to you in choosing a course'"
   ]
  },
  {
   "cell_type": "code",
   "execution_count": 27,
   "id": "de49ee81-ada3-47c7-b1a1-d0e5dffe4c94",
   "metadata": {},
   "outputs": [
    {
     "data": {
      "text/plain": [
       "Better Career Prospects      6528\n",
       "NaN                          2709\n",
       "Flexibility & Convenience       2\n",
       "Other                           1\n",
       "Name: What matters most to you in choosing a course, dtype: int64"
      ]
     },
     "execution_count": 27,
     "metadata": {},
     "output_type": "execute_result"
    }
   ],
   "source": [
    "leads_df['What matters most to you in choosing a course'].value_counts(dropna=False)"
   ]
  },
  {
   "cell_type": "markdown",
   "id": "05541c5d-ec61-4880-afe0-f0402311a3e0",
   "metadata": {},
   "source": [
    "It's very clear that one category contributes to all the rows if nan is eliminated, even if nan is imputed with the mode, all the rows will have the same value which is of no use in predicting th etarget variable\n",
    "\n",
    "\n",
    "'What matters most to you in choosing a course' column can be droppped"
   ]
  },
  {
   "cell_type": "code",
   "execution_count": 28,
   "id": "f7bacac8-68af-4756-b327-297aa6b9e803",
   "metadata": {},
   "outputs": [],
   "source": [
    "leads_df.drop('What matters most to you in choosing a course', axis=1, inplace=True)"
   ]
  },
  {
   "cell_type": "markdown",
   "id": "ba2ccff3-d44a-42fa-a2d7-7cf13c475520",
   "metadata": {},
   "source": [
    "Analyse 'Lead Source' Column"
   ]
  },
  {
   "cell_type": "code",
   "execution_count": 29,
   "id": "5b11acb2-a0dc-4dc6-8624-c85255a26184",
   "metadata": {},
   "outputs": [
    {
     "data": {
      "text/plain": [
       "Google               2868\n",
       "Direct Traffic       2543\n",
       "Olark Chat           1755\n",
       "Organic Search       1154\n",
       "Reference             534\n",
       "Welingak Website      142\n",
       "Referral Sites        125\n",
       "Facebook               55\n",
       "NaN                    36\n",
       "bing                    6\n",
       "google                  5\n",
       "Click2call              4\n",
       "Press_Release           2\n",
       "Social Media            2\n",
       "Live Chat               2\n",
       "youtubechannel          1\n",
       "testone                 1\n",
       "Pay per Click Ads       1\n",
       "welearnblog_Home        1\n",
       "WeLearn                 1\n",
       "blog                    1\n",
       "NC_EDM                  1\n",
       "Name: Lead Source, dtype: int64"
      ]
     },
     "execution_count": 29,
     "metadata": {},
     "output_type": "execute_result"
    }
   ],
   "source": [
    "leads_df['Lead Source'].value_counts(dropna=False)"
   ]
  },
  {
   "cell_type": "markdown",
   "id": "5fbe9da0-22b3-4990-953e-042f46595745",
   "metadata": {},
   "source": [
    "Let's replace nan and all single digit categories into Others"
   ]
  },
  {
   "cell_type": "code",
   "execution_count": 30,
   "id": "01b30d9a-c197-4475-8533-1078fab5f4b6",
   "metadata": {},
   "outputs": [],
   "source": [
    "lead_source_count = pd.DataFrame(leads_df['Lead Source'].value_counts(dropna=False))\n",
    "for category in list(lead_source_count[lead_source_count['Lead Source']<10].index):\n",
    "    leads_df['Lead Source'].replace(category, 'Others', inplace=True)"
   ]
  },
  {
   "cell_type": "code",
   "execution_count": 31,
   "id": "a4851a55-ce5f-4f09-ab50-78c44ea7a06c",
   "metadata": {},
   "outputs": [],
   "source": [
    "leads_df['Lead Source'].replace(np.nan, 'Others', inplace=True)"
   ]
  },
  {
   "cell_type": "code",
   "execution_count": 32,
   "id": "6b2c09ff-a2ad-4107-88fa-4d31a57f87d1",
   "metadata": {},
   "outputs": [
    {
     "data": {
      "text/plain": [
       "Google              2868\n",
       "Direct Traffic      2543\n",
       "Olark Chat          1755\n",
       "Organic Search      1154\n",
       "Reference            534\n",
       "Welingak Website     142\n",
       "Referral Sites       125\n",
       "Others                64\n",
       "Facebook              55\n",
       "Name: Lead Source, dtype: int64"
      ]
     },
     "execution_count": 32,
     "metadata": {},
     "output_type": "execute_result"
    }
   ],
   "source": [
    "leads_df['Lead Source'].value_counts(dropna=False)"
   ]
  },
  {
   "cell_type": "code",
   "execution_count": 33,
   "id": "c6add429-ca2e-4a7d-8cba-e0ace7a9ea22",
   "metadata": {},
   "outputs": [
    {
     "data": {
      "image/png": "[encoded data removed]",
      "text/plain": [
       "<Figure size 1000x300 with 1 Axes>"
      ]
     },
     "metadata": {},
     "output_type": "display_data"
    }
   ],
   "source": [
    "plt.figure(figsize=(10,3))\n",
    "fig2 = sns.countplot(leads_df['Lead Source'], hue=leads_df['Converted'])\n",
    "fig2.set_xticklabels(fig2.get_xticklabels(), rotation=90)\n",
    "plt.show()"
   ]
  },
  {
   "cell_type": "markdown",
   "id": "2b1a82d2-8540-40d9-8ba5-f58cc09022fa",
   "metadata": {},
   "source": [
    "Proportion of leads converted is highest in reference followed by welingak_website\n",
    "\n",
    "Maximum number of leads are from direct traffic and google\n",
    "\n",
    "Organic search also has good conversion rate\n",
    "\n",
    "Concentrate on increasing the reference and organic search lead base for more conversion"
   ]
  },
  {
   "cell_type": "markdown",
   "id": "e475a672-2d7c-4e01-99e2-0de3679767fd",
   "metadata": {},
   "source": [
    "Analyse Last Activity Column"
   ]
  },
  {
   "cell_type": "code",
   "execution_count": 34,
   "id": "e6bd6c80-4603-4e17-8fb2-2f3cab89d681",
   "metadata": {},
   "outputs": [
    {
     "data": {
      "text/plain": [
       "Email Opened                    3437\n",
       "SMS Sent                        2745\n",
       "Olark Chat Conversation          973\n",
       "Page Visited on Website          640\n",
       "Converted to Lead                428\n",
       "Email Bounced                    326\n",
       "Email Link Clicked               267\n",
       "Form Submitted on Website        116\n",
       "NaN                              103\n",
       "Unreachable                       93\n",
       "Unsubscribed                      61\n",
       "Had a Phone Conversation          30\n",
       "Approached upfront                 9\n",
       "View in browser link Clicked       6\n",
       "Email Received                     2\n",
       "Email Marked Spam                  2\n",
       "Visited Booth in Tradeshow         1\n",
       "Resubscribed to emails             1\n",
       "Name: Last Activity, dtype: int64"
      ]
     },
     "execution_count": 34,
     "metadata": {},
     "output_type": "execute_result"
    }
   ],
   "source": [
    "leads_df['Last Activity'].value_counts(dropna=False)"
   ]
  },
  {
   "cell_type": "markdown",
   "id": "569a794a-b918-42ed-be4e-90dbd03befcf",
   "metadata": {},
   "source": [
    "Replace nan and all other categories with < 100 rows as others"
   ]
  },
  {
   "cell_type": "code",
   "execution_count": 35,
   "id": "be064ab2-db60-42cf-adb2-7ef65c6c3657",
   "metadata": {},
   "outputs": [],
   "source": [
    "last_activity_count = pd.DataFrame(leads_df['Last Activity'].value_counts(dropna=False))\n",
    "for category in list(last_activity_count[last_activity_count['Last Activity']<100].index):\n",
    "    leads_df['Last Activity'].replace(category, 'Others', inplace=True)"
   ]
  },
  {
   "cell_type": "code",
   "execution_count": 36,
   "id": "c40871eb-26a6-4c76-8518-2536c21ecb7d",
   "metadata": {},
   "outputs": [
    {
     "data": {
      "text/plain": [
       "Email Opened                 3437\n",
       "SMS Sent                     2745\n",
       "Olark Chat Conversation       973\n",
       "Page Visited on Website       640\n",
       "Converted to Lead             428\n",
       "Email Bounced                 326\n",
       "Others                        308\n",
       "Email Link Clicked            267\n",
       "Form Submitted on Website     116\n",
       "Name: Last Activity, dtype: int64"
      ]
     },
     "execution_count": 36,
     "metadata": {},
     "output_type": "execute_result"
    }
   ],
   "source": [
    "leads_df['Last Activity'].replace(np.nan, 'Others', inplace=True)\n",
    "leads_df['Last Activity'].value_counts(dropna=False)"
   ]
  },
  {
   "cell_type": "code",
   "execution_count": 37,
   "id": "8d5f97d9-d60b-412d-bb19-d4713bbd8a90",
   "metadata": {},
   "outputs": [
    {
     "data": {
      "image/png": "[encoded data removed]",
      "text/plain": [
       "<Figure size 1000x300 with 1 Axes>"
      ]
     },
     "metadata": {},
     "output_type": "display_data"
    }
   ],
   "source": [
    "plt.figure(figsize=(10,3))\n",
    "fig2 = sns.countplot(leads_df['Last Activity'], hue=leads_df['Converted'])\n",
    "fig2.set_xticklabels(fig2.get_xticklabels(), rotation=90)\n",
    "plt.show()"
   ]
  },
  {
   "cell_type": "markdown",
   "id": "7e99e9a1-09eb-4fca-a1bd-caebf9340719",
   "metadata": {},
   "source": [
    "SMS is the last interaction channel where the lead conversion is the highest followed by email opened"
   ]
  },
  {
   "cell_type": "markdown",
   "id": "d925364d-6a38-4364-8e76-f4ee0d5bd46b",
   "metadata": {},
   "source": [
    "Analyse 'Tags' Column"
   ]
  },
  {
   "cell_type": "code",
   "execution_count": 38,
   "id": "bfe03209-15ff-433c-b18d-d068fb2319f4",
   "metadata": {},
   "outputs": [
    {
     "data": {
      "text/plain": [
       "NaN                                                  3353\n",
       "Will revert after reading the email                  2072\n",
       "Ringing                                              1203\n",
       "Interested in other courses                           513\n",
       "Already a student                                     465\n",
       "Closed by Horizzon                                    358\n",
       "switched off                                          240\n",
       "Busy                                                  186\n",
       "Lost to EINS                                          175\n",
       "Not doing further education                           145\n",
       "Interested  in full time MBA                          117\n",
       "Graduation in progress                                111\n",
       "invalid number                                         83\n",
       "Diploma holder (Not Eligible)                          63\n",
       "wrong number given                                     47\n",
       "opp hangup                                             33\n",
       "number not provided                                    27\n",
       "in touch with EINS                                     12\n",
       "Lost to Others                                          7\n",
       "Still Thinking                                          6\n",
       "Want to take admission but has financial problems       6\n",
       "In confusion whether part time or DLP                   5\n",
       "Interested in Next batch                                5\n",
       "Lateral student                                         3\n",
       "Shall take in the next coming month                     2\n",
       "University not recognized                               2\n",
       "Recognition issue (DEC approval)                        1\n",
       "Name: Tags, dtype: int64"
      ]
     },
     "execution_count": 38,
     "metadata": {},
     "output_type": "execute_result"
    }
   ],
   "source": [
    "leads_df['Tags'].value_counts(dropna=False)"
   ]
  },
  {
   "cell_type": "code",
   "execution_count": 39,
   "id": "3c7b0d29-b292-49fd-bf8c-fb9eeff4cb47",
   "metadata": {},
   "outputs": [],
   "source": [
    "Tags_count = pd.DataFrame(leads_df['Tags'].value_counts(dropna=False))\n",
    "for category in list(Tags_count[Tags_count['Tags']<100].index):\n",
    "    leads_df['Tags'].replace(category, 'Others', inplace=True)"
   ]
  },
  {
   "cell_type": "code",
   "execution_count": 40,
   "id": "96689fdd-7275-48c2-b57f-ac5b4037c965",
   "metadata": {},
   "outputs": [
    {
     "data": {
      "text/plain": [
       "None                                   3353\n",
       "Will revert after reading the email    2072\n",
       "Ringing                                1203\n",
       "Interested in other courses             513\n",
       "Already a student                       465\n",
       "Closed by Horizzon                      358\n",
       "Others                                  302\n",
       "switched off                            240\n",
       "Busy                                    186\n",
       "Lost to EINS                            175\n",
       "Not doing further education             145\n",
       "Interested  in full time MBA            117\n",
       "Graduation in progress                  111\n",
       "Name: Tags, dtype: int64"
      ]
     },
     "execution_count": 40,
     "metadata": {},
     "output_type": "execute_result"
    }
   ],
   "source": [
    "leads_df['Tags'].replace(np.nan, 'None', inplace=True)\n",
    "leads_df['Tags'].value_counts(dropna=False)"
   ]
  },
  {
   "cell_type": "code",
   "execution_count": 41,
   "id": "915ef4d9-71e7-4d9e-b170-03513e29800a",
   "metadata": {},
   "outputs": [
    {
     "data": {
      "image/png": "[encoded data removed]",
      "text/plain": [
       "<Figure size 1000x300 with 1 Axes>"
      ]
     },
     "metadata": {},
     "output_type": "display_data"
    }
   ],
   "source": [
    "plt.figure(figsize=(10,3))\n",
    "fig3 = sns.countplot(leads_df['Tags'], hue=leads_df['Converted'])\n",
    "fig3.set_xticklabels(fig3.get_xticklabels(), rotation=90)\n",
    "plt.show()"
   ]
  },
  {
   "cell_type": "markdown",
   "id": "a0920846-aab2-42f6-a55e-21341d5a5b54",
   "metadata": {},
   "source": [
    "Will revert after reading the email tag have the highest conoversion proportion and also the absolute numbers followed by closed by horizzon interms of proportion"
   ]
  },
  {
   "cell_type": "markdown",
   "id": "7613f760-b7c2-47fe-aa17-bcf5dd257809",
   "metadata": {},
   "source": [
    "#### Check null values % one more time"
   ]
  },
  {
   "cell_type": "code",
   "execution_count": 42,
   "id": "45300810-92a2-46a7-aa30-c07d77111af8",
   "metadata": {},
   "outputs": [
    {
     "data": {
      "text/plain": [
       "Lead Origin                               0.000000\n",
       "Lead Source                               0.000000\n",
       "Do Not Email                              0.000000\n",
       "Do Not Call                               0.000000\n",
       "Converted                                 0.000000\n",
       "TotalVisits                               1.482684\n",
       "Total Time Spent on Website               0.000000\n",
       "Page Views Per Visit                      1.482684\n",
       "Last Activity                             0.000000\n",
       "Specialization                            0.000000\n",
       "What is your current occupation           0.000000\n",
       "Search                                    0.000000\n",
       "Newspaper Article                         0.000000\n",
       "X Education Forums                        0.000000\n",
       "Newspaper                                 0.000000\n",
       "Digital Advertisement                     0.000000\n",
       "Through Recommendations                   0.000000\n",
       "Tags                                      0.000000\n",
       "City                                      0.000000\n",
       "A free copy of Mastering The Interview    0.000000\n",
       "Last Notable Activity                     0.000000\n",
       "dtype: float64"
      ]
     },
     "execution_count": 42,
     "metadata": {},
     "output_type": "execute_result"
    }
   ],
   "source": [
    "(leads_df.isnull().sum()/leads_df.shape[0])*100"
   ]
  },
  {
   "cell_type": "markdown",
   "id": "6b4f1ddf-54c7-48f2-bb92-a018b9cb7a05",
   "metadata": {},
   "source": [
    "Drop all the rows with null values, percentage is less than 2% in all the columns"
   ]
  },
  {
   "cell_type": "code",
   "execution_count": 43,
   "id": "483effb7-ca24-4889-968c-b6a9189240d8",
   "metadata": {},
   "outputs": [],
   "source": [
    "leads_df.dropna(inplace=True)"
   ]
  },
  {
   "cell_type": "code",
   "execution_count": 44,
   "id": "67baf89b-a963-492f-bd26-d9cb21994b59",
   "metadata": {},
   "outputs": [
    {
     "data": {
      "text/plain": [
       "Lead Origin                               0\n",
       "Lead Source                               0\n",
       "Do Not Email                              0\n",
       "Do Not Call                               0\n",
       "Converted                                 0\n",
       "TotalVisits                               0\n",
       "Total Time Spent on Website               0\n",
       "Page Views Per Visit                      0\n",
       "Last Activity                             0\n",
       "Specialization                            0\n",
       "What is your current occupation           0\n",
       "Search                                    0\n",
       "Newspaper Article                         0\n",
       "X Education Forums                        0\n",
       "Newspaper                                 0\n",
       "Digital Advertisement                     0\n",
       "Through Recommendations                   0\n",
       "Tags                                      0\n",
       "City                                      0\n",
       "A free copy of Mastering The Interview    0\n",
       "Last Notable Activity                     0\n",
       "dtype: int64"
      ]
     },
     "execution_count": 44,
     "metadata": {},
     "output_type": "execute_result"
    }
   ],
   "source": [
    "leads_df.isnull().sum()"
   ]
  },
  {
   "cell_type": "markdown",
   "id": "37088fb3-9928-48b2-9172-406548856d68",
   "metadata": {},
   "source": [
    "Analyse 'Lead Origin' Column"
   ]
  },
  {
   "cell_type": "code",
   "execution_count": 45,
   "id": "bebd38ad-53e9-4fed-bc0d-9c4cf04561b9",
   "metadata": {},
   "outputs": [
    {
     "data": {
      "text/plain": [
       "Landing Page Submission    4886\n",
       "API                        3578\n",
       "Lead Add Form               608\n",
       "Lead Import                  31\n",
       "Name: Lead Origin, dtype: int64"
      ]
     },
     "execution_count": 45,
     "metadata": {},
     "output_type": "execute_result"
    }
   ],
   "source": [
    "leads_df['Lead Origin'].value_counts(dropna=False)"
   ]
  },
  {
   "cell_type": "code",
   "execution_count": 46,
   "id": "92c2c08b-6ced-49e7-ac99-8bd75d0c203c",
   "metadata": {},
   "outputs": [
    {
     "data": {
      "text/plain": [
       "<AxesSubplot:xlabel='Lead Origin', ylabel='count'>"
      ]
     },
     "execution_count": 46,
     "metadata": {},
     "output_type": "execute_result"
    },
    {
     "data": {
      "image/png": "[encoded data removed]",
      "text/plain": [
       "<Figure size 1000x300 with 1 Axes>"
      ]
     },
     "metadata": {},
     "output_type": "display_data"
    }
   ],
   "source": [
    "plt.figure(figsize=(10,3))\n",
    "sns.countplot(leads_df['Lead Origin'], hue=leads_df['Converted'])"
   ]
  },
  {
   "cell_type": "markdown",
   "id": "8940823a-dad6-4e93-9094-f581187d43ef",
   "metadata": {},
   "source": [
    "More no of leads come from API and Landing page submission and the conversion rate also looks good\n",
    "\n",
    "Lead add form has the most conversion rate but the lead no is less\n",
    "\n",
    "Concentrate more on incresing the convesion from API and Landing page submission"
   ]
  },
  {
   "cell_type": "markdown",
   "id": "01e4a840-0c38-49ba-b16a-c63166ef318a",
   "metadata": {},
   "source": [
    "Analyse 'Do not call' column"
   ]
  },
  {
   "cell_type": "code",
   "execution_count": 47,
   "id": "15ec77ca-5022-4093-9723-9a31e99bcde6",
   "metadata": {},
   "outputs": [
    {
     "data": {
      "text/plain": [
       "No     9101\n",
       "Yes       2\n",
       "Name: Do Not Call, dtype: int64"
      ]
     },
     "execution_count": 47,
     "metadata": {},
     "output_type": "execute_result"
    }
   ],
   "source": [
    "leads_df['Do Not Call'].value_counts(dropna=False)"
   ]
  },
  {
   "cell_type": "markdown",
   "id": "79e9e619-eca7-48c9-94f1-e67f29100276",
   "metadata": {},
   "source": [
    "All the rows belongs to only one category, this column can be dropped as it doesn't help in predicting the target variable"
   ]
  },
  {
   "cell_type": "code",
   "execution_count": 48,
   "id": "6d68fab4-4455-46e5-9f7f-1f5a1ed80681",
   "metadata": {},
   "outputs": [],
   "source": [
    "leads_df.drop('Do Not Call', axis=1, inplace=True)"
   ]
  },
  {
   "cell_type": "markdown",
   "id": "ddec9b61-e903-499c-8dbb-a80684c7dedf",
   "metadata": {},
   "source": [
    "Analyse 'Do not email' column"
   ]
  },
  {
   "cell_type": "code",
   "execution_count": 49,
   "id": "cef996f2-0d65-476c-9a0c-4883228d0675",
   "metadata": {},
   "outputs": [
    {
     "data": {
      "text/plain": [
       "<AxesSubplot:xlabel='Do Not Email', ylabel='count'>"
      ]
     },
     "execution_count": 49,
     "metadata": {},
     "output_type": "execute_result"
    },
    {
     "data": {
      "image/png": "[encoded data removed]",
      "text/plain": [
       "<Figure size 640x480 with 1 Axes>"
      ]
     },
     "metadata": {},
     "output_type": "display_data"
    }
   ],
   "source": [
    "sns.countplot(leads_df['Do Not Email'], hue=leads_df['Converted'])"
   ]
  },
  {
   "cell_type": "markdown",
   "id": "ede1b0ca-1b2b-495b-8994-da3cd156aba1",
   "metadata": {},
   "source": [
    "Analyse 'Search' column"
   ]
  },
  {
   "cell_type": "code",
   "execution_count": 50,
   "id": "48531707-a941-488f-a31c-29e5b0af3558",
   "metadata": {},
   "outputs": [
    {
     "data": {
      "text/plain": [
       "No     9089\n",
       "Yes      14\n",
       "Name: Search, dtype: int64"
      ]
     },
     "execution_count": 50,
     "metadata": {},
     "output_type": "execute_result"
    }
   ],
   "source": [
    "leads_df['Search'].value_counts(dropna=False)"
   ]
  },
  {
   "cell_type": "markdown",
   "id": "3b58b256-f6f2-400a-a9ec-aa65b9ddde4a",
   "metadata": {},
   "source": [
    "'Search' column can be dropped beacause it has only one category for all the rows which doesn't help to predict the target variable"
   ]
  },
  {
   "cell_type": "code",
   "execution_count": 51,
   "id": "dfabafa1-c3f7-486b-97ca-631e5e7cc8a1",
   "metadata": {},
   "outputs": [],
   "source": [
    "leads_df.drop('Search', axis=1, inplace=True)"
   ]
  },
  {
   "cell_type": "markdown",
   "id": "5c5dfa03-bb19-42db-abd1-6e8aa3a60ad4",
   "metadata": {},
   "source": [
    "Analyse 'Newspaper Article' column"
   ]
  },
  {
   "cell_type": "code",
   "execution_count": 52,
   "id": "3408cb49-af69-465c-b84f-8470515b45f1",
   "metadata": {},
   "outputs": [
    {
     "data": {
      "text/plain": [
       "No     9101\n",
       "Yes       2\n",
       "Name: Newspaper Article, dtype: int64"
      ]
     },
     "execution_count": 52,
     "metadata": {},
     "output_type": "execute_result"
    }
   ],
   "source": [
    "leads_df['Newspaper Article'].value_counts(dropna=False)"
   ]
  },
  {
   "cell_type": "markdown",
   "id": "89c41655-0479-4f6e-8717-987ea6a15d5a",
   "metadata": {},
   "source": [
    "'Newspaper Article' can be dropped beacuse it's imbalanced and almost all the rows has one value which will not help to predict the target variable"
   ]
  },
  {
   "cell_type": "code",
   "execution_count": 53,
   "id": "48a63ad3-26ff-4e6b-8f74-d91fc87ea341",
   "metadata": {},
   "outputs": [],
   "source": [
    "leads_df.drop('Newspaper Article', axis=1, inplace=True)"
   ]
  },
  {
   "cell_type": "markdown",
   "id": "a0a33da0-d1e2-430e-b718-7ded4540b357",
   "metadata": {},
   "source": [
    "Analyse 'Education Forums' Column"
   ]
  },
  {
   "cell_type": "code",
   "execution_count": 54,
   "id": "6e1501f9-2d97-4601-a791-6838deebf0da",
   "metadata": {},
   "outputs": [
    {
     "data": {
      "text/plain": [
       "No     9102\n",
       "Yes       1\n",
       "Name: X Education Forums, dtype: int64"
      ]
     },
     "execution_count": 54,
     "metadata": {},
     "output_type": "execute_result"
    }
   ],
   "source": [
    "leads_df['X Education Forums'].value_counts(dropna=False)"
   ]
  },
  {
   "cell_type": "markdown",
   "id": "15152bd9-fb04-4136-b9e8-0fad878750ed",
   "metadata": {},
   "source": [
    "'X Education Forums'column can be dropped beacuse all the rows contains the same value and no help in predicting the target variable"
   ]
  },
  {
   "cell_type": "markdown",
   "id": "3d2ac5b9-9933-42d2-b8af-34092aa46600",
   "metadata": {},
   "source": [
    "Analyse ['Newspaper', 'Digital Advertisement', 'Through Recommendations'] columns"
   ]
  },
  {
   "cell_type": "code",
   "execution_count": 55,
   "id": "f6ff97ee-60e3-40ff-8b5b-88130add4b01",
   "metadata": {},
   "outputs": [],
   "source": [
    "leads_df.drop('X Education Forums', axis=1, inplace=True)"
   ]
  },
  {
   "cell_type": "code",
   "execution_count": 56,
   "id": "e6a077aa-6a5e-4907-a656-1ede7b73d56d",
   "metadata": {},
   "outputs": [
    {
     "name": "stdout",
     "output_type": "stream",
     "text": [
      "Newspaper\n",
      "No     9102\n",
      "Yes       1\n",
      "Name: Newspaper, dtype: int64 \n",
      "\n",
      "Digital Advertisement\n",
      "No     9099\n",
      "Yes       4\n",
      "Name: Digital Advertisement, dtype: int64 \n",
      "\n",
      "Through Recommendations\n",
      "No     9096\n",
      "Yes       7\n",
      "Name: Through Recommendations, dtype: int64 \n",
      "\n"
     ]
    }
   ],
   "source": [
    "for column in ['Newspaper', 'Digital Advertisement', 'Through Recommendations']:\n",
    "    print(column)\n",
    "    print(leads_df[column].value_counts(dropna=False), \"\\n\")"
   ]
  },
  {
   "cell_type": "markdown",
   "id": "caa49d78-0a7e-449a-82b5-32660df9394e",
   "metadata": {},
   "source": [
    "In all the three columns, there is only one value in all the rows which will not help in anyway to prdict if the lead is converted or not, all of these can be dropped"
   ]
  },
  {
   "cell_type": "code",
   "execution_count": 57,
   "id": "44b23a06-64a9-4281-97e4-4a7c155ce4fa",
   "metadata": {},
   "outputs": [],
   "source": [
    "leads_df.drop(['Newspaper', 'Digital Advertisement', 'Through Recommendations'], axis=1, inplace=True)"
   ]
  },
  {
   "cell_type": "markdown",
   "id": "9f0a37ab-1444-4e43-ae39-e9c4016823fc",
   "metadata": {},
   "source": [
    "Analyse 'A free copy of mastering the interview' column"
   ]
  },
  {
   "cell_type": "code",
   "execution_count": 58,
   "id": "fe0d1aaa-946c-447a-a321-8ba04d7e862b",
   "metadata": {},
   "outputs": [
    {
     "data": {
      "text/plain": [
       "No     6215\n",
       "Yes    2888\n",
       "Name: A free copy of Mastering The Interview, dtype: int64"
      ]
     },
     "execution_count": 58,
     "metadata": {},
     "output_type": "execute_result"
    }
   ],
   "source": [
    "leads_df['A free copy of Mastering The Interview'].value_counts(dropna=False)"
   ]
  },
  {
   "cell_type": "code",
   "execution_count": 59,
   "id": "43d08508-be3b-4c35-a68c-ce5de5233ff7",
   "metadata": {},
   "outputs": [
    {
     "data": {
      "text/plain": [
       "<AxesSubplot:xlabel='A free copy of Mastering The Interview', ylabel='count'>"
      ]
     },
     "execution_count": 59,
     "metadata": {},
     "output_type": "execute_result"
    },
    {
     "data": {
      "image/png": "[encoded data removed]",
      "text/plain": [
       "<Figure size 640x480 with 1 Axes>"
      ]
     },
     "metadata": {},
     "output_type": "display_data"
    }
   ],
   "source": [
    "sns.countplot(leads_df['A free copy of Mastering The Interview'], hue=leads_df['Converted'])"
   ]
  },
  {
   "cell_type": "markdown",
   "id": "1f4e4874-0ad3-4d1d-bf0d-3210ad0a41a2",
   "metadata": {},
   "source": [
    "More no of leads said no for a free copy of mastering the interview and the lead conversion proprtion is also high here"
   ]
  },
  {
   "cell_type": "markdown",
   "id": "72f48c34-7d7d-4ff0-a574-6c2b8110085c",
   "metadata": {},
   "source": [
    "Analyse 'Last Notable Activity' Column"
   ]
  },
  {
   "cell_type": "code",
   "execution_count": 60,
   "id": "c239988e-89f3-4412-9bc1-397573fc5ede",
   "metadata": {},
   "outputs": [
    {
     "data": {
      "text/plain": [
       "Modified                        3270\n",
       "Email Opened                    2827\n",
       "SMS Sent                        2172\n",
       "Page Visited on Website          318\n",
       "Olark Chat Conversation          183\n",
       "Email Link Clicked               173\n",
       "Email Bounced                     60\n",
       "Unsubscribed                      47\n",
       "Unreachable                       32\n",
       "Had a Phone Conversation          14\n",
       "Email Marked Spam                  2\n",
       "Approached upfront                 1\n",
       "Resubscribed to emails             1\n",
       "View in browser link Clicked       1\n",
       "Form Submitted on Website          1\n",
       "Email Received                     1\n",
       "Name: Last Notable Activity, dtype: int64"
      ]
     },
     "execution_count": 60,
     "metadata": {},
     "output_type": "execute_result"
    }
   ],
   "source": [
    "leads_df['Last Notable Activity'].value_counts(dropna=False)"
   ]
  },
  {
   "cell_type": "markdown",
   "id": "f470dd9e-0432-4f88-a0f2-a8c539499ec2",
   "metadata": {},
   "source": [
    "Grouping all the categories with less than 100 rows as Other Activity"
   ]
  },
  {
   "cell_type": "code",
   "execution_count": 61,
   "id": "110181bd-9f80-4ac7-ad75-90af719fa37b",
   "metadata": {},
   "outputs": [],
   "source": [
    "activity_count = pd.DataFrame(leads_df['Last Notable Activity'].value_counts(dropna=False))\n",
    "for category in list(activity_count[activity_count['Last Notable Activity']<100].index):\n",
    "    leads_df['Last Notable Activity'].replace(category, 'Others', inplace=True)"
   ]
  },
  {
   "cell_type": "code",
   "execution_count": 62,
   "id": "1e81404b-45e2-4a94-af4c-c9f327c0f237",
   "metadata": {},
   "outputs": [
    {
     "data": {
      "image/png": "[encoded data removed]",
      "text/plain": [
       "<Figure size 1000x300 with 1 Axes>"
      ]
     },
     "metadata": {},
     "output_type": "display_data"
    }
   ],
   "source": [
    "plt.figure(figsize=(10,3))\n",
    "fig4 = sns.countplot(leads_df['Last Notable Activity'], hue=leads_df['Converted'])\n",
    "fig4.set_xticklabels(fig4.get_xticklabels(), rotation=90)\n",
    "plt.show()"
   ]
  },
  {
   "cell_type": "markdown",
   "id": "aee428ab-2168-4867-9d91-c8d0167a7ca7",
   "metadata": {},
   "source": [
    "### Numerical Variable Analysis"
   ]
  },
  {
   "cell_type": "markdown",
   "id": "10b6baa4-9ed7-43f4-8c61-abf3bd702c69",
   "metadata": {},
   "source": [
    "Analyse the target column i.e converted"
   ]
  },
  {
   "cell_type": "code",
   "execution_count": 63,
   "id": "913f8cb5-7e0b-4b89-bc82-256affc9793f",
   "metadata": {},
   "outputs": [
    {
     "data": {
      "text/plain": [
       "0    61.979567\n",
       "1    38.020433\n",
       "Name: Converted, dtype: float64"
      ]
     },
     "execution_count": 63,
     "metadata": {},
     "output_type": "execute_result"
    }
   ],
   "source": [
    "(leads_df['Converted'].value_counts(dropna=False)/leads_df.shape[0])*100"
   ]
  },
  {
   "cell_type": "markdown",
   "id": "c7995411-fe7d-4e09-8891-501dc125ce40",
   "metadata": {},
   "source": [
    "Check the correlation using heatmap"
   ]
  },
  {
   "cell_type": "code",
   "execution_count": 64,
   "id": "321c9918-5f7f-4c8f-ad2c-4162fc1419d4",
   "metadata": {},
   "outputs": [
    {
     "data": {
      "text/plain": [
       "<AxesSubplot:>"
      ]
     },
     "execution_count": 64,
     "metadata": {},
     "output_type": "execute_result"
    },
    {
     "data": {
      "image/png": "[encoded data removed]",
      "text/plain": [
       "<Figure size 640x480 with 2 Axes>"
      ]
     },
     "metadata": {},
     "output_type": "display_data"
    }
   ],
   "source": [
    "sns.heatmap(leads_df.corr(), annot=True)"
   ]
  },
  {
   "cell_type": "markdown",
   "id": "46f0e331-627d-459a-a1c2-f393380b7c04",
   "metadata": {},
   "source": [
    "There is good psitive correlation between total time spent on website and the conversion\n",
    "\n",
    "Total Visits and page views per visit are almost having negligible affect on the target variable i.e converted"
   ]
  },
  {
   "cell_type": "markdown",
   "id": "c5e40feb-cbcf-4c22-a0b1-7a0220d0d8cc",
   "metadata": {},
   "source": [
    "Analyse 'TotalVisits' Column"
   ]
  },
  {
   "cell_type": "code",
   "execution_count": 65,
   "id": "47e92a32-033d-44cb-94c7-9b35b36ddeef",
   "metadata": {},
   "outputs": [
    {
     "data": {
      "text/plain": [
       "<AxesSubplot:xlabel='TotalVisits'>"
      ]
     },
     "execution_count": 65,
     "metadata": {},
     "output_type": "execute_result"
    },
    {
     "data": {
      "image/png": "[encoded data removed]",
      "text/plain": [
       "<Figure size 2300x300 with 1 Axes>"
      ]
     },
     "metadata": {},
     "output_type": "display_data"
    }
   ],
   "source": [
    "plt.figure(figsize=(23,3))\n",
    "sns.boxplot(leads_df['TotalVisits'])"
   ]
  },
  {
   "cell_type": "markdown",
   "id": "4fe63206-b901-4e73-b533-2a9b4bab89ed",
   "metadata": {},
   "source": [
    "It's clear that there are outliers in the column"
   ]
  },
  {
   "cell_type": "code",
   "execution_count": 66,
   "id": "8c408a94-e713-4e7c-a916-b7e75fc44c35",
   "metadata": {},
   "outputs": [
    {
     "data": {
      "text/plain": [
       "count    9103.000000\n",
       "mean        3.445238\n",
       "std         4.854853\n",
       "min         0.000000\n",
       "10%         0.000000\n",
       "20%         0.000000\n",
       "30%         2.000000\n",
       "40%         2.000000\n",
       "50%         3.000000\n",
       "60%         3.000000\n",
       "70%         4.000000\n",
       "80%         5.000000\n",
       "90%         7.000000\n",
       "99%        17.000000\n",
       "max       251.000000\n",
       "Name: TotalVisits, dtype: float64"
      ]
     },
     "execution_count": 66,
     "metadata": {},
     "output_type": "execute_result"
    }
   ],
   "source": [
    "leads_df['TotalVisits'].describe(percentiles=[0.1,0.2,0.3,0.4,0.5,0.6,0.7,0.8,0.9,0.99])"
   ]
  },
  {
   "cell_type": "code",
   "execution_count": 67,
   "id": "41a9a59d-ae16-4c3c-8dc5-26e022b2a13e",
   "metadata": {},
   "outputs": [],
   "source": [
    "### outlier removal by removing the rows with top and bottom 1 % of the totalvisits\n",
    "\n",
    "top_1_percent = leads_df['TotalVisits'].quantile(0.99)\n",
    "leads_df = leads_df[leads_df['TotalVisits']<top_1_percent]\n",
    "bottom_1_percent = leads_df['TotalVisits'].quantile(0.01)\n",
    "leads_df = leads_df[leads_df['TotalVisits']>bottom_1_percent]"
   ]
  },
  {
   "cell_type": "code",
   "execution_count": 68,
   "id": "e9a160f4-a680-4726-9bd5-80e1cadac316",
   "metadata": {},
   "outputs": [
    {
     "data": {
      "text/plain": [
       "<AxesSubplot:xlabel='TotalVisits'>"
      ]
     },
     "execution_count": 68,
     "metadata": {},
     "output_type": "execute_result"
    },
    {
     "data": {
      "image/png": "[encoded data removed]",
      "text/plain": [
       "<Figure size 2300x300 with 1 Axes>"
      ]
     },
     "metadata": {},
     "output_type": "display_data"
    }
   ],
   "source": [
    "plt.figure(figsize=(23,3))\n",
    "sns.boxplot(leads_df['TotalVisits'])"
   ]
  },
  {
   "cell_type": "markdown",
   "id": "a4a0a17b-67d1-48df-b408-88f01f649035",
   "metadata": {},
   "source": [
    "Analyse 'Total Time Spent On Website' Column"
   ]
  },
  {
   "cell_type": "code",
   "execution_count": 69,
   "id": "4d379e40-ae4a-4736-a23f-5fe9b7492e9c",
   "metadata": {},
   "outputs": [
    {
     "data": {
      "text/plain": [
       "<AxesSubplot:xlabel='Total Time Spent on Website'>"
      ]
     },
     "execution_count": 69,
     "metadata": {},
     "output_type": "execute_result"
    },
    {
     "data": {
      "image/png": "[encoded data removed]",
      "text/plain": [
       "<Figure size 2300x300 with 1 Axes>"
      ]
     },
     "metadata": {},
     "output_type": "display_data"
    }
   ],
   "source": [
    "plt.figure(figsize=(23,3))\n",
    "sns.boxplot(leads_df['Total Time Spent on Website'])"
   ]
  },
  {
   "cell_type": "markdown",
   "id": "3013d4e0-cf8f-4508-a5a6-92a14bb4d347",
   "metadata": {},
   "source": [
    "There are no outliers here"
   ]
  },
  {
   "cell_type": "markdown",
   "id": "e9758a52-ce06-4f4b-8c2b-bbf1ada3ae56",
   "metadata": {},
   "source": [
    "Analyse 'Page Views Per Visit' Column"
   ]
  },
  {
   "cell_type": "code",
   "execution_count": 70,
   "id": "a035b367-5739-4aea-ae38-73af96f0b9a8",
   "metadata": {},
   "outputs": [
    {
     "data": {
      "text/plain": [
       "<AxesSubplot:xlabel='Page Views Per Visit'>"
      ]
     },
     "execution_count": 70,
     "metadata": {},
     "output_type": "execute_result"
    },
    {
     "data": {
      "image/png": "[encoded data removed]",
      "text/plain": [
       "<Figure size 2300x300 with 1 Axes>"
      ]
     },
     "metadata": {},
     "output_type": "display_data"
    }
   ],
   "source": [
    "plt.figure(figsize=(23,3))\n",
    "sns.boxplot(leads_df['Page Views Per Visit'])"
   ]
  },
  {
   "cell_type": "code",
   "execution_count": 71,
   "id": "6bd4465c-f81f-403a-a6d0-d2c0a225051e",
   "metadata": {},
   "outputs": [
    {
     "data": {
      "text/plain": [
       "count    6815.000000\n",
       "mean        3.084374\n",
       "std         1.817519\n",
       "min         1.000000\n",
       "10%         1.250000\n",
       "20%         2.000000\n",
       "30%         2.000000\n",
       "40%         2.000000\n",
       "50%         2.800000\n",
       "60%         3.000000\n",
       "70%         4.000000\n",
       "80%         4.000000\n",
       "90%         5.000000\n",
       "99%         9.000000\n",
       "max        16.000000\n",
       "Name: Page Views Per Visit, dtype: float64"
      ]
     },
     "execution_count": 71,
     "metadata": {},
     "output_type": "execute_result"
    }
   ],
   "source": [
    "leads_df['Page Views Per Visit'].describe(percentiles=[0.1,0.2,0.3,0.4,0.5,0.6,0.7,0.8,0.9,0.99])"
   ]
  },
  {
   "cell_type": "code",
   "execution_count": 72,
   "id": "765a8ba2-632b-4021-944e-d160638e88ea",
   "metadata": {},
   "outputs": [
    {
     "data": {
      "text/plain": [
       "<AxesSubplot:xlabel='Page Views Per Visit'>"
      ]
     },
     "execution_count": 72,
     "metadata": {},
     "output_type": "execute_result"
    },
    {
     "data": {
      "image/png": "[encoded data removed]",
      "text/plain": [
       "<Figure size 2300x300 with 1 Axes>"
      ]
     },
     "metadata": {},
     "output_type": "display_data"
    }
   ],
   "source": [
    "### outlier removal by removing the rows with top and bottom 1 % of the totalvisits\n",
    "\n",
    "top_1_percent = leads_df['Page Views Per Visit'].quantile(0.99)\n",
    "leads_df = leads_df[leads_df['Page Views Per Visit']<top_1_percent]\n",
    "bottom_1_percent = leads_df['Page Views Per Visit'].quantile(0.01)\n",
    "leads_df = leads_df[leads_df['Page Views Per Visit']>bottom_1_percent]\n",
    "plt.figure(figsize=(23,3))\n",
    "sns.boxplot(leads_df['Page Views Per Visit'])"
   ]
  },
  {
   "cell_type": "markdown",
   "id": "5b6e9016-c9d0-4736-83c4-f84187c06fa3",
   "metadata": {},
   "source": [
    "Bivariate analysis on columns ['Page Views Per Visit','TotalVisits','Total Time Spent on Website'] vs the converted column"
   ]
  },
  {
   "cell_type": "code",
   "execution_count": 73,
   "id": "5408b5f7-ca99-4fa8-b6b5-dad55a0b89d2",
   "metadata": {},
   "outputs": [
    {
     "name": "stdout",
     "output_type": "stream",
     "text": [
      "Page Views Per Visit -Convereted\n"
     ]
    },
    {
     "data": {
      "image/png": "[encoded data removed]",
      "text/plain": [
       "<Figure size 640x480 with 1 Axes>"
      ]
     },
     "metadata": {},
     "output_type": "display_data"
    },
    {
     "name": "stdout",
     "output_type": "stream",
     "text": [
      "None\n",
      "TotalVisits -Convereted\n"
     ]
    },
    {
     "data": {
      "image/png": "[encoded data removed]",
      "text/plain": [
       "<Figure size 640x480 with 1 Axes>"
      ]
     },
     "metadata": {},
     "output_type": "display_data"
    },
    {
     "name": "stdout",
     "output_type": "stream",
     "text": [
      "None\n",
      "Total Time Spent on Website -Convereted\n"
     ]
    },
    {
     "data": {
      "image/png": "[encoded data removed]",
      "text/plain": [
       "<Figure size 640x480 with 1 Axes>"
      ]
     },
     "metadata": {},
     "output_type": "display_data"
    },
    {
     "name": "stdout",
     "output_type": "stream",
     "text": [
      "None\n"
     ]
    }
   ],
   "source": [
    "for column in ['Page Views Per Visit','TotalVisits','Total Time Spent on Website']:\n",
    "    print(column,'-Convereted')\n",
    "    sns.boxplot(y=column, x='Converted', data=leads_df)\n",
    "    print(plt.show())"
   ]
  },
  {
   "cell_type": "markdown",
   "id": "95f41472-459c-4e10-9a4e-20f0613b1fa4",
   "metadata": {},
   "source": [
    "Pgae views per visit doen't look like there is any relation with the converted column as bith yes and no have similar kind of distribution\n",
    "\n",
    "TotalVisits is also having same median value for both converted yes and no ctaegories, nothing is stronlgy evident here\n",
    "\n",
    "Total time spent on website median value is way higher for converted leads than thos which are not, it's evident that more the time spent on website, lead conversion probability is higher"
   ]
  },
  {
   "cell_type": "markdown",
   "id": "69bbdbaa-9b39-48c1-85b3-4d8bcd2632fc",
   "metadata": {},
   "source": [
    "### Creating Dummy Variables"
   ]
  },
  {
   "cell_type": "code",
   "execution_count": 74,
   "id": "ffe89511-c119-46d1-8f2d-bb4dd6d6224b",
   "metadata": {},
   "outputs": [
    {
     "name": "stdout",
     "output_type": "stream",
     "text": [
      "Lead Origin :\n",
      "['API' 'Landing Page Submission' 'Lead Add Form' 'Lead Import']\n",
      "----------------------------\n",
      "Lead Source :\n",
      "['Organic Search' 'Direct Traffic' 'Google' 'Referral Sites' 'Olark Chat'\n",
      " 'Others' 'Reference' 'Facebook' 'Welingak Website']\n",
      "----------------------------\n",
      "Do Not Email :\n",
      "['No' 'Yes']\n",
      "----------------------------\n",
      "Last Activity :\n",
      "['Email Opened' 'Page Visited on Website' 'Email Link Clicked'\n",
      " 'Form Submitted on Website' 'Others' 'Olark Chat Conversation'\n",
      " 'Email Bounced' 'Converted to Lead' 'SMS Sent']\n",
      "----------------------------\n",
      "Specialization :\n",
      "['Others' 'Business Administration' 'Management Specialization'\n",
      " 'Travel and Tourism' 'Media and Advertising' 'International Business'\n",
      " 'E-COMMERCE' 'Services Excellence' 'Banking, Investment And Insurance'\n",
      " 'Rural and Agribusiness' 'E-Business']\n",
      "----------------------------\n",
      "What is your current occupation :\n",
      "['Unemployed' 'Student' 'Working Professional' 'Businessman' 'Other'\n",
      " 'Housewife']\n",
      "----------------------------\n",
      "Tags :\n",
      "['Ringing' 'Will revert after reading the email' 'None' 'Lost to EINS'\n",
      " 'Interested in other courses' 'Others' 'Busy' 'switched off'\n",
      " 'Already a student' 'Graduation in progress'\n",
      " 'Not doing further education' 'Interested  in full time MBA'\n",
      " 'Closed by Horizzon']\n",
      "----------------------------\n",
      "City :\n",
      "['Mumbai' 'Thane & Outskirts' 'Other Metro Cities' 'Other Cities'\n",
      " 'Other Cities of Maharashtra' 'Tier II Cities']\n",
      "----------------------------\n",
      "A free copy of Mastering The Interview :\n",
      "['No' 'Yes']\n",
      "----------------------------\n",
      "Last Notable Activity :\n",
      "['Email Opened' 'Modified' 'Page Visited on Website' 'Email Link Clicked'\n",
      " 'Others' 'Olark Chat Conversation' 'SMS Sent']\n",
      "----------------------------\n"
     ]
    }
   ],
   "source": [
    "### categorical variables unique values\n",
    "categorical_columns = []\n",
    "for col in leads_df.columns:\n",
    "    if leads_df[col].dtype == 'object':  \n",
    "        categorical_columns.append(col)\n",
    "        print(col,':')\n",
    "        print(leads_df[col].unique())\n",
    "        print('----------------------------')"
   ]
  },
  {
   "cell_type": "markdown",
   "id": "81ba67f4-62d5-434d-9321-10887f136e48",
   "metadata": {},
   "source": [
    "##### Map Variable with Yes/No categories to 1/0"
   ]
  },
  {
   "cell_type": "code",
   "execution_count": 75,
   "id": "4afa6553-6bad-4324-9039-25e32b83bc22",
   "metadata": {},
   "outputs": [],
   "source": [
    "variables = ['A free copy of Mastering The Interview', 'Do Not Email']\n",
    "for variable in variables:\n",
    "    leads_df[variable].map({'Yes':1,'No':0})"
   ]
  },
  {
   "cell_type": "markdown",
   "id": "65439e60-ebf0-4ad1-aed8-368bd902d4f9",
   "metadata": {},
   "source": [
    "##### Get dummies for the other columns in the data"
   ]
  },
  {
   "cell_type": "code",
   "execution_count": 76,
   "id": "4020dc7a-3f4d-4cfc-b2d9-4b9b49f5d614",
   "metadata": {},
   "outputs": [],
   "source": [
    "for column in categorical_columns:\n",
    "    if column not in variables:\n",
    "        dummies = pd.get_dummies(leads_df[column], prefix=column)\n",
    "        leads_df = pd.concat([leads_df,dummies],1)\n",
    "    elif column not in variables and column in ['Lead Origin','What is your current occupation','City']:\n",
    "        dummies=pd.get_dummies(leads_df[column], drop_first=True)\n",
    "        leads_df = pd.concat([leads_df,dummies],1)"
   ]
  },
  {
   "cell_type": "code",
   "execution_count": 77,
   "id": "30f5d2b0-d9dd-4db5-b48f-33f12189d6e8",
   "metadata": {},
   "outputs": [],
   "source": [
    "leads_df.drop(['Specialization_Others','Lead Source_Others','Last Activity_Others','Last Notable Activity_Others','Tags_Others'], axis=1, inplace=True)"
   ]
  },
  {
   "cell_type": "code",
   "execution_count": 78,
   "id": "37cafec5-64fc-4031-b1ef-9064671705c1",
   "metadata": {},
   "outputs": [],
   "source": [
    "leads_df.drop(categorical_columns, axis=1, inplace=True) ### dropping the riginal columns where dummie cretion is performed"
   ]
  },
  {
   "cell_type": "markdown",
   "id": "f381f4ed-85a9-49fa-9841-b0c105895220",
   "metadata": {},
   "source": [
    "### Model Building"
   ]
  },
  {
   "cell_type": "code",
   "execution_count": 79,
   "id": "ec288162-a32f-411c-8ae8-70346de78c25",
   "metadata": {},
   "outputs": [],
   "source": [
    "### assign X and y from the leads_df\n",
    "\n",
    "y = leads_df['Converted']\n",
    "X = leads_df.drop('Converted', axis=1)"
   ]
  },
  {
   "cell_type": "code",
   "execution_count": 80,
   "id": "83ae5860-0dfc-49b7-93e1-b5f9370cdff4",
   "metadata": {},
   "outputs": [],
   "source": [
    "### split the data for training and testing\n",
    "\n",
    "X_train, X_test, y_train, y_test = train_test_split(X, y, train_size=0.7, test_size=0.3, random_state = 23)"
   ]
  },
  {
   "cell_type": "code",
   "execution_count": 81,
   "id": "9920dd45-4b53-4aa2-ae1d-8f2bb2e337d3",
   "metadata": {},
   "outputs": [
    {
     "data": {
      "text/plain": [
       "(4236, 63)"
      ]
     },
     "execution_count": 81,
     "metadata": {},
     "output_type": "execute_result"
    }
   ],
   "source": [
    "X_train.shape"
   ]
  },
  {
   "cell_type": "code",
   "execution_count": 82,
   "id": "50ee4052-bbc9-4845-958a-887f344c8184",
   "metadata": {},
   "outputs": [
    {
     "data": {
      "text/plain": [
       "(1816, 63)"
      ]
     },
     "execution_count": 82,
     "metadata": {},
     "output_type": "execute_result"
    }
   ],
   "source": [
    "X_test.shape"
   ]
  },
  {
   "cell_type": "markdown",
   "id": "e828a35f-307a-4fae-8e44-19f15d91813b",
   "metadata": {},
   "source": [
    "#### Scaling the columns with numbers"
   ]
  },
  {
   "cell_type": "code",
   "execution_count": 83,
   "id": "9fe06c0f-2229-460b-9a08-b48aaff65676",
   "metadata": {},
   "outputs": [],
   "source": [
    "scaler = StandardScaler()\n",
    "\n",
    "for column in list(X_train.columns):\n",
    "    if (X_train[column].dtype == 'int64' or X_train[column].dtype == 'float64'):\n",
    "        X_train[[column]] = scaler.fit_transform(X_train[[column]])"
   ]
  },
  {
   "cell_type": "code",
   "execution_count": 84,
   "id": "f46f2e75-4345-4d7d-9eb2-4a992313036a",
   "metadata": {},
   "outputs": [
    {
     "data": {
      "text/html": [
       "<div>\n",
       "<style scoped>\n",
       "    .dataframe tbody tr th:only-of-type {\n",
       "        vertical-align: middle;\n",
       "    }\n",
       "\n",
       "    .dataframe tbody tr th {\n",
       "        vertical-align: top;\n",
       "    }\n",
       "\n",
       "    .dataframe thead th {\n",
       "        text-align: right;\n",
       "    }\n",
       "</style>\n",
       "<table border=\"1\" class=\"dataframe\">\n",
       "  <thead>\n",
       "    <tr style=\"text-align: right;\">\n",
       "      <th></th>\n",
       "      <th>TotalVisits</th>\n",
       "      <th>Total Time Spent on Website</th>\n",
       "      <th>Page Views Per Visit</th>\n",
       "      <th>Lead Origin_API</th>\n",
       "      <th>Lead Origin_Landing Page Submission</th>\n",
       "      <th>Lead Origin_Lead Add Form</th>\n",
       "      <th>Lead Origin_Lead Import</th>\n",
       "      <th>Lead Source_Direct Traffic</th>\n",
       "      <th>Lead Source_Facebook</th>\n",
       "      <th>Lead Source_Google</th>\n",
       "      <th>Lead Source_Olark Chat</th>\n",
       "      <th>Lead Source_Organic Search</th>\n",
       "      <th>Lead Source_Reference</th>\n",
       "      <th>Lead Source_Referral Sites</th>\n",
       "      <th>Lead Source_Welingak Website</th>\n",
       "      <th>Last Activity_Converted to Lead</th>\n",
       "      <th>Last Activity_Email Bounced</th>\n",
       "      <th>Last Activity_Email Link Clicked</th>\n",
       "      <th>Last Activity_Email Opened</th>\n",
       "      <th>Last Activity_Form Submitted on Website</th>\n",
       "      <th>Last Activity_Olark Chat Conversation</th>\n",
       "      <th>Last Activity_Page Visited on Website</th>\n",
       "      <th>Last Activity_SMS Sent</th>\n",
       "      <th>Specialization_Banking, Investment And Insurance</th>\n",
       "      <th>Specialization_Business Administration</th>\n",
       "      <th>Specialization_E-Business</th>\n",
       "      <th>Specialization_E-COMMERCE</th>\n",
       "      <th>Specialization_International Business</th>\n",
       "      <th>Specialization_Management Specialization</th>\n",
       "      <th>Specialization_Media and Advertising</th>\n",
       "      <th>Specialization_Rural and Agribusiness</th>\n",
       "      <th>Specialization_Services Excellence</th>\n",
       "      <th>Specialization_Travel and Tourism</th>\n",
       "      <th>What is your current occupation_Businessman</th>\n",
       "      <th>What is your current occupation_Housewife</th>\n",
       "      <th>What is your current occupation_Other</th>\n",
       "      <th>What is your current occupation_Student</th>\n",
       "      <th>What is your current occupation_Unemployed</th>\n",
       "      <th>What is your current occupation_Working Professional</th>\n",
       "      <th>Tags_Already a student</th>\n",
       "      <th>Tags_Busy</th>\n",
       "      <th>Tags_Closed by Horizzon</th>\n",
       "      <th>Tags_Graduation in progress</th>\n",
       "      <th>Tags_Interested  in full time MBA</th>\n",
       "      <th>Tags_Interested in other courses</th>\n",
       "      <th>Tags_Lost to EINS</th>\n",
       "      <th>Tags_None</th>\n",
       "      <th>Tags_Not doing further education</th>\n",
       "      <th>Tags_Ringing</th>\n",
       "      <th>Tags_Will revert after reading the email</th>\n",
       "      <th>Tags_switched off</th>\n",
       "      <th>City_Mumbai</th>\n",
       "      <th>City_Other Cities</th>\n",
       "      <th>City_Other Cities of Maharashtra</th>\n",
       "      <th>City_Other Metro Cities</th>\n",
       "      <th>City_Thane &amp; Outskirts</th>\n",
       "      <th>City_Tier II Cities</th>\n",
       "      <th>Last Notable Activity_Email Link Clicked</th>\n",
       "      <th>Last Notable Activity_Email Opened</th>\n",
       "      <th>Last Notable Activity_Modified</th>\n",
       "      <th>Last Notable Activity_Olark Chat Conversation</th>\n",
       "      <th>Last Notable Activity_Page Visited on Website</th>\n",
       "      <th>Last Notable Activity_SMS Sent</th>\n",
       "    </tr>\n",
       "  </thead>\n",
       "  <tbody>\n",
       "    <tr>\n",
       "      <th>5306</th>\n",
       "      <td>-0.550467</td>\n",
       "      <td>0.869242</td>\n",
       "      <td>-0.124341</td>\n",
       "      <td>0</td>\n",
       "      <td>1</td>\n",
       "      <td>0</td>\n",
       "      <td>0</td>\n",
       "      <td>1</td>\n",
       "      <td>0</td>\n",
       "      <td>0</td>\n",
       "      <td>0</td>\n",
       "      <td>0</td>\n",
       "      <td>0</td>\n",
       "      <td>0</td>\n",
       "      <td>0</td>\n",
       "      <td>0</td>\n",
       "      <td>0</td>\n",
       "      <td>0</td>\n",
       "      <td>0</td>\n",
       "      <td>0</td>\n",
       "      <td>0</td>\n",
       "      <td>0</td>\n",
       "      <td>1</td>\n",
       "      <td>0</td>\n",
       "      <td>0</td>\n",
       "      <td>0</td>\n",
       "      <td>0</td>\n",
       "      <td>0</td>\n",
       "      <td>0</td>\n",
       "      <td>0</td>\n",
       "      <td>0</td>\n",
       "      <td>0</td>\n",
       "      <td>1</td>\n",
       "      <td>0</td>\n",
       "      <td>0</td>\n",
       "      <td>0</td>\n",
       "      <td>0</td>\n",
       "      <td>1</td>\n",
       "      <td>0</td>\n",
       "      <td>0</td>\n",
       "      <td>0</td>\n",
       "      <td>0</td>\n",
       "      <td>0</td>\n",
       "      <td>0</td>\n",
       "      <td>0</td>\n",
       "      <td>0</td>\n",
       "      <td>1</td>\n",
       "      <td>0</td>\n",
       "      <td>0</td>\n",
       "      <td>0</td>\n",
       "      <td>0</td>\n",
       "      <td>0</td>\n",
       "      <td>1</td>\n",
       "      <td>0</td>\n",
       "      <td>0</td>\n",
       "      <td>0</td>\n",
       "      <td>0</td>\n",
       "      <td>0</td>\n",
       "      <td>0</td>\n",
       "      <td>0</td>\n",
       "      <td>0</td>\n",
       "      <td>0</td>\n",
       "      <td>1</td>\n",
       "    </tr>\n",
       "    <tr>\n",
       "      <th>2509</th>\n",
       "      <td>-0.550467</td>\n",
       "      <td>0.601811</td>\n",
       "      <td>-0.124341</td>\n",
       "      <td>0</td>\n",
       "      <td>1</td>\n",
       "      <td>0</td>\n",
       "      <td>0</td>\n",
       "      <td>0</td>\n",
       "      <td>0</td>\n",
       "      <td>0</td>\n",
       "      <td>0</td>\n",
       "      <td>1</td>\n",
       "      <td>0</td>\n",
       "      <td>0</td>\n",
       "      <td>0</td>\n",
       "      <td>0</td>\n",
       "      <td>0</td>\n",
       "      <td>0</td>\n",
       "      <td>0</td>\n",
       "      <td>0</td>\n",
       "      <td>0</td>\n",
       "      <td>0</td>\n",
       "      <td>1</td>\n",
       "      <td>0</td>\n",
       "      <td>0</td>\n",
       "      <td>0</td>\n",
       "      <td>0</td>\n",
       "      <td>0</td>\n",
       "      <td>0</td>\n",
       "      <td>0</td>\n",
       "      <td>0</td>\n",
       "      <td>0</td>\n",
       "      <td>1</td>\n",
       "      <td>0</td>\n",
       "      <td>0</td>\n",
       "      <td>0</td>\n",
       "      <td>1</td>\n",
       "      <td>0</td>\n",
       "      <td>0</td>\n",
       "      <td>0</td>\n",
       "      <td>0</td>\n",
       "      <td>0</td>\n",
       "      <td>0</td>\n",
       "      <td>0</td>\n",
       "      <td>0</td>\n",
       "      <td>0</td>\n",
       "      <td>0</td>\n",
       "      <td>0</td>\n",
       "      <td>0</td>\n",
       "      <td>1</td>\n",
       "      <td>0</td>\n",
       "      <td>0</td>\n",
       "      <td>1</td>\n",
       "      <td>0</td>\n",
       "      <td>0</td>\n",
       "      <td>0</td>\n",
       "      <td>0</td>\n",
       "      <td>0</td>\n",
       "      <td>0</td>\n",
       "      <td>0</td>\n",
       "      <td>0</td>\n",
       "      <td>0</td>\n",
       "      <td>1</td>\n",
       "    </tr>\n",
       "    <tr>\n",
       "      <th>7246</th>\n",
       "      <td>-0.550467</td>\n",
       "      <td>-0.835404</td>\n",
       "      <td>-0.124341</td>\n",
       "      <td>1</td>\n",
       "      <td>0</td>\n",
       "      <td>0</td>\n",
       "      <td>0</td>\n",
       "      <td>0</td>\n",
       "      <td>0</td>\n",
       "      <td>0</td>\n",
       "      <td>1</td>\n",
       "      <td>0</td>\n",
       "      <td>0</td>\n",
       "      <td>0</td>\n",
       "      <td>0</td>\n",
       "      <td>0</td>\n",
       "      <td>0</td>\n",
       "      <td>0</td>\n",
       "      <td>0</td>\n",
       "      <td>0</td>\n",
       "      <td>1</td>\n",
       "      <td>0</td>\n",
       "      <td>0</td>\n",
       "      <td>0</td>\n",
       "      <td>1</td>\n",
       "      <td>0</td>\n",
       "      <td>0</td>\n",
       "      <td>0</td>\n",
       "      <td>0</td>\n",
       "      <td>0</td>\n",
       "      <td>0</td>\n",
       "      <td>0</td>\n",
       "      <td>0</td>\n",
       "      <td>0</td>\n",
       "      <td>0</td>\n",
       "      <td>0</td>\n",
       "      <td>0</td>\n",
       "      <td>1</td>\n",
       "      <td>0</td>\n",
       "      <td>0</td>\n",
       "      <td>0</td>\n",
       "      <td>0</td>\n",
       "      <td>0</td>\n",
       "      <td>0</td>\n",
       "      <td>0</td>\n",
       "      <td>0</td>\n",
       "      <td>1</td>\n",
       "      <td>0</td>\n",
       "      <td>0</td>\n",
       "      <td>0</td>\n",
       "      <td>0</td>\n",
       "      <td>1</td>\n",
       "      <td>0</td>\n",
       "      <td>0</td>\n",
       "      <td>0</td>\n",
       "      <td>0</td>\n",
       "      <td>0</td>\n",
       "      <td>0</td>\n",
       "      <td>0</td>\n",
       "      <td>1</td>\n",
       "      <td>0</td>\n",
       "      <td>0</td>\n",
       "      <td>0</td>\n",
       "    </tr>\n",
       "    <tr>\n",
       "      <th>2824</th>\n",
       "      <td>0.244141</td>\n",
       "      <td>-1.170148</td>\n",
       "      <td>1.238921</td>\n",
       "      <td>0</td>\n",
       "      <td>1</td>\n",
       "      <td>0</td>\n",
       "      <td>0</td>\n",
       "      <td>1</td>\n",
       "      <td>0</td>\n",
       "      <td>0</td>\n",
       "      <td>0</td>\n",
       "      <td>0</td>\n",
       "      <td>0</td>\n",
       "      <td>0</td>\n",
       "      <td>0</td>\n",
       "      <td>0</td>\n",
       "      <td>0</td>\n",
       "      <td>0</td>\n",
       "      <td>0</td>\n",
       "      <td>0</td>\n",
       "      <td>0</td>\n",
       "      <td>1</td>\n",
       "      <td>0</td>\n",
       "      <td>0</td>\n",
       "      <td>0</td>\n",
       "      <td>0</td>\n",
       "      <td>0</td>\n",
       "      <td>0</td>\n",
       "      <td>1</td>\n",
       "      <td>0</td>\n",
       "      <td>0</td>\n",
       "      <td>0</td>\n",
       "      <td>0</td>\n",
       "      <td>0</td>\n",
       "      <td>0</td>\n",
       "      <td>0</td>\n",
       "      <td>0</td>\n",
       "      <td>1</td>\n",
       "      <td>0</td>\n",
       "      <td>0</td>\n",
       "      <td>0</td>\n",
       "      <td>0</td>\n",
       "      <td>0</td>\n",
       "      <td>0</td>\n",
       "      <td>0</td>\n",
       "      <td>0</td>\n",
       "      <td>1</td>\n",
       "      <td>0</td>\n",
       "      <td>0</td>\n",
       "      <td>0</td>\n",
       "      <td>0</td>\n",
       "      <td>1</td>\n",
       "      <td>0</td>\n",
       "      <td>0</td>\n",
       "      <td>0</td>\n",
       "      <td>0</td>\n",
       "      <td>0</td>\n",
       "      <td>0</td>\n",
       "      <td>0</td>\n",
       "      <td>1</td>\n",
       "      <td>0</td>\n",
       "      <td>0</td>\n",
       "      <td>0</td>\n",
       "    </tr>\n",
       "    <tr>\n",
       "      <th>8168</th>\n",
       "      <td>3.422577</td>\n",
       "      <td>-0.733526</td>\n",
       "      <td>2.261368</td>\n",
       "      <td>0</td>\n",
       "      <td>1</td>\n",
       "      <td>0</td>\n",
       "      <td>0</td>\n",
       "      <td>0</td>\n",
       "      <td>0</td>\n",
       "      <td>0</td>\n",
       "      <td>0</td>\n",
       "      <td>1</td>\n",
       "      <td>0</td>\n",
       "      <td>0</td>\n",
       "      <td>0</td>\n",
       "      <td>0</td>\n",
       "      <td>0</td>\n",
       "      <td>0</td>\n",
       "      <td>0</td>\n",
       "      <td>0</td>\n",
       "      <td>0</td>\n",
       "      <td>0</td>\n",
       "      <td>1</td>\n",
       "      <td>0</td>\n",
       "      <td>0</td>\n",
       "      <td>0</td>\n",
       "      <td>0</td>\n",
       "      <td>0</td>\n",
       "      <td>1</td>\n",
       "      <td>0</td>\n",
       "      <td>0</td>\n",
       "      <td>0</td>\n",
       "      <td>0</td>\n",
       "      <td>0</td>\n",
       "      <td>0</td>\n",
       "      <td>0</td>\n",
       "      <td>0</td>\n",
       "      <td>1</td>\n",
       "      <td>0</td>\n",
       "      <td>0</td>\n",
       "      <td>0</td>\n",
       "      <td>0</td>\n",
       "      <td>0</td>\n",
       "      <td>0</td>\n",
       "      <td>0</td>\n",
       "      <td>0</td>\n",
       "      <td>0</td>\n",
       "      <td>0</td>\n",
       "      <td>0</td>\n",
       "      <td>0</td>\n",
       "      <td>0</td>\n",
       "      <td>0</td>\n",
       "      <td>0</td>\n",
       "      <td>0</td>\n",
       "      <td>1</td>\n",
       "      <td>0</td>\n",
       "      <td>0</td>\n",
       "      <td>0</td>\n",
       "      <td>0</td>\n",
       "      <td>0</td>\n",
       "      <td>0</td>\n",
       "      <td>0</td>\n",
       "      <td>1</td>\n",
       "    </tr>\n",
       "  </tbody>\n",
       "</table>\n",
       "</div>"
      ],
      "text/plain": [
       "      TotalVisits  Total Time Spent on Website  Page Views Per Visit  \\\n",
       "5306    -0.550467                     0.869242             -0.124341   \n",
       "2509    -0.550467                     0.601811             -0.124341   \n",
       "7246    -0.550467                    -0.835404             -0.124341   \n",
       "2824     0.244141                    -1.170148              1.238921   \n",
       "8168     3.422577                    -0.733526              2.261368   \n",
       "\n",
       "      Lead Origin_API  Lead Origin_Landing Page Submission  \\\n",
       "5306                0                                    1   \n",
       "2509                0                                    1   \n",
       "7246                1                                    0   \n",
       "2824                0                                    1   \n",
       "8168                0                                    1   \n",
       "\n",
       "      Lead Origin_Lead Add Form  Lead Origin_Lead Import  \\\n",
       "5306                          0                        0   \n",
       "2509                          0                        0   \n",
       "7246                          0                        0   \n",
       "2824                          0                        0   \n",
       "8168                          0                        0   \n",
       "\n",
       "      Lead Source_Direct Traffic  Lead Source_Facebook  Lead Source_Google  \\\n",
       "5306                           1                     0                   0   \n",
       "2509                           0                     0                   0   \n",
       "7246                           0                     0                   0   \n",
       "2824                           1                     0                   0   \n",
       "8168                           0                     0                   0   \n",
       "\n",
       "      Lead Source_Olark Chat  Lead Source_Organic Search  \\\n",
       "5306                       0                           0   \n",
       "2509                       0                           1   \n",
       "7246                       1                           0   \n",
       "2824                       0                           0   \n",
       "8168                       0                           1   \n",
       "\n",
       "      Lead Source_Reference  Lead Source_Referral Sites  \\\n",
       "5306                      0                           0   \n",
       "2509                      0                           0   \n",
       "7246                      0                           0   \n",
       "2824                      0                           0   \n",
       "8168                      0                           0   \n",
       "\n",
       "      Lead Source_Welingak Website  Last Activity_Converted to Lead  \\\n",
       "5306                             0                                0   \n",
       "2509                             0                                0   \n",
       "7246                             0                                0   \n",
       "2824                             0                                0   \n",
       "8168                             0                                0   \n",
       "\n",
       "      Last Activity_Email Bounced  Last Activity_Email Link Clicked  \\\n",
       "5306                            0                                 0   \n",
       "2509                            0                                 0   \n",
       "7246                            0                                 0   \n",
       "2824                            0                                 0   \n",
       "8168                            0                                 0   \n",
       "\n",
       "      Last Activity_Email Opened  Last Activity_Form Submitted on Website  \\\n",
       "5306                           0                                        0   \n",
       "2509                           0                                        0   \n",
       "7246                           0                                        0   \n",
       "2824                           0                                        0   \n",
       "8168                           0                                        0   \n",
       "\n",
       "      Last Activity_Olark Chat Conversation  \\\n",
       "5306                                      0   \n",
       "2509                                      0   \n",
       "7246                                      1   \n",
       "2824                                      0   \n",
       "8168                                      0   \n",
       "\n",
       "      Last Activity_Page Visited on Website  Last Activity_SMS Sent  \\\n",
       "5306                                      0                       1   \n",
       "2509                                      0                       1   \n",
       "7246                                      0                       0   \n",
       "2824                                      1                       0   \n",
       "8168                                      0                       1   \n",
       "\n",
       "      Specialization_Banking, Investment And Insurance  \\\n",
       "5306                                                 0   \n",
       "2509                                                 0   \n",
       "7246                                                 0   \n",
       "2824                                                 0   \n",
       "8168                                                 0   \n",
       "\n",
       "      Specialization_Business Administration  Specialization_E-Business  \\\n",
       "5306                                       0                          0   \n",
       "2509                                       0                          0   \n",
       "7246                                       1                          0   \n",
       "2824                                       0                          0   \n",
       "8168                                       0                          0   \n",
       "\n",
       "      Specialization_E-COMMERCE  Specialization_International Business  \\\n",
       "5306                          0                                      0   \n",
       "2509                          0                                      0   \n",
       "7246                          0                                      0   \n",
       "2824                          0                                      0   \n",
       "8168                          0                                      0   \n",
       "\n",
       "      Specialization_Management Specialization  \\\n",
       "5306                                         0   \n",
       "2509                                         0   \n",
       "7246                                         0   \n",
       "2824                                         1   \n",
       "8168                                         1   \n",
       "\n",
       "      Specialization_Media and Advertising  \\\n",
       "5306                                     0   \n",
       "2509                                     0   \n",
       "7246                                     0   \n",
       "2824                                     0   \n",
       "8168                                     0   \n",
       "\n",
       "      Specialization_Rural and Agribusiness  \\\n",
       "5306                                      0   \n",
       "2509                                      0   \n",
       "7246                                      0   \n",
       "2824                                      0   \n",
       "8168                                      0   \n",
       "\n",
       "      Specialization_Services Excellence  Specialization_Travel and Tourism  \\\n",
       "5306                                   0                                  1   \n",
       "2509                                   0                                  1   \n",
       "7246                                   0                                  0   \n",
       "2824                                   0                                  0   \n",
       "8168                                   0                                  0   \n",
       "\n",
       "      What is your current occupation_Businessman  \\\n",
       "5306                                            0   \n",
       "2509                                            0   \n",
       "7246                                            0   \n",
       "2824                                            0   \n",
       "8168                                            0   \n",
       "\n",
       "      What is your current occupation_Housewife  \\\n",
       "5306                                          0   \n",
       "2509                                          0   \n",
       "7246                                          0   \n",
       "2824                                          0   \n",
       "8168                                          0   \n",
       "\n",
       "      What is your current occupation_Other  \\\n",
       "5306                                      0   \n",
       "2509                                      0   \n",
       "7246                                      0   \n",
       "2824                                      0   \n",
       "8168                                      0   \n",
       "\n",
       "      What is your current occupation_Student  \\\n",
       "5306                                        0   \n",
       "2509                                        1   \n",
       "7246                                        0   \n",
       "2824                                        0   \n",
       "8168                                        0   \n",
       "\n",
       "      What is your current occupation_Unemployed  \\\n",
       "5306                                           1   \n",
       "2509                                           0   \n",
       "7246                                           1   \n",
       "2824                                           1   \n",
       "8168                                           1   \n",
       "\n",
       "      What is your current occupation_Working Professional  \\\n",
       "5306                                                  0      \n",
       "2509                                                  0      \n",
       "7246                                                  0      \n",
       "2824                                                  0      \n",
       "8168                                                  0      \n",
       "\n",
       "      Tags_Already a student  Tags_Busy  Tags_Closed by Horizzon  \\\n",
       "5306                       0          0                        0   \n",
       "2509                       0          0                        0   \n",
       "7246                       0          0                        0   \n",
       "2824                       0          0                        0   \n",
       "8168                       0          0                        0   \n",
       "\n",
       "      Tags_Graduation in progress  Tags_Interested  in full time MBA  \\\n",
       "5306                            0                                  0   \n",
       "2509                            0                                  0   \n",
       "7246                            0                                  0   \n",
       "2824                            0                                  0   \n",
       "8168                            0                                  0   \n",
       "\n",
       "      Tags_Interested in other courses  Tags_Lost to EINS  Tags_None  \\\n",
       "5306                                 0                  0          1   \n",
       "2509                                 0                  0          0   \n",
       "7246                                 0                  0          1   \n",
       "2824                                 0                  0          1   \n",
       "8168                                 0                  0          0   \n",
       "\n",
       "      Tags_Not doing further education  Tags_Ringing  \\\n",
       "5306                                 0             0   \n",
       "2509                                 0             0   \n",
       "7246                                 0             0   \n",
       "2824                                 0             0   \n",
       "8168                                 0             0   \n",
       "\n",
       "      Tags_Will revert after reading the email  Tags_switched off  \\\n",
       "5306                                         0                  0   \n",
       "2509                                         1                  0   \n",
       "7246                                         0                  0   \n",
       "2824                                         0                  0   \n",
       "8168                                         0                  0   \n",
       "\n",
       "      City_Mumbai  City_Other Cities  City_Other Cities of Maharashtra  \\\n",
       "5306            0                  1                                 0   \n",
       "2509            0                  1                                 0   \n",
       "7246            1                  0                                 0   \n",
       "2824            1                  0                                 0   \n",
       "8168            0                  0                                 0   \n",
       "\n",
       "      City_Other Metro Cities  City_Thane & Outskirts  City_Tier II Cities  \\\n",
       "5306                        0                       0                    0   \n",
       "2509                        0                       0                    0   \n",
       "7246                        0                       0                    0   \n",
       "2824                        0                       0                    0   \n",
       "8168                        1                       0                    0   \n",
       "\n",
       "      Last Notable Activity_Email Link Clicked  \\\n",
       "5306                                         0   \n",
       "2509                                         0   \n",
       "7246                                         0   \n",
       "2824                                         0   \n",
       "8168                                         0   \n",
       "\n",
       "      Last Notable Activity_Email Opened  Last Notable Activity_Modified  \\\n",
       "5306                                   0                               0   \n",
       "2509                                   0                               0   \n",
       "7246                                   0                               1   \n",
       "2824                                   0                               1   \n",
       "8168                                   0                               0   \n",
       "\n",
       "      Last Notable Activity_Olark Chat Conversation  \\\n",
       "5306                                              0   \n",
       "2509                                              0   \n",
       "7246                                              0   \n",
       "2824                                              0   \n",
       "8168                                              0   \n",
       "\n",
       "      Last Notable Activity_Page Visited on Website  \\\n",
       "5306                                              0   \n",
       "2509                                              0   \n",
       "7246                                              0   \n",
       "2824                                              0   \n",
       "8168                                              0   \n",
       "\n",
       "      Last Notable Activity_SMS Sent  \n",
       "5306                               1  \n",
       "2509                               1  \n",
       "7246                               0  \n",
       "2824                               0  \n",
       "8168                               1  "
      ]
     },
     "execution_count": 84,
     "metadata": {},
     "output_type": "execute_result"
    }
   ],
   "source": [
    "X_train.head(5)"
   ]
  },
  {
   "cell_type": "markdown",
   "id": "53c6fe7e-4187-4d41-94a6-97301092f9e3",
   "metadata": {},
   "source": [
    "### RFE to select the features and Statsmodel to build the model"
   ]
  },
  {
   "cell_type": "code",
   "execution_count": 85,
   "id": "ca02437c-968f-4351-9da0-37274ad249db",
   "metadata": {},
   "outputs": [],
   "source": [
    "logisticregression = LogisticRegression()\n",
    "### rfe to get the 15 variables for model building\n",
    "rfe = RFE(logisticregression, n_features_to_select = 15)\n",
    "rfe = rfe.fit(X_train, y_train)"
   ]
  },
  {
   "cell_type": "code",
   "execution_count": 86,
   "id": "638b1e72-789d-42db-b934-414af1131f2b",
   "metadata": {},
   "outputs": [
    {
     "data": {
      "text/plain": [
       "[('TotalVisits', False, 21),\n",
       " ('Total Time Spent on Website', True, 1),\n",
       " ('Page Views Per Visit', False, 30),\n",
       " ('Lead Origin_API', False, 39),\n",
       " ('Lead Origin_Landing Page Submission', False, 10),\n",
       " ('Lead Origin_Lead Add Form', True, 1),\n",
       " ('Lead Origin_Lead Import', False, 49),\n",
       " ('Lead Source_Direct Traffic', False, 29),\n",
       " ('Lead Source_Facebook', False, 12),\n",
       " ('Lead Source_Google', False, 38),\n",
       " ('Lead Source_Olark Chat', False, 45),\n",
       " ('Lead Source_Organic Search', False, 37),\n",
       " ('Lead Source_Reference', False, 42),\n",
       " ('Lead Source_Referral Sites', False, 19),\n",
       " ('Lead Source_Welingak Website', False, 4),\n",
       " ('Last Activity_Converted to Lead', True, 1),\n",
       " ('Last Activity_Email Bounced', True, 1),\n",
       " ('Last Activity_Email Link Clicked', False, 7),\n",
       " ('Last Activity_Email Opened', False, 28),\n",
       " ('Last Activity_Form Submitted on Website', False, 40),\n",
       " ('Last Activity_Olark Chat Conversation', False, 47),\n",
       " ('Last Activity_Page Visited on Website', False, 15),\n",
       " ('Last Activity_SMS Sent', False, 9),\n",
       " ('Specialization_Banking, Investment And Insurance', False, 18),\n",
       " ('Specialization_Business Administration', False, 26),\n",
       " ('Specialization_E-Business', False, 32),\n",
       " ('Specialization_E-COMMERCE', False, 14),\n",
       " ('Specialization_International Business', False, 24),\n",
       " ('Specialization_Management Specialization', False, 43),\n",
       " ('Specialization_Media and Advertising', False, 41),\n",
       " ('Specialization_Rural and Agribusiness', False, 48),\n",
       " ('Specialization_Services Excellence', False, 46),\n",
       " ('Specialization_Travel and Tourism', False, 2),\n",
       " ('What is your current occupation_Businessman', False, 25),\n",
       " ('What is your current occupation_Housewife', False, 17),\n",
       " ('What is your current occupation_Other', False, 31),\n",
       " ('What is your current occupation_Student', False, 22),\n",
       " ('What is your current occupation_Unemployed', False, 13),\n",
       " ('What is your current occupation_Working Professional', True, 1),\n",
       " ('Tags_Already a student', True, 1),\n",
       " ('Tags_Busy', True, 1),\n",
       " ('Tags_Closed by Horizzon', True, 1),\n",
       " ('Tags_Graduation in progress', False, 5),\n",
       " ('Tags_Interested  in full time MBA', False, 16),\n",
       " ('Tags_Interested in other courses', True, 1),\n",
       " ('Tags_Lost to EINS', True, 1),\n",
       " ('Tags_None', True, 1),\n",
       " ('Tags_Not doing further education', False, 3),\n",
       " ('Tags_Ringing', True, 1),\n",
       " ('Tags_Will revert after reading the email', True, 1),\n",
       " ('Tags_switched off', True, 1),\n",
       " ('City_Mumbai', False, 35),\n",
       " ('City_Other Cities', False, 36),\n",
       " ('City_Other Cities of Maharashtra', False, 33),\n",
       " ('City_Other Metro Cities', False, 44),\n",
       " ('City_Thane & Outskirts', False, 34),\n",
       " ('City_Tier II Cities', False, 20),\n",
       " ('Last Notable Activity_Email Link Clicked', False, 6),\n",
       " ('Last Notable Activity_Email Opened', False, 27),\n",
       " ('Last Notable Activity_Modified', False, 8),\n",
       " ('Last Notable Activity_Olark Chat Conversation', False, 11),\n",
       " ('Last Notable Activity_Page Visited on Website', False, 23),\n",
       " ('Last Notable Activity_SMS Sent', True, 1)]"
      ]
     },
     "execution_count": 86,
     "metadata": {},
     "output_type": "execute_result"
    }
   ],
   "source": [
    "list(zip(X_train.columns, rfe.support_, rfe.ranking_))"
   ]
  },
  {
   "cell_type": "code",
   "execution_count": 87,
   "id": "7c7dc901-5ecf-4ba9-964d-f490fdd0cb47",
   "metadata": {},
   "outputs": [],
   "source": [
    "###columns with rfe support_ as true\n",
    "columns = list(X_train.columns[rfe.support_])"
   ]
  },
  {
   "cell_type": "markdown",
   "id": "ed38f959-8bf2-4507-92a0-2f207ef19bc0",
   "metadata": {},
   "source": [
    "#### Model 1"
   ]
  },
  {
   "cell_type": "code",
   "execution_count": 88,
   "id": "da1ce46d-d8b7-409a-95c7-bb866af4a032",
   "metadata": {},
   "outputs": [
    {
     "name": "stdout",
     "output_type": "stream",
     "text": [
      "                 Generalized Linear Model Regression Results                  \n",
      "==============================================================================\n",
      "Dep. Variable:              Converted   No. Observations:                 4236\n",
      "Model:                            GLM   Df Residuals:                     4220\n",
      "Model Family:                Binomial   Df Model:                           15\n",
      "Link Function:                  Logit   Scale:                          1.0000\n",
      "Method:                          IRLS   Log-Likelihood:                -835.70\n",
      "Date:                Sun, 05 Mar 2023   Deviance:                       1671.4\n",
      "Time:                        14:13:20   Pearson chi2:                 5.06e+03\n",
      "No. Iterations:                    22   Pseudo R-squ. (CS):             0.6045\n",
      "Covariance Type:            nonrobust                                         \n",
      "========================================================================================================================\n",
      "                                                           coef    std err          z      P>|z|      [0.025      0.975]\n",
      "------------------------------------------------------------------------------------------------------------------------\n",
      "const                                                   -3.4337      0.267    -12.867      0.000      -3.957      -2.911\n",
      "Total Time Spent on Website                              1.1032      0.066     16.658      0.000       0.973       1.233\n",
      "Lead Origin_Lead Add Form                               22.4879   1.72e+04      0.001      0.999   -3.38e+04    3.38e+04\n",
      "Last Activity_Converted to Lead                         -1.3179      0.537     -2.456      0.014      -2.370      -0.266\n",
      "Last Activity_Email Bounced                             -1.4647      0.612     -2.391      0.017      -2.665      -0.264\n",
      "What is your current occupation_Working Professional     1.0458      0.419      2.493      0.013       0.224       1.868\n",
      "Tags_Already a student                                  -1.0574      0.767     -1.378      0.168      -2.561       0.446\n",
      "Tags_Busy                                                2.3310      0.348      6.692      0.000       1.648       3.014\n",
      "Tags_Closed by Horizzon                                  7.6525      1.050      7.285      0.000       5.594       9.711\n",
      "Tags_Interested in other courses                        -0.6434      0.518     -1.243      0.214      -1.658       0.371\n",
      "Tags_Lost to EINS                                        6.5465      0.668      9.807      0.000       5.238       7.855\n",
      "Tags_None                                                1.6852      0.269      6.256      0.000       1.157       2.213\n",
      "Tags_Ringing                                            -1.5294      0.366     -4.183      0.000      -2.246      -0.813\n",
      "Tags_Will revert after reading the email                 5.9380      0.326     18.193      0.000       5.298       6.578\n",
      "Tags_switched off                                       -2.1559      0.778     -2.772      0.006      -3.680      -0.632\n",
      "Last Notable Activity_SMS Sent                           2.1761      0.151     14.428      0.000       1.881       2.472\n",
      "========================================================================================================================\n"
     ]
    }
   ],
   "source": [
    "X_train_sm = sm.add_constant(X_train[columns])\n",
    "model_1 = sm.GLM(y_train, X_train_sm, sm.families.Binomial())\n",
    "result_1 = model_1.fit()\n",
    "print(result_1.summary())"
   ]
  },
  {
   "cell_type": "markdown",
   "id": "4279ea6c-32ba-4bee-aef3-14296854d395",
   "metadata": {},
   "source": [
    "remove columns with p value > 0.05"
   ]
  },
  {
   "cell_type": "code",
   "execution_count": 89,
   "id": "41e15488-f9f3-4a12-975e-20e7657a9945",
   "metadata": {},
   "outputs": [],
   "source": [
    "columns.remove('Tags_Interested in other courses')"
   ]
  },
  {
   "cell_type": "code",
   "execution_count": 90,
   "id": "151fcabf-9f22-4efa-80ac-e93bdccdcc45",
   "metadata": {},
   "outputs": [],
   "source": [
    "columns.remove('Tags_Already a student')"
   ]
  },
  {
   "cell_type": "code",
   "execution_count": 91,
   "id": "b4df04c7-80ef-42b3-ab56-d4f33731366e",
   "metadata": {},
   "outputs": [],
   "source": [
    "columns.remove('Lead Origin_Lead Add Form')"
   ]
  },
  {
   "cell_type": "markdown",
   "id": "bb6a739e-4a00-48b9-b367-8125e96a391f",
   "metadata": {},
   "source": [
    "#### Model 2"
   ]
  },
  {
   "cell_type": "code",
   "execution_count": 92,
   "id": "339fe1a6-0f91-4cb8-8343-3def62940aae",
   "metadata": {},
   "outputs": [
    {
     "name": "stdout",
     "output_type": "stream",
     "text": [
      "                 Generalized Linear Model Regression Results                  \n",
      "==============================================================================\n",
      "Dep. Variable:              Converted   No. Observations:                 4236\n",
      "Model:                            GLM   Df Residuals:                     4223\n",
      "Model Family:                Binomial   Df Model:                           12\n",
      "Link Function:                  Logit   Scale:                          1.0000\n",
      "Method:                          IRLS   Log-Likelihood:                -839.70\n",
      "Date:                Sun, 05 Mar 2023   Deviance:                       1679.4\n",
      "Time:                        14:13:20   Pearson chi2:                 5.12e+03\n",
      "No. Iterations:                     7   Pseudo R-squ. (CS):             0.6038\n",
      "Covariance Type:            nonrobust                                         \n",
      "========================================================================================================================\n",
      "                                                           coef    std err          z      P>|z|      [0.025      0.975]\n",
      "------------------------------------------------------------------------------------------------------------------------\n",
      "const                                                   -3.7341      0.219    -17.080      0.000      -4.163      -3.306\n",
      "Total Time Spent on Website                              1.1015      0.066     16.675      0.000       0.972       1.231\n",
      "Last Activity_Converted to Lead                         -1.3099      0.537     -2.438      0.015      -2.363      -0.257\n",
      "Last Activity_Email Bounced                             -1.4619      0.613     -2.385      0.017      -2.663      -0.261\n",
      "What is your current occupation_Working Professional     1.0282      0.414      2.484      0.013       0.217       1.839\n",
      "Tags_Busy                                                2.6163      0.319      8.214      0.000       1.992       3.241\n",
      "Tags_Closed by Horizzon                                  7.9879      1.038      7.694      0.000       5.953      10.023\n",
      "Tags_Lost to EINS                                        6.8461      0.650     10.535      0.000       5.572       8.120\n",
      "Tags_None                                                1.9838      0.225      8.798      0.000       1.542       2.426\n",
      "Tags_Ringing                                            -1.2501      0.339     -3.687      0.000      -1.915      -0.586\n",
      "Tags_Will revert after reading the email                 6.2453      0.289     21.638      0.000       5.680       6.811\n",
      "Tags_switched off                                       -1.8790      0.766     -2.453      0.014      -3.380      -0.378\n",
      "Last Notable Activity_SMS Sent                           2.2051      0.151     14.639      0.000       1.910       2.500\n",
      "========================================================================================================================\n"
     ]
    }
   ],
   "source": [
    "X_train_sm = sm.add_constant(X_train[columns])\n",
    "model_2 = sm.GLM(y_train, X_train_sm, sm.families.Binomial())\n",
    "result_2 = model_2.fit()\n",
    "print(result_2.summary())"
   ]
  },
  {
   "cell_type": "markdown",
   "id": "22f775b5-2d8d-44a9-b94a-5b035ce500eb",
   "metadata": {},
   "source": [
    "All the p values are < 0.05 , let's move to VIF to check the multicollinearity"
   ]
  },
  {
   "cell_type": "code",
   "execution_count": 93,
   "id": "f83991ad-9e68-4534-901c-be2a450f1180",
   "metadata": {},
   "outputs": [
    {
     "data": {
      "text/html": [
       "<div>\n",
       "<style scoped>\n",
       "    .dataframe tbody tr th:only-of-type {\n",
       "        vertical-align: middle;\n",
       "    }\n",
       "\n",
       "    .dataframe tbody tr th {\n",
       "        vertical-align: top;\n",
       "    }\n",
       "\n",
       "    .dataframe thead th {\n",
       "        text-align: right;\n",
       "    }\n",
       "</style>\n",
       "<table border=\"1\" class=\"dataframe\">\n",
       "  <thead>\n",
       "    <tr style=\"text-align: right;\">\n",
       "      <th></th>\n",
       "      <th>Features</th>\n",
       "      <th>vif</th>\n",
       "    </tr>\n",
       "  </thead>\n",
       "  <tbody>\n",
       "    <tr>\n",
       "      <th>9</th>\n",
       "      <td>Tags_Will revert after reading the email</td>\n",
       "      <td>1.644171</td>\n",
       "    </tr>\n",
       "    <tr>\n",
       "      <th>11</th>\n",
       "      <td>Last Notable Activity_SMS Sent</td>\n",
       "      <td>1.573445</td>\n",
       "    </tr>\n",
       "    <tr>\n",
       "      <th>3</th>\n",
       "      <td>What is your current occupation_Working Profes...</td>\n",
       "      <td>1.276675</td>\n",
       "    </tr>\n",
       "    <tr>\n",
       "      <th>0</th>\n",
       "      <td>Total Time Spent on Website</td>\n",
       "      <td>1.181253</td>\n",
       "    </tr>\n",
       "    <tr>\n",
       "      <th>8</th>\n",
       "      <td>Tags_Ringing</td>\n",
       "      <td>1.131653</td>\n",
       "    </tr>\n",
       "    <tr>\n",
       "      <th>7</th>\n",
       "      <td>Tags_None</td>\n",
       "      <td>1.101510</td>\n",
       "    </tr>\n",
       "    <tr>\n",
       "      <th>4</th>\n",
       "      <td>Tags_Busy</td>\n",
       "      <td>1.052705</td>\n",
       "    </tr>\n",
       "    <tr>\n",
       "      <th>10</th>\n",
       "      <td>Tags_switched off</td>\n",
       "      <td>1.048066</td>\n",
       "    </tr>\n",
       "    <tr>\n",
       "      <th>5</th>\n",
       "      <td>Tags_Closed by Horizzon</td>\n",
       "      <td>1.038790</td>\n",
       "    </tr>\n",
       "    <tr>\n",
       "      <th>1</th>\n",
       "      <td>Last Activity_Converted to Lead</td>\n",
       "      <td>1.024520</td>\n",
       "    </tr>\n",
       "    <tr>\n",
       "      <th>2</th>\n",
       "      <td>Last Activity_Email Bounced</td>\n",
       "      <td>1.022441</td>\n",
       "    </tr>\n",
       "    <tr>\n",
       "      <th>6</th>\n",
       "      <td>Tags_Lost to EINS</td>\n",
       "      <td>1.012377</td>\n",
       "    </tr>\n",
       "  </tbody>\n",
       "</table>\n",
       "</div>"
      ],
      "text/plain": [
       "                                             Features       vif\n",
       "9            Tags_Will revert after reading the email  1.644171\n",
       "11                     Last Notable Activity_SMS Sent  1.573445\n",
       "3   What is your current occupation_Working Profes...  1.276675\n",
       "0                         Total Time Spent on Website  1.181253\n",
       "8                                        Tags_Ringing  1.131653\n",
       "7                                           Tags_None  1.101510\n",
       "4                                           Tags_Busy  1.052705\n",
       "10                                  Tags_switched off  1.048066\n",
       "5                             Tags_Closed by Horizzon  1.038790\n",
       "1                     Last Activity_Converted to Lead  1.024520\n",
       "2                         Last Activity_Email Bounced  1.022441\n",
       "6                                   Tags_Lost to EINS  1.012377"
      ]
     },
     "execution_count": 93,
     "metadata": {},
     "output_type": "execute_result"
    }
   ],
   "source": [
    "vif = pd.DataFrame()\n",
    "vif['Features'] = X_train[columns].columns\n",
    "vif['vif'] = [variance_inflation_factor(X_train[columns].values ,i) for i in range(X_train[columns].shape[1])]\n",
    "vif.sort_values(by='vif', ascending=False)"
   ]
  },
  {
   "cell_type": "markdown",
   "id": "eb4e961d-80ea-484c-baa8-e1b139a378ec",
   "metadata": {},
   "source": [
    "#### Check the probabilities of the predictions"
   ]
  },
  {
   "cell_type": "code",
   "execution_count": 94,
   "id": "f5700de4-d17e-422c-a68a-6ee0d500caa1",
   "metadata": {},
   "outputs": [],
   "source": [
    "### predict the values on the train set\n",
    "y_train_pred = result_2.predict(X_train_sm)\n",
    "y_train_pred.values.reshape(-1)\n",
    "y_train_pred_df = pd.DataFrame({'Converted':y_train.values, 'Probability':y_train_pred,'Primary key':y_train.index})"
   ]
  },
  {
   "cell_type": "markdown",
   "id": "83da086c-00ba-4ab4-88ed-a7b2dc7d68c1",
   "metadata": {},
   "source": [
    "#### Check the optimum cutoff"
   ]
  },
  {
   "cell_type": "code",
   "execution_count": 95,
   "id": "38dc2d69-8eda-48d5-8670-c1bbf871d5ad",
   "metadata": {},
   "outputs": [
    {
     "data": {
      "text/plain": [
       "<Figure size 300x2300 with 0 Axes>"
      ]
     },
     "metadata": {},
     "output_type": "display_data"
    },
    {
     "data": {
      "image/png": "[encoded data removed]",
      "text/plain": [
       "<Figure size 640x480 with 1 Axes>"
      ]
     },
     "metadata": {},
     "output_type": "display_data"
    }
   ],
   "source": [
    "cut_off = [i/10 for i in range(11)]\n",
    "for i in cut_off:\n",
    "    y_train_pred_df[i] = y_train_pred_df['Probability'].apply(lambda x:1 if x > i else 0)\n",
    "cut_off_df = pd.DataFrame(columns=['prob','accu','sens','spec'])\n",
    "for i in cut_off:\n",
    "    matrix_1 = metrics.confusion_matrix(y_train_pred_df['Converted'], y_train_pred_df[i] )\n",
    "    total1=sum(sum(matrix_1))\n",
    "    accu = (matrix_1[0,0]+matrix_1[1,1])/total1\n",
    "    \n",
    "    spec = matrix_1[0,0]/(matrix_1[0,0]+matrix_1[0,1])\n",
    "    sens = matrix_1[1,1]/(matrix_1[1,0]+matrix_1[1,1])\n",
    "    cut_off_df.loc[i] =[ i ,accu,sens,spec]\n",
    "plt.figure(figsize=(3,23))\n",
    "cut_off_df.plot.line(x='prob', y = ['accu','sens','spec'])\n",
    "plt.show()"
   ]
  },
  {
   "cell_type": "code",
   "execution_count": 96,
   "id": "34361f37-3520-40fe-b994-c62b5c15eff7",
   "metadata": {},
   "outputs": [],
   "source": [
    "###0.3 is the optimum cut_off\n",
    "y_train_pred_df['Predicted'] = y_train_pred_df['Probability'].apply(lambda x:1 if x>0.3 else 0)"
   ]
  },
  {
   "cell_type": "code",
   "execution_count": 97,
   "id": "bf3bede7-8cbc-47eb-8b05-f1bbec25b592",
   "metadata": {},
   "outputs": [],
   "source": [
    "y_train_pred_df = y_train_pred_df[['Converted','Probability','Primary key','Predicted']]"
   ]
  },
  {
   "cell_type": "code",
   "execution_count": 98,
   "id": "d5d754f2-c9f8-4f02-8055-2617dd8ca067",
   "metadata": {},
   "outputs": [
    {
     "data": {
      "text/plain": [
       "array([[2406,  245],\n",
       "       [ 116, 1469]], dtype=int64)"
      ]
     },
     "execution_count": 98,
     "metadata": {},
     "output_type": "execute_result"
    }
   ],
   "source": [
    "### get the confusion matrix to calculate the precision, recall, etc..\n",
    "confusion_matrix = metrics.confusion_matrix(y_train_pred_df['Converted'], y_train_pred_df['Predicted'])\n",
    "confusion_matrix"
   ]
  },
  {
   "cell_type": "code",
   "execution_count": 99,
   "id": "bcb0c25d-a51b-4456-bfdf-0ae3426a7de3",
   "metadata": {},
   "outputs": [
    {
     "data": {
      "text/plain": [
       "91.48"
      ]
     },
     "execution_count": 99,
     "metadata": {},
     "output_type": "execute_result"
    }
   ],
   "source": [
    "### accuracy score\n",
    "round((metrics.accuracy_score(y_train_pred_df['Converted'], y_train_pred_df['Predicted']))*100,2)"
   ]
  },
  {
   "cell_type": "code",
   "execution_count": 100,
   "id": "565cb3bd-75c0-453d-a97d-c01a0a64b9c5",
   "metadata": {},
   "outputs": [],
   "source": [
    "true_positive = confusion_matrix[1,1]\n",
    "true_negative = confusion_matrix[0,0]\n",
    "false_positive = confusion_matrix[0,1]\n",
    "false_negative = confusion_matrix[1,0]"
   ]
  },
  {
   "cell_type": "code",
   "execution_count": 101,
   "id": "e95dcd76-446d-40e0-a9d3-2b93f8e7219e",
   "metadata": {},
   "outputs": [
    {
     "data": {
      "text/plain": [
       "92.68"
      ]
     },
     "execution_count": 101,
     "metadata": {},
     "output_type": "execute_result"
    }
   ],
   "source": [
    "### calculating sensitivity\n",
    "round((true_positive/(true_positive + false_negative))*100,2)"
   ]
  },
  {
   "cell_type": "code",
   "execution_count": 102,
   "id": "3b2ceed6-65b8-4e70-9232-aec9da6918b8",
   "metadata": {},
   "outputs": [
    {
     "data": {
      "text/plain": [
       "90.76"
      ]
     },
     "execution_count": 102,
     "metadata": {},
     "output_type": "execute_result"
    }
   ],
   "source": [
    "### calculating specificity\n",
    "round((true_negative/(true_negative + false_positive))*100,2)"
   ]
  },
  {
   "cell_type": "code",
   "execution_count": 103,
   "id": "f150724e-b552-4908-833e-ff321059daf9",
   "metadata": {},
   "outputs": [
    {
     "data": {
      "text/plain": [
       "9.24"
      ]
     },
     "execution_count": 103,
     "metadata": {},
     "output_type": "execute_result"
    }
   ],
   "source": [
    "### false-positive rate --- model saying as Converted when it's not in real life\n",
    "round((false_positive/(false_positive+true_negative))*100,2)"
   ]
  },
  {
   "cell_type": "code",
   "execution_count": 104,
   "id": "ecb8aff0-c18c-4925-855f-5bd278e99b85",
   "metadata": {},
   "outputs": [
    {
     "data": {
      "text/plain": [
       "85.71"
      ]
     },
     "execution_count": 104,
     "metadata": {},
     "output_type": "execute_result"
    }
   ],
   "source": [
    "### positive-predictive vaue\n",
    "round((true_positive/(true_positive + false_positive))*100,2)"
   ]
  },
  {
   "cell_type": "code",
   "execution_count": 105,
   "id": "9710b376-3ad1-4926-bff7-675911be66ee",
   "metadata": {},
   "outputs": [
    {
     "data": {
      "text/plain": [
       "95.4"
      ]
     },
     "execution_count": 105,
     "metadata": {},
     "output_type": "execute_result"
    }
   ],
   "source": [
    "### negative predictive value\n",
    "round((true_negative/(true_negative+false_negative))*100,2)"
   ]
  },
  {
   "cell_type": "code",
   "execution_count": 106,
   "id": "7bfb5340-9033-44ca-80f6-9e90d53a647c",
   "metadata": {},
   "outputs": [
    {
     "data": {
      "text/plain": [
       "85.71"
      ]
     },
     "execution_count": 106,
     "metadata": {},
     "output_type": "execute_result"
    }
   ],
   "source": [
    "### precision\n",
    "round((true_positive / (true_positive + false_positive))*100,2)"
   ]
  },
  {
   "cell_type": "code",
   "execution_count": 107,
   "id": "65fb81ad-ccab-48cc-bdb0-329f842d6fd1",
   "metadata": {},
   "outputs": [
    {
     "data": {
      "text/plain": [
       "92.68"
      ]
     },
     "execution_count": 107,
     "metadata": {},
     "output_type": "execute_result"
    }
   ],
   "source": [
    "### recall\n",
    "round((true_positive / (true_positive + false_negative))*100,2)"
   ]
  },
  {
   "cell_type": "markdown",
   "id": "1f94f766-9897-496e-8ae3-c66559f85d6d",
   "metadata": {},
   "source": [
    "### ROC Curve"
   ]
  },
  {
   "cell_type": "code",
   "execution_count": 108,
   "id": "670f5c19-413a-49d4-b123-815fac5079b4",
   "metadata": {},
   "outputs": [],
   "source": [
    "def roc(actual_value, probability):\n",
    "    fpr, tpr, thresholds = metrics.roc_curve(actual_value, probability, drop_intermediate=False)\n",
    "    auc_score = metrics.roc_auc_score(actual_value, probability)\n",
    "    plt.figure(figsize=(3,5))\n",
    "    plt.plot(fpr, tpr, label = 'roc_curve'+str(auc_score))\n",
    "    plt.plot([0, 1], [0, 1], 'k--')\n",
    "    plt.xlim([0.0, 1.0])\n",
    "    plt.ylim([0.0, 1.05])\n",
    "    plt.xlabel('False Positive Rate')\n",
    "    plt.ylabel('True Positive Rate')\n",
    "    plt.title('Receiver operating characteristic example')\n",
    "    plt.legend(loc=\"lower right\")\n",
    "    plt.show()\n",
    "\n",
    "    return None"
   ]
  },
  {
   "cell_type": "code",
   "execution_count": 109,
   "id": "253028c2-8232-4b78-9414-566abe363eba",
   "metadata": {},
   "outputs": [
    {
     "data": {
      "image/png": "[encoded data removed]",
      "text/plain": [
       "<Figure size 300x500 with 1 Axes>"
      ]
     },
     "metadata": {},
     "output_type": "display_data"
    }
   ],
   "source": [
    "roc(y_train_pred_df['Converted'], y_train_pred_df['Probability'])"
   ]
  },
  {
   "cell_type": "markdown",
   "id": "017b6ebf-f4c3-4cb1-a38b-f3e6148ab782",
   "metadata": {},
   "source": [
    "As the curve get's closer to one, it says that the model is good. As our model is closer (0.97) to 1, it's a good model"
   ]
  },
  {
   "cell_type": "markdown",
   "id": "0ec9c5eb-006f-44d0-a50c-6ec3036264ae",
   "metadata": {},
   "source": [
    "#### Plotting Precision Recall Curve"
   ]
  },
  {
   "cell_type": "code",
   "execution_count": 111,
   "id": "a09c1cab-3a43-4f75-95df-3e80083af2f6",
   "metadata": {},
   "outputs": [
    {
     "data": {
      "image/png": "[encoded data removed]",
      "text/plain": [
       "<Figure size 640x480 with 1 Axes>"
      ]
     },
     "metadata": {},
     "output_type": "display_data"
    }
   ],
   "source": [
    "precision, recall, thresholds = precision_recall_curve(y_train_pred_df['Converted'], y_train_pred_df['Probability'])\n",
    "plt.plot(thresholds, precision[:-1],'r--')\n",
    "plt.plot(thresholds, recall[:-1],'g--')\n",
    "plt.show()"
   ]
  },
  {
   "cell_type": "markdown",
   "id": "0ee2c021-68ca-42cd-a5e6-3c8b500a4f44",
   "metadata": {},
   "source": [
    "#### Scaling Test Set"
   ]
  },
  {
   "cell_type": "code",
   "execution_count": 113,
   "id": "1f1f3519-c799-4768-83fb-b91705979023",
   "metadata": {},
   "outputs": [],
   "source": [
    "numeric_columns = X_test.select_dtypes(include=['float64', 'int64']).columns\n",
    "X_test[numeric_columns] = scaler.fit_transform(X_test[numeric_columns])"
   ]
  },
  {
   "cell_type": "code",
   "execution_count": 114,
   "id": "fd4fb911-2587-4504-9bf5-74863bd4fb96",
   "metadata": {},
   "outputs": [
    {
     "data": {
      "text/html": [
       "<div>\n",
       "<style scoped>\n",
       "    .dataframe tbody tr th:only-of-type {\n",
       "        vertical-align: middle;\n",
       "    }\n",
       "\n",
       "    .dataframe tbody tr th {\n",
       "        vertical-align: top;\n",
       "    }\n",
       "\n",
       "    .dataframe thead th {\n",
       "        text-align: right;\n",
       "    }\n",
       "</style>\n",
       "<table border=\"1\" class=\"dataframe\">\n",
       "  <thead>\n",
       "    <tr style=\"text-align: right;\">\n",
       "      <th></th>\n",
       "      <th>TotalVisits</th>\n",
       "      <th>Total Time Spent on Website</th>\n",
       "      <th>Page Views Per Visit</th>\n",
       "      <th>Lead Origin_API</th>\n",
       "      <th>Lead Origin_Landing Page Submission</th>\n",
       "      <th>Lead Origin_Lead Add Form</th>\n",
       "      <th>Lead Origin_Lead Import</th>\n",
       "      <th>Lead Source_Direct Traffic</th>\n",
       "      <th>Lead Source_Facebook</th>\n",
       "      <th>Lead Source_Google</th>\n",
       "      <th>Lead Source_Olark Chat</th>\n",
       "      <th>Lead Source_Organic Search</th>\n",
       "      <th>Lead Source_Reference</th>\n",
       "      <th>Lead Source_Referral Sites</th>\n",
       "      <th>Lead Source_Welingak Website</th>\n",
       "      <th>Last Activity_Converted to Lead</th>\n",
       "      <th>Last Activity_Email Bounced</th>\n",
       "      <th>Last Activity_Email Link Clicked</th>\n",
       "      <th>Last Activity_Email Opened</th>\n",
       "      <th>Last Activity_Form Submitted on Website</th>\n",
       "      <th>Last Activity_Olark Chat Conversation</th>\n",
       "      <th>Last Activity_Page Visited on Website</th>\n",
       "      <th>Last Activity_SMS Sent</th>\n",
       "      <th>Specialization_Banking, Investment And Insurance</th>\n",
       "      <th>Specialization_Business Administration</th>\n",
       "      <th>Specialization_E-Business</th>\n",
       "      <th>Specialization_E-COMMERCE</th>\n",
       "      <th>Specialization_International Business</th>\n",
       "      <th>Specialization_Management Specialization</th>\n",
       "      <th>Specialization_Media and Advertising</th>\n",
       "      <th>Specialization_Rural and Agribusiness</th>\n",
       "      <th>Specialization_Services Excellence</th>\n",
       "      <th>Specialization_Travel and Tourism</th>\n",
       "      <th>What is your current occupation_Businessman</th>\n",
       "      <th>What is your current occupation_Housewife</th>\n",
       "      <th>What is your current occupation_Other</th>\n",
       "      <th>What is your current occupation_Student</th>\n",
       "      <th>What is your current occupation_Unemployed</th>\n",
       "      <th>What is your current occupation_Working Professional</th>\n",
       "      <th>Tags_Already a student</th>\n",
       "      <th>Tags_Busy</th>\n",
       "      <th>Tags_Closed by Horizzon</th>\n",
       "      <th>Tags_Graduation in progress</th>\n",
       "      <th>Tags_Interested  in full time MBA</th>\n",
       "      <th>Tags_Interested in other courses</th>\n",
       "      <th>Tags_Lost to EINS</th>\n",
       "      <th>Tags_None</th>\n",
       "      <th>Tags_Not doing further education</th>\n",
       "      <th>Tags_Ringing</th>\n",
       "      <th>Tags_Will revert after reading the email</th>\n",
       "      <th>Tags_switched off</th>\n",
       "      <th>City_Mumbai</th>\n",
       "      <th>City_Other Cities</th>\n",
       "      <th>City_Other Cities of Maharashtra</th>\n",
       "      <th>City_Other Metro Cities</th>\n",
       "      <th>City_Thane &amp; Outskirts</th>\n",
       "      <th>City_Tier II Cities</th>\n",
       "      <th>Last Notable Activity_Email Link Clicked</th>\n",
       "      <th>Last Notable Activity_Email Opened</th>\n",
       "      <th>Last Notable Activity_Modified</th>\n",
       "      <th>Last Notable Activity_Olark Chat Conversation</th>\n",
       "      <th>Last Notable Activity_Page Visited on Website</th>\n",
       "      <th>Last Notable Activity_SMS Sent</th>\n",
       "    </tr>\n",
       "  </thead>\n",
       "  <tbody>\n",
       "    <tr>\n",
       "      <th>2726</th>\n",
       "      <td>0.259728</td>\n",
       "      <td>-0.064832</td>\n",
       "      <td>1.307901</td>\n",
       "      <td>0</td>\n",
       "      <td>1</td>\n",
       "      <td>0</td>\n",
       "      <td>0</td>\n",
       "      <td>1</td>\n",
       "      <td>0</td>\n",
       "      <td>0</td>\n",
       "      <td>0</td>\n",
       "      <td>0</td>\n",
       "      <td>0</td>\n",
       "      <td>0</td>\n",
       "      <td>0</td>\n",
       "      <td>1</td>\n",
       "      <td>0</td>\n",
       "      <td>0</td>\n",
       "      <td>0</td>\n",
       "      <td>0</td>\n",
       "      <td>0</td>\n",
       "      <td>0</td>\n",
       "      <td>0</td>\n",
       "      <td>0</td>\n",
       "      <td>0</td>\n",
       "      <td>0</td>\n",
       "      <td>0</td>\n",
       "      <td>0</td>\n",
       "      <td>1</td>\n",
       "      <td>0</td>\n",
       "      <td>0</td>\n",
       "      <td>0</td>\n",
       "      <td>0</td>\n",
       "      <td>0</td>\n",
       "      <td>0</td>\n",
       "      <td>0</td>\n",
       "      <td>0</td>\n",
       "      <td>0</td>\n",
       "      <td>1</td>\n",
       "      <td>0</td>\n",
       "      <td>0</td>\n",
       "      <td>0</td>\n",
       "      <td>0</td>\n",
       "      <td>0</td>\n",
       "      <td>0</td>\n",
       "      <td>0</td>\n",
       "      <td>0</td>\n",
       "      <td>0</td>\n",
       "      <td>0</td>\n",
       "      <td>1</td>\n",
       "      <td>0</td>\n",
       "      <td>0</td>\n",
       "      <td>0</td>\n",
       "      <td>1</td>\n",
       "      <td>0</td>\n",
       "      <td>0</td>\n",
       "      <td>0</td>\n",
       "      <td>0</td>\n",
       "      <td>0</td>\n",
       "      <td>1</td>\n",
       "      <td>0</td>\n",
       "      <td>0</td>\n",
       "      <td>0</td>\n",
       "    </tr>\n",
       "    <tr>\n",
       "      <th>1041</th>\n",
       "      <td>1.070152</td>\n",
       "      <td>1.718259</td>\n",
       "      <td>0.254997</td>\n",
       "      <td>0</td>\n",
       "      <td>1</td>\n",
       "      <td>0</td>\n",
       "      <td>0</td>\n",
       "      <td>0</td>\n",
       "      <td>0</td>\n",
       "      <td>1</td>\n",
       "      <td>0</td>\n",
       "      <td>0</td>\n",
       "      <td>0</td>\n",
       "      <td>0</td>\n",
       "      <td>0</td>\n",
       "      <td>0</td>\n",
       "      <td>0</td>\n",
       "      <td>0</td>\n",
       "      <td>1</td>\n",
       "      <td>0</td>\n",
       "      <td>0</td>\n",
       "      <td>0</td>\n",
       "      <td>0</td>\n",
       "      <td>0</td>\n",
       "      <td>0</td>\n",
       "      <td>0</td>\n",
       "      <td>0</td>\n",
       "      <td>0</td>\n",
       "      <td>1</td>\n",
       "      <td>0</td>\n",
       "      <td>0</td>\n",
       "      <td>0</td>\n",
       "      <td>0</td>\n",
       "      <td>0</td>\n",
       "      <td>0</td>\n",
       "      <td>0</td>\n",
       "      <td>0</td>\n",
       "      <td>1</td>\n",
       "      <td>0</td>\n",
       "      <td>0</td>\n",
       "      <td>0</td>\n",
       "      <td>0</td>\n",
       "      <td>0</td>\n",
       "      <td>0</td>\n",
       "      <td>0</td>\n",
       "      <td>0</td>\n",
       "      <td>1</td>\n",
       "      <td>0</td>\n",
       "      <td>0</td>\n",
       "      <td>0</td>\n",
       "      <td>0</td>\n",
       "      <td>0</td>\n",
       "      <td>0</td>\n",
       "      <td>1</td>\n",
       "      <td>0</td>\n",
       "      <td>0</td>\n",
       "      <td>0</td>\n",
       "      <td>0</td>\n",
       "      <td>1</td>\n",
       "      <td>0</td>\n",
       "      <td>0</td>\n",
       "      <td>0</td>\n",
       "      <td>0</td>\n",
       "    </tr>\n",
       "    <tr>\n",
       "      <th>2590</th>\n",
       "      <td>0.259728</td>\n",
       "      <td>0.411282</td>\n",
       "      <td>-0.446939</td>\n",
       "      <td>0</td>\n",
       "      <td>1</td>\n",
       "      <td>0</td>\n",
       "      <td>0</td>\n",
       "      <td>0</td>\n",
       "      <td>0</td>\n",
       "      <td>1</td>\n",
       "      <td>0</td>\n",
       "      <td>0</td>\n",
       "      <td>0</td>\n",
       "      <td>0</td>\n",
       "      <td>0</td>\n",
       "      <td>0</td>\n",
       "      <td>0</td>\n",
       "      <td>0</td>\n",
       "      <td>0</td>\n",
       "      <td>0</td>\n",
       "      <td>0</td>\n",
       "      <td>0</td>\n",
       "      <td>1</td>\n",
       "      <td>0</td>\n",
       "      <td>0</td>\n",
       "      <td>0</td>\n",
       "      <td>0</td>\n",
       "      <td>0</td>\n",
       "      <td>1</td>\n",
       "      <td>0</td>\n",
       "      <td>0</td>\n",
       "      <td>0</td>\n",
       "      <td>0</td>\n",
       "      <td>0</td>\n",
       "      <td>0</td>\n",
       "      <td>0</td>\n",
       "      <td>0</td>\n",
       "      <td>1</td>\n",
       "      <td>0</td>\n",
       "      <td>0</td>\n",
       "      <td>0</td>\n",
       "      <td>0</td>\n",
       "      <td>0</td>\n",
       "      <td>0</td>\n",
       "      <td>0</td>\n",
       "      <td>0</td>\n",
       "      <td>0</td>\n",
       "      <td>0</td>\n",
       "      <td>0</td>\n",
       "      <td>1</td>\n",
       "      <td>0</td>\n",
       "      <td>0</td>\n",
       "      <td>1</td>\n",
       "      <td>0</td>\n",
       "      <td>0</td>\n",
       "      <td>0</td>\n",
       "      <td>0</td>\n",
       "      <td>0</td>\n",
       "      <td>0</td>\n",
       "      <td>0</td>\n",
       "      <td>0</td>\n",
       "      <td>0</td>\n",
       "      <td>1</td>\n",
       "    </tr>\n",
       "    <tr>\n",
       "      <th>3821</th>\n",
       "      <td>-0.145484</td>\n",
       "      <td>-1.116015</td>\n",
       "      <td>-0.797908</td>\n",
       "      <td>1</td>\n",
       "      <td>0</td>\n",
       "      <td>0</td>\n",
       "      <td>0</td>\n",
       "      <td>0</td>\n",
       "      <td>0</td>\n",
       "      <td>0</td>\n",
       "      <td>0</td>\n",
       "      <td>1</td>\n",
       "      <td>0</td>\n",
       "      <td>0</td>\n",
       "      <td>0</td>\n",
       "      <td>0</td>\n",
       "      <td>0</td>\n",
       "      <td>0</td>\n",
       "      <td>1</td>\n",
       "      <td>0</td>\n",
       "      <td>0</td>\n",
       "      <td>0</td>\n",
       "      <td>0</td>\n",
       "      <td>0</td>\n",
       "      <td>0</td>\n",
       "      <td>0</td>\n",
       "      <td>0</td>\n",
       "      <td>0</td>\n",
       "      <td>0</td>\n",
       "      <td>0</td>\n",
       "      <td>0</td>\n",
       "      <td>0</td>\n",
       "      <td>0</td>\n",
       "      <td>0</td>\n",
       "      <td>0</td>\n",
       "      <td>0</td>\n",
       "      <td>0</td>\n",
       "      <td>1</td>\n",
       "      <td>0</td>\n",
       "      <td>0</td>\n",
       "      <td>0</td>\n",
       "      <td>0</td>\n",
       "      <td>0</td>\n",
       "      <td>0</td>\n",
       "      <td>0</td>\n",
       "      <td>0</td>\n",
       "      <td>0</td>\n",
       "      <td>0</td>\n",
       "      <td>0</td>\n",
       "      <td>0</td>\n",
       "      <td>1</td>\n",
       "      <td>1</td>\n",
       "      <td>0</td>\n",
       "      <td>0</td>\n",
       "      <td>0</td>\n",
       "      <td>0</td>\n",
       "      <td>0</td>\n",
       "      <td>0</td>\n",
       "      <td>1</td>\n",
       "      <td>0</td>\n",
       "      <td>0</td>\n",
       "      <td>0</td>\n",
       "      <td>0</td>\n",
       "    </tr>\n",
       "    <tr>\n",
       "      <th>435</th>\n",
       "      <td>-0.145484</td>\n",
       "      <td>-0.634301</td>\n",
       "      <td>0.605965</td>\n",
       "      <td>0</td>\n",
       "      <td>1</td>\n",
       "      <td>0</td>\n",
       "      <td>0</td>\n",
       "      <td>0</td>\n",
       "      <td>0</td>\n",
       "      <td>1</td>\n",
       "      <td>0</td>\n",
       "      <td>0</td>\n",
       "      <td>0</td>\n",
       "      <td>0</td>\n",
       "      <td>0</td>\n",
       "      <td>0</td>\n",
       "      <td>0</td>\n",
       "      <td>0</td>\n",
       "      <td>1</td>\n",
       "      <td>0</td>\n",
       "      <td>0</td>\n",
       "      <td>0</td>\n",
       "      <td>0</td>\n",
       "      <td>0</td>\n",
       "      <td>0</td>\n",
       "      <td>0</td>\n",
       "      <td>0</td>\n",
       "      <td>0</td>\n",
       "      <td>1</td>\n",
       "      <td>0</td>\n",
       "      <td>0</td>\n",
       "      <td>0</td>\n",
       "      <td>0</td>\n",
       "      <td>0</td>\n",
       "      <td>0</td>\n",
       "      <td>0</td>\n",
       "      <td>0</td>\n",
       "      <td>1</td>\n",
       "      <td>0</td>\n",
       "      <td>0</td>\n",
       "      <td>0</td>\n",
       "      <td>0</td>\n",
       "      <td>0</td>\n",
       "      <td>0</td>\n",
       "      <td>0</td>\n",
       "      <td>0</td>\n",
       "      <td>0</td>\n",
       "      <td>0</td>\n",
       "      <td>1</td>\n",
       "      <td>0</td>\n",
       "      <td>0</td>\n",
       "      <td>1</td>\n",
       "      <td>0</td>\n",
       "      <td>0</td>\n",
       "      <td>0</td>\n",
       "      <td>0</td>\n",
       "      <td>0</td>\n",
       "      <td>0</td>\n",
       "      <td>1</td>\n",
       "      <td>0</td>\n",
       "      <td>0</td>\n",
       "      <td>0</td>\n",
       "      <td>0</td>\n",
       "    </tr>\n",
       "  </tbody>\n",
       "</table>\n",
       "</div>"
      ],
      "text/plain": [
       "      TotalVisits  Total Time Spent on Website  Page Views Per Visit  \\\n",
       "2726     0.259728                    -0.064832              1.307901   \n",
       "1041     1.070152                     1.718259              0.254997   \n",
       "2590     0.259728                     0.411282             -0.446939   \n",
       "3821    -0.145484                    -1.116015             -0.797908   \n",
       "435     -0.145484                    -0.634301              0.605965   \n",
       "\n",
       "      Lead Origin_API  Lead Origin_Landing Page Submission  \\\n",
       "2726                0                                    1   \n",
       "1041                0                                    1   \n",
       "2590                0                                    1   \n",
       "3821                1                                    0   \n",
       "435                 0                                    1   \n",
       "\n",
       "      Lead Origin_Lead Add Form  Lead Origin_Lead Import  \\\n",
       "2726                          0                        0   \n",
       "1041                          0                        0   \n",
       "2590                          0                        0   \n",
       "3821                          0                        0   \n",
       "435                           0                        0   \n",
       "\n",
       "      Lead Source_Direct Traffic  Lead Source_Facebook  Lead Source_Google  \\\n",
       "2726                           1                     0                   0   \n",
       "1041                           0                     0                   1   \n",
       "2590                           0                     0                   1   \n",
       "3821                           0                     0                   0   \n",
       "435                            0                     0                   1   \n",
       "\n",
       "      Lead Source_Olark Chat  Lead Source_Organic Search  \\\n",
       "2726                       0                           0   \n",
       "1041                       0                           0   \n",
       "2590                       0                           0   \n",
       "3821                       0                           1   \n",
       "435                        0                           0   \n",
       "\n",
       "      Lead Source_Reference  Lead Source_Referral Sites  \\\n",
       "2726                      0                           0   \n",
       "1041                      0                           0   \n",
       "2590                      0                           0   \n",
       "3821                      0                           0   \n",
       "435                       0                           0   \n",
       "\n",
       "      Lead Source_Welingak Website  Last Activity_Converted to Lead  \\\n",
       "2726                             0                                1   \n",
       "1041                             0                                0   \n",
       "2590                             0                                0   \n",
       "3821                             0                                0   \n",
       "435                              0                                0   \n",
       "\n",
       "      Last Activity_Email Bounced  Last Activity_Email Link Clicked  \\\n",
       "2726                            0                                 0   \n",
       "1041                            0                                 0   \n",
       "2590                            0                                 0   \n",
       "3821                            0                                 0   \n",
       "435                             0                                 0   \n",
       "\n",
       "      Last Activity_Email Opened  Last Activity_Form Submitted on Website  \\\n",
       "2726                           0                                        0   \n",
       "1041                           1                                        0   \n",
       "2590                           0                                        0   \n",
       "3821                           1                                        0   \n",
       "435                            1                                        0   \n",
       "\n",
       "      Last Activity_Olark Chat Conversation  \\\n",
       "2726                                      0   \n",
       "1041                                      0   \n",
       "2590                                      0   \n",
       "3821                                      0   \n",
       "435                                       0   \n",
       "\n",
       "      Last Activity_Page Visited on Website  Last Activity_SMS Sent  \\\n",
       "2726                                      0                       0   \n",
       "1041                                      0                       0   \n",
       "2590                                      0                       1   \n",
       "3821                                      0                       0   \n",
       "435                                       0                       0   \n",
       "\n",
       "      Specialization_Banking, Investment And Insurance  \\\n",
       "2726                                                 0   \n",
       "1041                                                 0   \n",
       "2590                                                 0   \n",
       "3821                                                 0   \n",
       "435                                                  0   \n",
       "\n",
       "      Specialization_Business Administration  Specialization_E-Business  \\\n",
       "2726                                       0                          0   \n",
       "1041                                       0                          0   \n",
       "2590                                       0                          0   \n",
       "3821                                       0                          0   \n",
       "435                                        0                          0   \n",
       "\n",
       "      Specialization_E-COMMERCE  Specialization_International Business  \\\n",
       "2726                          0                                      0   \n",
       "1041                          0                                      0   \n",
       "2590                          0                                      0   \n",
       "3821                          0                                      0   \n",
       "435                           0                                      0   \n",
       "\n",
       "      Specialization_Management Specialization  \\\n",
       "2726                                         1   \n",
       "1041                                         1   \n",
       "2590                                         1   \n",
       "3821                                         0   \n",
       "435                                          1   \n",
       "\n",
       "      Specialization_Media and Advertising  \\\n",
       "2726                                     0   \n",
       "1041                                     0   \n",
       "2590                                     0   \n",
       "3821                                     0   \n",
       "435                                      0   \n",
       "\n",
       "      Specialization_Rural and Agribusiness  \\\n",
       "2726                                      0   \n",
       "1041                                      0   \n",
       "2590                                      0   \n",
       "3821                                      0   \n",
       "435                                       0   \n",
       "\n",
       "      Specialization_Services Excellence  Specialization_Travel and Tourism  \\\n",
       "2726                                   0                                  0   \n",
       "1041                                   0                                  0   \n",
       "2590                                   0                                  0   \n",
       "3821                                   0                                  0   \n",
       "435                                    0                                  0   \n",
       "\n",
       "      What is your current occupation_Businessman  \\\n",
       "2726                                            0   \n",
       "1041                                            0   \n",
       "2590                                            0   \n",
       "3821                                            0   \n",
       "435                                             0   \n",
       "\n",
       "      What is your current occupation_Housewife  \\\n",
       "2726                                          0   \n",
       "1041                                          0   \n",
       "2590                                          0   \n",
       "3821                                          0   \n",
       "435                                           0   \n",
       "\n",
       "      What is your current occupation_Other  \\\n",
       "2726                                      0   \n",
       "1041                                      0   \n",
       "2590                                      0   \n",
       "3821                                      0   \n",
       "435                                       0   \n",
       "\n",
       "      What is your current occupation_Student  \\\n",
       "2726                                        0   \n",
       "1041                                        0   \n",
       "2590                                        0   \n",
       "3821                                        0   \n",
       "435                                         0   \n",
       "\n",
       "      What is your current occupation_Unemployed  \\\n",
       "2726                                           0   \n",
       "1041                                           1   \n",
       "2590                                           1   \n",
       "3821                                           1   \n",
       "435                                            1   \n",
       "\n",
       "      What is your current occupation_Working Professional  \\\n",
       "2726                                                  1      \n",
       "1041                                                  0      \n",
       "2590                                                  0      \n",
       "3821                                                  0      \n",
       "435                                                   0      \n",
       "\n",
       "      Tags_Already a student  Tags_Busy  Tags_Closed by Horizzon  \\\n",
       "2726                       0          0                        0   \n",
       "1041                       0          0                        0   \n",
       "2590                       0          0                        0   \n",
       "3821                       0          0                        0   \n",
       "435                        0          0                        0   \n",
       "\n",
       "      Tags_Graduation in progress  Tags_Interested  in full time MBA  \\\n",
       "2726                            0                                  0   \n",
       "1041                            0                                  0   \n",
       "2590                            0                                  0   \n",
       "3821                            0                                  0   \n",
       "435                             0                                  0   \n",
       "\n",
       "      Tags_Interested in other courses  Tags_Lost to EINS  Tags_None  \\\n",
       "2726                                 0                  0          0   \n",
       "1041                                 0                  0          1   \n",
       "2590                                 0                  0          0   \n",
       "3821                                 0                  0          0   \n",
       "435                                  0                  0          0   \n",
       "\n",
       "      Tags_Not doing further education  Tags_Ringing  \\\n",
       "2726                                 0             0   \n",
       "1041                                 0             0   \n",
       "2590                                 0             0   \n",
       "3821                                 0             0   \n",
       "435                                  0             1   \n",
       "\n",
       "      Tags_Will revert after reading the email  Tags_switched off  \\\n",
       "2726                                         1                  0   \n",
       "1041                                         0                  0   \n",
       "2590                                         1                  0   \n",
       "3821                                         0                  1   \n",
       "435                                          0                  0   \n",
       "\n",
       "      City_Mumbai  City_Other Cities  City_Other Cities of Maharashtra  \\\n",
       "2726            0                  0                                 1   \n",
       "1041            0                  0                                 1   \n",
       "2590            0                  1                                 0   \n",
       "3821            1                  0                                 0   \n",
       "435             1                  0                                 0   \n",
       "\n",
       "      City_Other Metro Cities  City_Thane & Outskirts  City_Tier II Cities  \\\n",
       "2726                        0                       0                    0   \n",
       "1041                        0                       0                    0   \n",
       "2590                        0                       0                    0   \n",
       "3821                        0                       0                    0   \n",
       "435                         0                       0                    0   \n",
       "\n",
       "      Last Notable Activity_Email Link Clicked  \\\n",
       "2726                                         0   \n",
       "1041                                         0   \n",
       "2590                                         0   \n",
       "3821                                         0   \n",
       "435                                          0   \n",
       "\n",
       "      Last Notable Activity_Email Opened  Last Notable Activity_Modified  \\\n",
       "2726                                   0                               1   \n",
       "1041                                   1                               0   \n",
       "2590                                   0                               0   \n",
       "3821                                   1                               0   \n",
       "435                                    1                               0   \n",
       "\n",
       "      Last Notable Activity_Olark Chat Conversation  \\\n",
       "2726                                              0   \n",
       "1041                                              0   \n",
       "2590                                              0   \n",
       "3821                                              0   \n",
       "435                                               0   \n",
       "\n",
       "      Last Notable Activity_Page Visited on Website  \\\n",
       "2726                                              0   \n",
       "1041                                              0   \n",
       "2590                                              0   \n",
       "3821                                              0   \n",
       "435                                               0   \n",
       "\n",
       "      Last Notable Activity_SMS Sent  \n",
       "2726                               0  \n",
       "1041                               0  \n",
       "2590                               1  \n",
       "3821                               0  \n",
       "435                                0  "
      ]
     },
     "execution_count": 114,
     "metadata": {},
     "output_type": "execute_result"
    }
   ],
   "source": [
    "X_test.head()"
   ]
  },
  {
   "cell_type": "code",
   "execution_count": 116,
   "id": "699ddaf7-10af-4279-9228-a1a12b76461a",
   "metadata": {},
   "outputs": [],
   "source": [
    "X_test = X_test[columns]"
   ]
  },
  {
   "cell_type": "code",
   "execution_count": 117,
   "id": "ca113260-77e3-4bac-99c7-acc58d2f2e6a",
   "metadata": {},
   "outputs": [
    {
     "data": {
      "text/html": [
       "<div>\n",
       "<style scoped>\n",
       "    .dataframe tbody tr th:only-of-type {\n",
       "        vertical-align: middle;\n",
       "    }\n",
       "\n",
       "    .dataframe tbody tr th {\n",
       "        vertical-align: top;\n",
       "    }\n",
       "\n",
       "    .dataframe thead th {\n",
       "        text-align: right;\n",
       "    }\n",
       "</style>\n",
       "<table border=\"1\" class=\"dataframe\">\n",
       "  <thead>\n",
       "    <tr style=\"text-align: right;\">\n",
       "      <th></th>\n",
       "      <th>Total Time Spent on Website</th>\n",
       "      <th>Last Activity_Converted to Lead</th>\n",
       "      <th>Last Activity_Email Bounced</th>\n",
       "      <th>What is your current occupation_Working Professional</th>\n",
       "      <th>Tags_Busy</th>\n",
       "      <th>Tags_Closed by Horizzon</th>\n",
       "      <th>Tags_Lost to EINS</th>\n",
       "      <th>Tags_None</th>\n",
       "      <th>Tags_Ringing</th>\n",
       "      <th>Tags_Will revert after reading the email</th>\n",
       "      <th>Tags_switched off</th>\n",
       "      <th>Last Notable Activity_SMS Sent</th>\n",
       "    </tr>\n",
       "  </thead>\n",
       "  <tbody>\n",
       "    <tr>\n",
       "      <th>2726</th>\n",
       "      <td>-0.064832</td>\n",
       "      <td>1</td>\n",
       "      <td>0</td>\n",
       "      <td>1</td>\n",
       "      <td>0</td>\n",
       "      <td>0</td>\n",
       "      <td>0</td>\n",
       "      <td>0</td>\n",
       "      <td>0</td>\n",
       "      <td>1</td>\n",
       "      <td>0</td>\n",
       "      <td>0</td>\n",
       "    </tr>\n",
       "    <tr>\n",
       "      <th>1041</th>\n",
       "      <td>1.718259</td>\n",
       "      <td>0</td>\n",
       "      <td>0</td>\n",
       "      <td>0</td>\n",
       "      <td>0</td>\n",
       "      <td>0</td>\n",
       "      <td>0</td>\n",
       "      <td>1</td>\n",
       "      <td>0</td>\n",
       "      <td>0</td>\n",
       "      <td>0</td>\n",
       "      <td>0</td>\n",
       "    </tr>\n",
       "    <tr>\n",
       "      <th>2590</th>\n",
       "      <td>0.411282</td>\n",
       "      <td>0</td>\n",
       "      <td>0</td>\n",
       "      <td>0</td>\n",
       "      <td>0</td>\n",
       "      <td>0</td>\n",
       "      <td>0</td>\n",
       "      <td>0</td>\n",
       "      <td>0</td>\n",
       "      <td>1</td>\n",
       "      <td>0</td>\n",
       "      <td>1</td>\n",
       "    </tr>\n",
       "    <tr>\n",
       "      <th>3821</th>\n",
       "      <td>-1.116015</td>\n",
       "      <td>0</td>\n",
       "      <td>0</td>\n",
       "      <td>0</td>\n",
       "      <td>0</td>\n",
       "      <td>0</td>\n",
       "      <td>0</td>\n",
       "      <td>0</td>\n",
       "      <td>0</td>\n",
       "      <td>0</td>\n",
       "      <td>1</td>\n",
       "      <td>0</td>\n",
       "    </tr>\n",
       "    <tr>\n",
       "      <th>435</th>\n",
       "      <td>-0.634301</td>\n",
       "      <td>0</td>\n",
       "      <td>0</td>\n",
       "      <td>0</td>\n",
       "      <td>0</td>\n",
       "      <td>0</td>\n",
       "      <td>0</td>\n",
       "      <td>0</td>\n",
       "      <td>1</td>\n",
       "      <td>0</td>\n",
       "      <td>0</td>\n",
       "      <td>0</td>\n",
       "    </tr>\n",
       "  </tbody>\n",
       "</table>\n",
       "</div>"
      ],
      "text/plain": [
       "      Total Time Spent on Website  Last Activity_Converted to Lead  \\\n",
       "2726                    -0.064832                                1   \n",
       "1041                     1.718259                                0   \n",
       "2590                     0.411282                                0   \n",
       "3821                    -1.116015                                0   \n",
       "435                     -0.634301                                0   \n",
       "\n",
       "      Last Activity_Email Bounced  \\\n",
       "2726                            0   \n",
       "1041                            0   \n",
       "2590                            0   \n",
       "3821                            0   \n",
       "435                             0   \n",
       "\n",
       "      What is your current occupation_Working Professional  Tags_Busy  \\\n",
       "2726                                                  1             0   \n",
       "1041                                                  0             0   \n",
       "2590                                                  0             0   \n",
       "3821                                                  0             0   \n",
       "435                                                   0             0   \n",
       "\n",
       "      Tags_Closed by Horizzon  Tags_Lost to EINS  Tags_None  Tags_Ringing  \\\n",
       "2726                        0                  0          0             0   \n",
       "1041                        0                  0          1             0   \n",
       "2590                        0                  0          0             0   \n",
       "3821                        0                  0          0             0   \n",
       "435                         0                  0          0             1   \n",
       "\n",
       "      Tags_Will revert after reading the email  Tags_switched off  \\\n",
       "2726                                         1                  0   \n",
       "1041                                         0                  0   \n",
       "2590                                         1                  0   \n",
       "3821                                         0                  1   \n",
       "435                                          0                  0   \n",
       "\n",
       "      Last Notable Activity_SMS Sent  \n",
       "2726                               0  \n",
       "1041                               0  \n",
       "2590                               1  \n",
       "3821                               0  \n",
       "435                                0  "
      ]
     },
     "execution_count": 117,
     "metadata": {},
     "output_type": "execute_result"
    }
   ],
   "source": [
    "X_test.head()"
   ]
  },
  {
   "cell_type": "code",
   "execution_count": 118,
   "id": "66a6f1f7-2062-44f9-8102-798818ad93e1",
   "metadata": {},
   "outputs": [],
   "source": [
    "X_test_sm = sm.add_constant(X_test)"
   ]
  },
  {
   "cell_type": "markdown",
   "id": "2a226b8f-efbe-4899-a3d0-28140cc4cad4",
   "metadata": {},
   "source": [
    "#### Prediction On Test Set"
   ]
  },
  {
   "cell_type": "code",
   "execution_count": 120,
   "id": "64c491ac-e853-4168-a64e-627a769fd543",
   "metadata": {},
   "outputs": [],
   "source": [
    "y_test_pred = result_2.predict(X_test_sm)"
   ]
  },
  {
   "cell_type": "code",
   "execution_count": 122,
   "id": "71cf5014-423f-4ccb-ade6-459afb54216d",
   "metadata": {},
   "outputs": [],
   "source": [
    "y_test_pred_df = pd.DataFrame(y_test_pred)"
   ]
  },
  {
   "cell_type": "code",
   "execution_count": 123,
   "id": "9a740125-a3c7-4a15-8211-b2771062b344",
   "metadata": {},
   "outputs": [],
   "source": [
    "y_test_pred_df['Primary Key'] = y_test_pred.index"
   ]
  },
  {
   "cell_type": "code",
   "execution_count": 127,
   "id": "6aa4ed03-5bea-4cfc-936f-85e3461bd8f0",
   "metadata": {},
   "outputs": [],
   "source": [
    "y_test_df = pd.DataFrame(y_test)\n",
    "y_test_df['Primary Key'] = y_test.index"
   ]
  },
  {
   "cell_type": "code",
   "execution_count": 131,
   "id": "a6b448a1-e02e-4874-b95d-0225aa681358",
   "metadata": {},
   "outputs": [],
   "source": [
    "y_test_df.reset_index(drop=True, inplace=True)\n",
    "y_test_pred_df.reset_index(drop=True, inplace=True)"
   ]
  },
  {
   "cell_type": "code",
   "execution_count": 135,
   "id": "6a35e1b4-f520-49b3-a0d7-f06d74efd59e",
   "metadata": {},
   "outputs": [],
   "source": [
    "y_predicted_final = pd.concat([y_test_df, y_test_pred_df], axis=1)"
   ]
  },
  {
   "cell_type": "code",
   "execution_count": 138,
   "id": "1b11a047-c340-4f29-b432-59752e7691ba",
   "metadata": {},
   "outputs": [],
   "source": [
    "y_predicted_final.rename(columns={ 0 : 'Probability'}, inplace=True)"
   ]
  },
  {
   "cell_type": "code",
   "execution_count": 142,
   "id": "d1c8477e-528c-4b31-8459-2a8fefac4709",
   "metadata": {},
   "outputs": [
    {
     "data": {
      "text/html": [
       "<div>\n",
       "<style scoped>\n",
       "    .dataframe tbody tr th:only-of-type {\n",
       "        vertical-align: middle;\n",
       "    }\n",
       "\n",
       "    .dataframe tbody tr th {\n",
       "        vertical-align: top;\n",
       "    }\n",
       "\n",
       "    .dataframe thead th {\n",
       "        text-align: right;\n",
       "    }\n",
       "</style>\n",
       "<table border=\"1\" class=\"dataframe\">\n",
       "  <thead>\n",
       "    <tr style=\"text-align: right;\">\n",
       "      <th></th>\n",
       "      <th>Converted</th>\n",
       "      <th>Primary Key</th>\n",
       "      <th>Probability</th>\n",
       "      <th>Primary Key</th>\n",
       "      <th>Predicted</th>\n",
       "    </tr>\n",
       "  </thead>\n",
       "  <tbody>\n",
       "    <tr>\n",
       "      <th>0</th>\n",
       "      <td>1</td>\n",
       "      <td>2726</td>\n",
       "      <td>0.896421</td>\n",
       "      <td>2726</td>\n",
       "      <td>1</td>\n",
       "    </tr>\n",
       "    <tr>\n",
       "      <th>1</th>\n",
       "      <td>0</td>\n",
       "      <td>1041</td>\n",
       "      <td>0.535539</td>\n",
       "      <td>1041</td>\n",
       "      <td>1</td>\n",
       "    </tr>\n",
       "    <tr>\n",
       "      <th>2</th>\n",
       "      <td>1</td>\n",
       "      <td>2590</td>\n",
       "      <td>0.994344</td>\n",
       "      <td>2590</td>\n",
       "      <td>1</td>\n",
       "    </tr>\n",
       "    <tr>\n",
       "      <th>3</th>\n",
       "      <td>0</td>\n",
       "      <td>3821</td>\n",
       "      <td>0.001066</td>\n",
       "      <td>3821</td>\n",
       "      <td>0</td>\n",
       "    </tr>\n",
       "    <tr>\n",
       "      <th>4</th>\n",
       "      <td>0</td>\n",
       "      <td>435</td>\n",
       "      <td>0.003392</td>\n",
       "      <td>435</td>\n",
       "      <td>0</td>\n",
       "    </tr>\n",
       "  </tbody>\n",
       "</table>\n",
       "</div>"
      ],
      "text/plain": [
       "   Converted  Primary Key  Probability  Primary Key  Predicted\n",
       "0          1         2726     0.896421         2726          1\n",
       "1          0         1041     0.535539         1041          1\n",
       "2          1         2590     0.994344         2590          1\n",
       "3          0         3821     0.001066         3821          0\n",
       "4          0          435     0.003392          435          0"
      ]
     },
     "execution_count": 142,
     "metadata": {},
     "output_type": "execute_result"
    }
   ],
   "source": [
    "y_predicted_final.head()"
   ]
  },
  {
   "cell_type": "code",
   "execution_count": 141,
   "id": "613b0a0f-4c61-4fe8-8bc3-29a6f961beaa",
   "metadata": {},
   "outputs": [],
   "source": [
    "y_predicted_final['Predicted'] = y_predicted_final['Probability'].apply(lambda x : 1 if x>0.3 else 0)"
   ]
  },
  {
   "cell_type": "code",
   "execution_count": 145,
   "id": "0c22f73a-b275-4a4d-9648-d852a0535f9b",
   "metadata": {},
   "outputs": [
    {
     "data": {
      "text/plain": [
       "91.57"
      ]
     },
     "execution_count": 145,
     "metadata": {},
     "output_type": "execute_result"
    }
   ],
   "source": [
    "### accuracy calc\n",
    "round((metrics.accuracy_score(y_predicted_final['Converted'], y_predicted_final['Predicted']))*100,2)"
   ]
  },
  {
   "cell_type": "code",
   "execution_count": 146,
   "id": "536fecd5-aae0-4dd9-8f09-d9a8329cc38c",
   "metadata": {},
   "outputs": [
    {
     "data": {
      "text/plain": [
       "array([[1021,   98],\n",
       "       [  55,  642]], dtype=int64)"
      ]
     },
     "execution_count": 146,
     "metadata": {},
     "output_type": "execute_result"
    }
   ],
   "source": [
    "confusion_matrix_2 = metrics.confusion_matrix(y_predicted_final['Converted'], y_predicted_final['Predicted'])\n",
    "confusion_matrix_2"
   ]
  },
  {
   "cell_type": "code",
   "execution_count": 152,
   "id": "042e40d9-7bab-49ff-a223-b2d4dc0bb690",
   "metadata": {},
   "outputs": [],
   "source": [
    "true_positive = confusion_matrix_2[1,1]\n",
    "true_negative = confusion_matrix_2[0,0]\n",
    "false_positive = confusion_matrix_2[0,1]\n",
    "false_negative = confusion_matrix_2[1,0]"
   ]
  },
  {
   "cell_type": "code",
   "execution_count": 153,
   "id": "d5b55c72-820d-426b-a721-c0f7c1b03b51",
   "metadata": {},
   "outputs": [
    {
     "data": {
      "text/plain": [
       "92.11"
      ]
     },
     "execution_count": 153,
     "metadata": {},
     "output_type": "execute_result"
    }
   ],
   "source": [
    "### calculating sensitivity\n",
    "round((true_positive/(true_positive + false_negative))*100,2)"
   ]
  },
  {
   "cell_type": "code",
   "execution_count": 154,
   "id": "b8a8e588-88ff-4911-a4e3-70abb8a32839",
   "metadata": {},
   "outputs": [
    {
     "data": {
      "text/plain": [
       "91.24"
      ]
     },
     "execution_count": 154,
     "metadata": {},
     "output_type": "execute_result"
    }
   ],
   "source": [
    "### calculating specificity\n",
    "round((true_negative/(true_negative + false_positive))*100,2)"
   ]
  },
  {
   "cell_type": "code",
   "execution_count": 155,
   "id": "b36f6016-db3b-420c-be02-1acf07486fe2",
   "metadata": {},
   "outputs": [
    {
     "data": {
      "text/plain": [
       "86.76"
      ]
     },
     "execution_count": 155,
     "metadata": {},
     "output_type": "execute_result"
    }
   ],
   "source": [
    "### precision\n",
    "round((true_positive / (true_positive + false_positive))*100,2)"
   ]
  },
  {
   "cell_type": "code",
   "execution_count": 156,
   "id": "39e5cda9-f582-4b12-a57d-4a3a3113d5eb",
   "metadata": {},
   "outputs": [
    {
     "data": {
      "text/plain": [
       "92.11"
      ]
     },
     "execution_count": 156,
     "metadata": {},
     "output_type": "execute_result"
    }
   ],
   "source": [
    "### recall\n",
    "round((true_positive / (true_positive + false_negative))*100,2)"
   ]
  },
  {
   "cell_type": "markdown",
   "id": "6d3fa755-a615-47e6-955a-fa9c9c093a60",
   "metadata": {},
   "source": [
    "### Comparision Between Train and Test Scores"
   ]
  },
  {
   "cell_type": "markdown",
   "id": "bd751ee2-113e-4967-ab54-7d08bf6e9a85",
   "metadata": {},
   "source": [
    "Training:\n",
    "    \n",
    "    Accuracy: 91.48%\n",
    "    \n",
    "    Sensitivity: 92.68%\n",
    "    \n",
    "    Specificity: 90.76%\n",
    "        \n",
    "Testing:\n",
    "    \n",
    "    Accuracy: 91.57%\n",
    "        \n",
    "    Sensitivity: 92.11%\n",
    "        \n",
    "    Specificity: 91.24%"
   ]
  },
  {
   "cell_type": "markdown",
   "id": "0b679dcf-4dd8-4bf5-a448-1465817c3d52",
   "metadata": {},
   "source": [
    "#### It's evident that the model is able to predict the conversion lead very well"
   ]
  }
 ],
 "metadata": {
  "kernelspec": {
   "display_name": "Python 3 (ipykernel)",
   "language": "python",
   "name": "python3"
  },
  "language_info": {
   "codemirror_mode": {
    "name": "ipython",
    "version": 3
   },
   "file_extension": ".py",
   "mimetype": "text/x-python",
   "name": "python",
   "nbconvert_exporter": "python",
   "pygments_lexer": "ipython3",
   "version": "3.9.13"
  }
 },
 "nbformat": 4,
 "nbformat_minor": 5
}
